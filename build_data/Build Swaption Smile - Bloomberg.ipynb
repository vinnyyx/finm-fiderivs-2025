{
 "cells": [
  {
   "cell_type": "markdown",
   "id": "4390df7f",
   "metadata": {},
   "source": [
    "# Note\n",
    "\n",
    "Bloomberg's API for volcube data is insufficient.\n",
    "* Need access to `BVOL` API source.\n",
    "\n",
    "This is a rare case where it might make sense to just get the data manually from `VCUB`.\n",
    "* Actions\n",
    "* Export to Excel\n",
    "\n",
    "Recommended settings:\n",
    "* `RFR` top-left box.\n",
    "* `Analyze Cube` tab has more options. `Market Data` tab is promising for API but underdelivers.\n",
    "* `Show Vol: Black`. For pedagogy, useful to get the Black quotes, or could practice converting them from Normal.\n",
    "* `View:` Very useful options here."
   ]
  },
  {
   "cell_type": "code",
   "execution_count": 1,
   "id": "a2943b64",
   "metadata": {},
   "outputs": [],
   "source": [
    "import pandas as pd\n",
    "import numpy as np\n",
    "from xbbg import blp"
   ]
  },
  {
   "cell_type": "markdown",
   "id": "0f2c950a",
   "metadata": {},
   "source": [
    "# Download Bloomberg Data"
   ]
  },
  {
   "cell_type": "code",
   "execution_count": 2,
   "id": "b7111a47",
   "metadata": {},
   "outputs": [],
   "source": [
    "DATE = '2025-02-20'\n",
    "STARTDATE = '2024-09-01'\n",
    "ENDDATE = DATE\n",
    "tenorcode = '12'"
   ]
  },
  {
   "cell_type": "markdown",
   "id": "79bafe6f",
   "metadata": {},
   "source": [
    "Consider using the `fld` of `days_to_mty` for more accurate day-count calculations."
   ]
  },
  {
   "cell_type": "code",
   "execution_count": 3,
   "id": "49b709cc",
   "metadata": {},
   "outputs": [],
   "source": [
    "SAVEDATA = True\n",
    "OUTFILE = 'swaption_ivols' + '_' + DATE"
   ]
  },
  {
   "cell_type": "markdown",
   "id": "f48d55aa",
   "metadata": {},
   "source": [
    "### Swaptions on VCUB\n",
    "\n",
    "Use Bloomberg's `VCUB` command to access their volatility cube tool. \n",
    "* Quoted as Normal OIS or Normal Skew\n",
    "* Click \"market data\" to access another tab for smile\n",
    "* See strikes by ticking the checkbox\n",
    "* Get individual tickers from VCUB \"market data\" and right click on the grid.\n",
    "\n",
    "Note that the cap tickers are not typical.\n",
    "* Do not list data unless using SMKO source, (as opposed to BVOL) in the API."
   ]
  },
  {
   "cell_type": "markdown",
   "id": "dd27bd2e",
   "metadata": {},
   "source": [
    "## Better Route?\n",
    "\n",
    "**Bloomberg Help says no curve API for this.**\n",
    "\n",
    "Use Curve API?\n",
    "\n",
    "`BVOL_RFR_SWAPTION`\n",
    "\n",
    "`BVOL_RFR_SWAPTION_ATM`\n",
    "\n",
    "`BVOL_OIS_SWAPTION`\n",
    "\n",
    "`BVOL_IBOR_SWAPTION`\n",
    "\n",
    "`BVOL_ATM_SWAPTION_VOL`"
   ]
  },
  {
   "cell_type": "markdown",
   "id": "ebb34eb5",
   "metadata": {},
   "source": [
    "## Tickers\n",
    "\n",
    "In VCUB, note box for `RFR` vs `IBOR` quotes.\n",
    "\n",
    "#### Problem\n",
    "Subscription doesn't seem to include `BVOL` source.\n",
    "\n",
    "The OTM tickers do not return values in the API, even with SMKO source.\n",
    "\n",
    "Seemingly, the only way to get OTM quotes is manually from the VCUB dashboard.\n",
    "\n",
    "The ATM quotes work for RF and IBOR, so long as SMKO source is specified."
   ]
  },
  {
   "cell_type": "code",
   "execution_count": 4,
   "id": "441a2222",
   "metadata": {},
   "outputs": [],
   "source": [
    "fld = ['swap_primary_index','quote_units','base_crncy','maturity','mty_years', 'mty_years_tdy', 'days_to_mty_tdy','security_tenor_one','security_tenor_two']"
   ]
  },
  {
   "cell_type": "code",
   "execution_count": 5,
   "id": "12b1d214",
   "metadata": {},
   "outputs": [],
   "source": [
    "doSOFR = True\n",
    "\n",
    "yellowky = 'Curncy'\n",
    "SOURCE = 'SMKO'\n",
    "\n",
    "if doSOFR:\n",
    "    tickcode = 'USW'\n",
    "    strikecodelist = ['G','D','C','B','L','M','O','R']\n",
    "    tickATMcode = 'USSNA'\n",
    "    ticks = [f'{tickcode}{strikecode}{tenorcode} {SOURCE} {yellowky}' for strikecode in strikecodelist]    \n",
    "\n",
    "else:\n",
    "    tickcode_down = 'USSR'\n",
    "    tickcode_up = 'USSP'\n",
    "    strikecodelist = ['D','C','B','A']\n",
    "    tickATMcode = 'USSNO'\n",
    "    \n",
    "    ticks_down = [f'{tickcode_down}{strikecode}{tenorcode} {SOURCE} {yellowky}' for strikecode in strikecodelist]\n",
    "    ticks_up = [f'{tickcode_down}{strikecode}{tenorcode} {SOURCE} {yellowky}' for strikecode in strikecodelist]    \n",
    "    ticks = ticks_down + ticks_up\n",
    "    \n",
    "tickATM = f'{tickATMcode}{tenorcode} {SOURCE} {yellowky}'\n",
    "ticks.append(tickATM)"
   ]
  },
  {
   "cell_type": "markdown",
   "id": "26cdb42f",
   "metadata": {},
   "source": [
    "### ATM Tickers Over Expiry/Tenor\n",
    "\n",
    "Notwithstanding the problems in automated OTM Quotes, pull ATM quotes for various Tenors/Expiries."
   ]
  },
  {
   "cell_type": "code",
   "execution_count": 6,
   "id": "b9d55b09",
   "metadata": {},
   "outputs": [],
   "source": [
    "tenors = []\n",
    "for exp in np.arange(1,6):\n",
    "    for ten in np.arange(1,6):\n",
    "        tenors.append(f'{exp}{ten}')\n",
    "\n",
    "ticks = [f'{tickATMcode}{code} {SOURCE} {yellowky}' for code in tenors]"
   ]
  },
  {
   "cell_type": "markdown",
   "id": "194856ce",
   "metadata": {},
   "source": [
    "# Download Data"
   ]
  },
  {
   "cell_type": "code",
   "execution_count": 7,
   "id": "34f5205a",
   "metadata": {},
   "outputs": [],
   "source": [
    "data = blp.bdh(tickers=ticks, flds='last_price',\\\n",
    "        start_date=STARTDATE, end_date=ENDDATE)#.droplevel(level=1,axis=1)\n",
    "data.index.name = 'date'\n",
    "\n",
    "info = blp.bdp(tickers=ticks, flds=fld).sort_values('mty_years')\n",
    "info.index.name = 'ticker'"
   ]
  },
  {
   "cell_type": "markdown",
   "id": "ba3fa1d5",
   "metadata": {},
   "source": [
    "### Save Data"
   ]
  },
  {
   "cell_type": "code",
   "execution_count": 8,
   "id": "1cbcf110",
   "metadata": {},
   "outputs": [],
   "source": [
    "if SAVEDATA:\n",
    "    outfile = f'../data/{OUTFILE}.xlsx'\n",
    "    with pd.ExcelWriter(outfile) as writer:  \n",
    "        info.to_excel(writer, sheet_name= 'info', index=True)\n",
    "        data.to_excel(writer, sheet_name= 'normal vol (ATM)', index=True)"
   ]
  },
  {
   "cell_type": "markdown",
   "id": "585e2a0e",
   "metadata": {},
   "source": [
    "***"
   ]
  }
 ],
 "metadata": {
  "hide_input": false,
  "kernelspec": {
   "display_name": "Python 3 (ipykernel)",
   "language": "python",
   "name": "python3"
  },
  "language_info": {
   "codemirror_mode": {
    "name": "ipython",
    "version": 3
   },
   "file_extension": ".py",
   "mimetype": "text/x-python",
   "name": "python",
   "nbconvert_exporter": "python",
   "pygments_lexer": "ipython3",
   "version": "3.13.1"
  }
 },
 "nbformat": 4,
 "nbformat_minor": 5
}
