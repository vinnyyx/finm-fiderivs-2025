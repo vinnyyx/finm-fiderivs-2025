{
 "cells": [
  {
   "cell_type": "code",
   "execution_count": 1,
   "id": "a07ca3b3",
   "metadata": {},
   "outputs": [],
   "source": [
    "import pandas as pd\n",
    "import numpy as np\n",
    "from xbbg import blp"
   ]
  },
  {
   "cell_type": "code",
   "execution_count": 2,
   "id": "93122f7c",
   "metadata": {},
   "outputs": [],
   "source": [
    "DATE = '2025-01-31'\n",
    "tickfut = 'FVM5 Comdty'\n",
    "ticks = [tickfut]"
   ]
  },
  {
   "cell_type": "code",
   "execution_count": 3,
   "id": "638c07a9",
   "metadata": {},
   "outputs": [],
   "source": [
    "SAVEDATA = True\n",
    "OUTFILE = f'fut_bond_data_{tickfut.split()[0]}_{DATE}'"
   ]
  },
  {
   "cell_type": "markdown",
   "id": "09790d85",
   "metadata": {},
   "source": [
    "# Download Bloomberg Data"
   ]
  },
  {
   "cell_type": "markdown",
   "id": "da9edff4",
   "metadata": {},
   "source": [
    "Get the active 5-year Treasury future `FVA Comdty`."
   ]
  },
  {
   "cell_type": "code",
   "execution_count": 4,
   "id": "3d38bf6d",
   "metadata": {},
   "outputs": [],
   "source": [
    "flds = ['LAST_UPDATE_DT','PX_LAST','LAST_TRADEABLE_DT','FUT_DLV_DT_LAST','FUT_DAYS_EXPIRE']\n",
    "ctdflds = ['FUT_CTD','FUT_CTD_PX','FUT_CTD_GROSS_BASIS','FUT_CTD_NET_BASIS']\n",
    "blkflds = ['FUT_DLVRBLE_BNDS_CUSIPS']\n",
    "bondflds = ['LAST_UPDATE_DT','PX_LAST','MATURITY','DAYS_TO_MTY','DUR_ADJ_MID','CPN','NXT_CPN_DT','DAYS_TO_NEXT_COUPON','INT_ACC','ACCRUED_DAYS_BETWEEN_CPN_DATES','DAYS_ACC','BASIS_MID','REPO_IMPLIED_REPORATE','REPO_REPORATE']"
   ]
  },
  {
   "cell_type": "markdown",
   "id": "e221672e",
   "metadata": {},
   "source": [
    "Get a list of deliverable bonds.\n",
    "* Bloomberg screen for the future\n",
    "* `DLV` Screen in BB gives list, export it to Excel and load tickers here."
   ]
  },
  {
   "cell_type": "code",
   "execution_count": 5,
   "id": "b71d8cbf",
   "metadata": {},
   "outputs": [],
   "source": [
    "futdata = blp.bdp(tickers=ticks, flds=flds+ctdflds).T\n",
    "futdata.index.name = 'field'\n",
    "\n",
    "dlvrs = blp.bds(tickers=ticks, flds=blkflds)\n",
    "dlvrs.columns = ['ticker','conversion']\n",
    "dlvrs.set_index('ticker',inplace=True)\n",
    "\n",
    "bonddata = blp.bdp(tickers=dlvrs.index, flds=bondflds).join(dlvrs)\n",
    "bonddata.index.name = 'ticker'"
   ]
  },
  {
   "cell_type": "markdown",
   "id": "527006c0",
   "metadata": {},
   "source": [
    "### Save Data"
   ]
  },
  {
   "cell_type": "code",
   "execution_count": 6,
   "id": "ca41ffda",
   "metadata": {},
   "outputs": [],
   "source": [
    "if SAVEDATA:\n",
    "    outfile = f'../data/{OUTFILE}.xlsx'\n",
    "    with pd.ExcelWriter(outfile) as writer:  \n",
    "        futdata.to_excel(writer, sheet_name= 'future', index=True)        \n",
    "        bonddata.to_excel(writer, sheet_name= 'bonds', index=True)        "
   ]
  },
  {
   "cell_type": "markdown",
   "id": "5904bc21",
   "metadata": {},
   "source": [
    "***"
   ]
  }
 ],
 "metadata": {
  "kernelspec": {
   "display_name": "Python 3 (ipykernel)",
   "language": "python",
   "name": "python3"
  },
  "language_info": {
   "codemirror_mode": {
    "name": "ipython",
    "version": 3
   },
   "file_extension": ".py",
   "mimetype": "text/x-python",
   "name": "python",
   "nbconvert_exporter": "python",
   "pygments_lexer": "ipython3",
   "version": "3.13.1"
  }
 },
 "nbformat": 4,
 "nbformat_minor": 5
}
