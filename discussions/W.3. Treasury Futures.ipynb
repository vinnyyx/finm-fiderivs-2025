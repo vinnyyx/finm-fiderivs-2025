{
 "cells": [
  {
   "cell_type": "markdown",
   "id": "d76a9b6c",
   "metadata": {},
   "source": [
    "# Treasury Futures\n",
    "\n",
    "\n",
    "## FINM 37500: Fixed Income Derivatives\n",
    "\n",
    "### Mark Hendricks\n",
    "\n",
    "#### Winter 2025"
   ]
  },
  {
   "cell_type": "markdown",
   "id": "0dbef592",
   "metadata": {},
   "source": [
    "#### Notation Commands\n",
    "\n",
    "$$\\newcommand{\\cpn}{\\text{c}}$$\n",
    "$$\\newcommand{\\Tunder}{T_\\text{bond}}$$\n",
    "$$\\newcommand{\\accint}{\\xi}$$\n",
    "$$\\newcommand{\\convert}{\\psi}$$\n",
    "$$\\newcommand{\\ctd}{\\text{ctd}}$$\n",
    "\n",
    "$$\\newcommand{\\refrate}{r^{\\text{ref}}}$$\n",
    "$$\\newcommand{\\pfwd}{P_{\\text{fwd}}}$$\n",
    "$$\\newcommand{\\grossbasis}{\\Gamma}$$\n",
    "$$\\newcommand{\\netbasis}{\\tilde{\\grossbasis}}$$\n",
    "$$\\newcommand{\\pnl}{\\Pi}$$\n",
    "\n",
    "$$\\newcommand{\\years}{\\tau}$$\n",
    "$$\\newcommand{\\yearsACT}{\\years_{\\text{act/360}}}$$\n",
    "\n",
    "$$\\newcommand{\\fwdprice}{\\mathcal{F}_{t\\to T}}$$\n",
    "$$\\newcommand{\\futprice}{F_{t\\to T}}$$\n",
    "\n",
    "$$\\newcommand{\\fwdpriceT}{\\mathcal{F}_{T\\to T}}$$\n",
    "$$\\newcommand{\\futpriceT}{F_{T\\to T}}$$\n",
    "\n",
    "$$\\newcommand{\\fwdpriceDT}{\\mathcal{F}_{t+h\\to T}}$$\n",
    "$$\\newcommand{\\futpriceDT}{F_{t+h\\to T}}$$\n",
    "\n",
    "$$\\newcommand{\\rrepo}{r^{\\text{repo}}}$$\n",
    "$$\\newcommand{\\carry}{\\widetilde{\\cpn}}$$"
   ]
  },
  {
   "cell_type": "markdown",
   "id": "69b592a7",
   "metadata": {},
   "source": [
    "***"
   ]
  },
  {
   "cell_type": "markdown",
   "id": "7a0d74d6",
   "metadata": {},
   "source": [
    "# Forward Pricing"
   ]
  },
  {
   "cell_type": "markdown",
   "id": "055d6e37",
   "metadata": {},
   "source": [
    "### Basics\n",
    "A **forward** agreement is a commitment at $t$ to purchase an asset at time $T$ for a price $\\fwdprice$.\n",
    "* The rate is set such that the **value** of the forward is \\$0 when it is entered.\n",
    "* The value will change over time.\n",
    "* Unlike an option, the net value at expiration could be to either party.\n",
    "\n",
    "This is similar to\n",
    "* swaps\n",
    "* futures\n",
    "\n",
    "Note then that $\\fwdprice$ is not the **value** of the futures contract. \n",
    "* Rather, at the time the contract is entered, the forward price is set such that the value of the contract is 0."
   ]
  },
  {
   "cell_type": "markdown",
   "id": "b21ecf38",
   "metadata": {},
   "source": [
    "### Synthetic Forwards\n",
    "\n",
    "Replicate the forward by \n",
    "* purchasing the asset at $t$\n",
    "* immediately repo it for term to $T$\n",
    "* at $T$, close the repo by repurchasing at $P_t (1+\\rrepo\\yearsACT)$ where \n",
    "    * $\\rrepo$ denotes the simply compounded repo rate\n",
    "    * $\\yearsACT$ denotes the forward interval, $T-t$ measured in (ACT/360)"
   ]
  },
  {
   "cell_type": "markdown",
   "id": "06df431d",
   "metadata": {},
   "source": [
    "### Carry and the Forward Drop?\n",
    "\n",
    "Do you think the forward price is higher or lower than the spot?\n",
    "\n",
    "The **forward drop** is commonly seen as the futures price is typically lower than the spot price.\n",
    "* If coupon is higher than repo, the spot is more attractive, all else equal. Accordingly, future price must be lower than spot.\n",
    "* If coupon is lower than repo, than the forward price should be higher.\n",
    "\n",
    "### Carry\n",
    "Recall that **carry** (in this context) refers to the difference of the coupon of bond $i$ over the short-term (repo) interest rate.\n",
    "\n",
    "$$\\carry^i = \\cpn^i-\\rrepo$$\n",
    "\n",
    "The logic of the forward drop (or forward rise) can be stated as\n",
    "$$\\years\\carry^i = P_t^i - \\fwdprice^i$$\n",
    "\n",
    "#### Note\n",
    "This relationship is analogous to Covered Interest Parity in FX and will approximately hold by no-arbitrage."
   ]
  },
  {
   "cell_type": "markdown",
   "id": "3a8b4b54",
   "metadata": {},
   "source": [
    "## Example\n",
    "\n",
    "T-note with the following specs:\n",
    "* coupon is `4%`\n",
    "* matures `2030-02-28`\n",
    "* issued `2023-02-28`\n",
    "* first coupon `2023-08-31`\n",
    "\n",
    "Now consider pricing a forward in the following environment...\n",
    "* $t=$ `2023-04-18`\n",
    "* forward maturity $T=$ `2023-08-01`\n",
    "* spot price $P_t$ = `102-02`\n",
    "* repo rate is `.0485`"
   ]
  },
  {
   "cell_type": "markdown",
   "id": "a9a40ac7",
   "metadata": {},
   "source": [
    "<img src=\"../refs/c5/Bloomberg synthetic forward example.png\" />\n",
    "\n",
    "Reference: Bloomberg"
   ]
  },
  {
   "cell_type": "code",
   "execution_count": 1,
   "id": "0ed96016",
   "metadata": {
    "jupyter": {
     "source_hidden": true
    }
   },
   "outputs": [],
   "source": [
    "from datetime import datetime\n",
    "from datetime import date\n",
    "\n",
    "date_issue = date(2023,2,28)\n",
    "date_coupon = date(2023,8,31)\n",
    "date_now = date(2023,4,18)\n",
    "date_fwd = date(2023,8,1)\n",
    "\n",
    "days_cpn = (date_coupon - date_issue).days\n",
    "days_accint0 = (date_now - date_issue).days\n",
    "days_accint1 = (date_fwd - date_issue).days\n",
    "days_fwd = (date_fwd - date_now).days"
   ]
  },
  {
   "cell_type": "code",
   "execution_count": 2,
   "id": "0b93d6b0",
   "metadata": {
    "jupyter": {
     "source_hidden": true
    }
   },
   "outputs": [
    {
     "data": {
      "text/html": [
       "<style type=\"text/css\">\n",
       "</style>\n",
       "<table id=\"T_a8761\">\n",
       "  <thead>\n",
       "    <tr>\n",
       "      <th class=\"blank level0\" >&nbsp;</th>\n",
       "      <th id=\"T_a8761_level0_col0\" class=\"col_heading level0 col0\" >prices</th>\n",
       "      <th id=\"T_a8761_level0_col1\" class=\"col_heading level0 col1\" >carry</th>\n",
       "    </tr>\n",
       "  </thead>\n",
       "  <tbody>\n",
       "    <tr>\n",
       "      <th id=\"T_a8761_level0_row0\" class=\"row_heading level0 row0\" >spot</th>\n",
       "      <td id=\"T_a8761_row0_col0\" class=\"data row0 col0\" >102.0625</td>\n",
       "      <td id=\"T_a8761_row0_col1\" class=\"data row0 col1\" >4.0000</td>\n",
       "    </tr>\n",
       "    <tr>\n",
       "      <th id=\"T_a8761_level0_row1\" class=\"row_heading level0 row1\" >forward</th>\n",
       "      <td id=\"T_a8761_row1_col0\" class=\"data row1 col0\" >102.3725</td>\n",
       "      <td id=\"T_a8761_row1_col1\" class=\"data row1 col1\" >4.8500</td>\n",
       "    </tr>\n",
       "    <tr>\n",
       "      <th id=\"T_a8761_level0_row2\" class=\"row_heading level0 row2\" >difference</th>\n",
       "      <td id=\"T_a8761_row2_col0\" class=\"data row2 col0\" >-0.3100</td>\n",
       "      <td id=\"T_a8761_row2_col1\" class=\"data row2 col1\" >-0.2733</td>\n",
       "    </tr>\n",
       "  </tbody>\n",
       "</table>\n"
      ],
      "text/plain": [
       "<pandas.io.formats.style.Styler at 0x11be5d010>"
      ]
     },
     "execution_count": 2,
     "metadata": {},
     "output_type": "execute_result"
    }
   ],
   "source": [
    "import pandas as pd\n",
    "import numpy as np\n",
    "\n",
    "spot = 102+2/32\n",
    "repo = .0485\n",
    "cpn = .04\n",
    "face = 100\n",
    "\n",
    "accint0 = cpn*face/2 * (days_accint0 / days_cpn)\n",
    "accint1 = cpn*face/2 * (days_accint1 / days_cpn)\n",
    "\n",
    "fwd = (spot + accint0) * (1+repo * days_fwd/360) - accint1\n",
    "\n",
    "fwd_spot = pd.DataFrame({'prices':[spot, fwd], 'carry':face*np.array([cpn,repo])}, index=['spot','forward'])\n",
    "fwd_spot.loc['difference'] = [spot-fwd, (accint1-accint0) - face*(repo * days_fwd/360)]\n",
    "fwd_spot.style.format('{:.4f}')"
   ]
  },
  {
   "cell_type": "markdown",
   "id": "1277e13f",
   "metadata": {},
   "source": [
    "***"
   ]
  },
  {
   "cell_type": "markdown",
   "id": "320cd35f",
   "metadata": {},
   "source": [
    "# Forwards vs Futures"
   ]
  },
  {
   "cell_type": "markdown",
   "id": "df93a4aa",
   "metadata": {},
   "source": [
    "Futures are similar to forwards in terms of\n",
    "* pricing\n",
    "* hedging\n",
    "* uses\n",
    "\n",
    "Differ in key ways. Futures...\n",
    "* trade on exchanges, not OTC.\n",
    "* trade a standardized contract\n",
    "* have P&L accrue daily via daily settlement\n",
    "* require a maintenance margin\n",
    "\n",
    "Of these differences, a few consequences are worth highlighting.\n",
    "\n",
    "**Credit risk**\n",
    "* The exchange takes on the credit risk by intermediating both sides of the trade. And the maintenance margin means they have little credit risk. \n",
    "* However, this difference with forwards may be overstated, as recent regulation and practice has seen more forward agreements require intermediation and maintenance margins."
   ]
  },
  {
   "cell_type": "markdown",
   "id": "8e59f3c1",
   "metadata": {},
   "source": [
    "## Daily Settlement\n",
    "\n",
    "**Daily settlement**\n",
    "* The daily realization of P&L does not change the total P&L cashflows (relative to a forward).\n",
    "* It does change the timing. A classic result notes that this creates a pricing impact.\n",
    "\n",
    "### Daily Settlement Reduces Bond Futures Price\n",
    "The negative correlation between rates and the futures (bond) price has a negative impact on the futures price.\n",
    "\n",
    "Long position in futures contract on bond\n",
    "* loses money when rate goes up (and loss is more expensive to finance) \n",
    "* gains when rate goes down, (and opportunity to invest profit is low.) \n",
    "* Thus, the daily settlement timing is unfavorable to long futures position in bonds. \n",
    "\n",
    "Futures price is less than forward price.\n",
    "* But this pricing effect is small for bond futures which are short-term relative to maturity of the bond.\n",
    "* And the short rate (repo) and long rates are not perfectly correlated."
   ]
  },
  {
   "cell_type": "markdown",
   "id": "51c08268",
   "metadata": {},
   "source": [
    "### Tailing the Hedge\n",
    "\n",
    "In practice, daily settlement is notable in how it impacts **hedging**.\n",
    "\n",
    "Let $\\pnl$ denote the daily (book) PnL on the future or forward position.\n",
    "\n",
    "If managing daily risk, note that position's (book) value changing $\\pnl$ impacts futures and forwards differently.\n",
    "* Futures value changes $\\pnl$ immediately due to daily settlement.\n",
    "* Forward value changes by present value of $\\pnl$, denoted $Z(t,T)\\pnl$ given that the P&L will not be realized until the forward term, $T$.\n",
    "\n",
    "Thus, the futures contract is more responsive to daily movements and requires a smaller position to hedge than a forward-based hedge.\n",
    "\n",
    "$$N_t^{\\text{fut}} = Z(t,T)N_t^{\\text{fwd}}$$\n",
    "\n",
    "This difference, (the reduced hedge position in futures,) is known as **tailing the hedge.**\n",
    "\n",
    "#### The Present Value Discount\n",
    "For a short-term futures, (less than a year,) typical to use the repo rate for calculating the present value discount, $Z(t,T)$, rather than the treasury curve:\n",
    "\n",
    "$$Z(t,T) = \\frac{1}{1+r^{\\text{repo}}(t,T)\\yearsACT}$$\n",
    "where $\\yearsACT$ is the forward interval measured in ACT/360 years."
   ]
  },
  {
   "cell_type": "markdown",
   "id": "9d67fff8",
   "metadata": {},
   "source": [
    "## Bond Futures"
   ]
  },
  {
   "cell_type": "markdown",
   "id": "e07ed7b8",
   "metadata": {},
   "source": [
    "See the details for the most-traded bond futures contract: `TY`. \n",
    "* 10-year US Treasury note future\n",
    "* [CME volumes](https://www.cmegroup.com/market-data/browse-data/interest-rate-volume.html?redirect=/market-data/volume-open-interest/interest-rate-volume.html)\n",
    "\n",
    "[CBOT contract details](https://www.cmegroup.com/markets/interest-rates/us-treasury/10-year-us-treasury-note.contractSpecs.html)\n",
    "\n",
    "[Calendar for the future chain](https://www.cmegroup.com/markets/interest-rates/us-treasury/10-year-us-treasury-note.calendar.html)"
   ]
  },
  {
   "cell_type": "markdown",
   "id": "bd89c36c",
   "metadata": {},
   "source": [
    "<img src=\"../refs/CME_treasury_table.png\" />\n",
    "\n",
    "Reference: https://www.cmegroup.com/trading/interest-rates/basics-of-us-treasury-futures.html"
   ]
  },
  {
   "cell_type": "markdown",
   "id": "9de3d919",
   "metadata": {},
   "source": [
    "***"
   ]
  },
  {
   "cell_type": "markdown",
   "id": "bbc30251",
   "metadata": {},
   "source": [
    "# Delivery, Pricing, and CTD\n",
    "\n",
    "In order to increase liquidity, Treasury futures contracts allow for delivery of a range of Treasury bonds, not one particular issue.\n",
    "\n",
    "For example, the \"10\"-year futures contract contains optionality with regard to which treausury can be delivered.\n",
    "* Any US Treasury note with maturity between 6.5-10 years.\n",
    "* One reason for this is to prevent \"squeezes\", microstructure issues, etc.\n",
    "\n",
    "\n",
    "### Conversion factors\n",
    "Of course, the deliverable bonds differ in maturity and coupon, and thus range in value.\n",
    "\n",
    "To account for this, CBOT uses a **conversion factor** such that the futures price at delivery for bond $i$ is\n",
    "$$\\futpriceT\\convert^i$$\n",
    "\n",
    "These conversion factors are the value of the bond is the value using a flat YTM curve at 6\\%."
   ]
  },
  {
   "cell_type": "markdown",
   "id": "1f218140",
   "metadata": {},
   "source": [
    "### Example: Futures Contract on 5-Year T-Note"
   ]
  },
  {
   "cell_type": "code",
   "execution_count": 3,
   "id": "b3f33b31",
   "metadata": {
    "jupyter": {
     "source_hidden": true
    }
   },
   "outputs": [],
   "source": [
    "DATE = '2023-04-21'\n",
    "futtick = 'FVU3'\n",
    "\n",
    "DATE = '2025-02-25'\n",
    "futtick = 'FVM5'\n",
    "\n",
    "FREQ = 52\n",
    "FACE = 100\n",
    "\n",
    "## Load Market Data\n",
    "futdata = pd.read_excel(f'../data/fut_bond_data_{futtick}_{DATE}.xlsx', sheet_name=f'future').set_index('field').iloc[:,0]"
   ]
  },
  {
   "cell_type": "code",
   "execution_count": 4,
   "id": "d9b209fa",
   "metadata": {},
   "outputs": [
    {
     "data": {
      "text/html": [
       "<style type=\"text/css\">\n",
       "</style>\n",
       "<table id=\"T_212a6\">\n",
       "  <thead>\n",
       "    <tr>\n",
       "      <th class=\"blank level0\" >&nbsp;</th>\n",
       "      <th id=\"T_212a6_level0_col0\" class=\"col_heading level0 col0\" >FVM5 Comdty</th>\n",
       "    </tr>\n",
       "    <tr>\n",
       "      <th class=\"index_name level0\" >field</th>\n",
       "      <th class=\"blank col0\" >&nbsp;</th>\n",
       "    </tr>\n",
       "  </thead>\n",
       "  <tbody>\n",
       "    <tr>\n",
       "      <th id=\"T_212a6_level0_row0\" class=\"row_heading level0 row0\" >last_update_dt</th>\n",
       "      <td id=\"T_212a6_row0_col0\" class=\"data row0 col0\" >2025-02-26</td>\n",
       "    </tr>\n",
       "    <tr>\n",
       "      <th id=\"T_212a6_level0_row1\" class=\"row_heading level0 row1\" >last_tradeable_dt</th>\n",
       "      <td id=\"T_212a6_row1_col0\" class=\"data row1 col0\" >2025-06-30</td>\n",
       "    </tr>\n",
       "    <tr>\n",
       "      <th id=\"T_212a6_level0_row2\" class=\"row_heading level0 row2\" >fut_dlv_dt_last</th>\n",
       "      <td id=\"T_212a6_row2_col0\" class=\"data row2 col0\" >2025-07-03</td>\n",
       "    </tr>\n",
       "  </tbody>\n",
       "</table>\n"
      ],
      "text/plain": [
       "<pandas.io.formats.style.Styler at 0x11fbab110>"
      ]
     },
     "execution_count": 4,
     "metadata": {},
     "output_type": "execute_result"
    }
   ],
   "source": [
    "flds_info = ['last_update_dt','last_tradeable_dt','fut_dlv_dt_last']\n",
    "futdata.loc[flds_info].to_frame().style.format('{:%Y-%m-%d}')"
   ]
  },
  {
   "cell_type": "code",
   "execution_count": 5,
   "id": "6eaae733",
   "metadata": {},
   "outputs": [
    {
     "data": {
      "text/html": [
       "<style type=\"text/css\">\n",
       "</style>\n",
       "<table id=\"T_21547\">\n",
       "  <thead>\n",
       "    <tr>\n",
       "      <th class=\"blank level0\" >&nbsp;</th>\n",
       "      <th id=\"T_21547_level0_col0\" class=\"col_heading level0 col0\" >FVM5 Comdty</th>\n",
       "    </tr>\n",
       "    <tr>\n",
       "      <th class=\"index_name level0\" >field</th>\n",
       "      <th class=\"blank col0\" >&nbsp;</th>\n",
       "    </tr>\n",
       "  </thead>\n",
       "  <tbody>\n",
       "    <tr>\n",
       "      <th id=\"T_21547_level0_row0\" class=\"row_heading level0 row0\" >px_last</th>\n",
       "      <td id=\"T_21547_row0_col0\" class=\"data row0 col0\" >107.41</td>\n",
       "    </tr>\n",
       "  </tbody>\n",
       "</table>\n"
      ],
      "text/plain": [
       "<pandas.io.formats.style.Styler at 0x11fba9bd0>"
      ]
     },
     "execution_count": 5,
     "metadata": {},
     "output_type": "execute_result"
    }
   ],
   "source": [
    "flds_price = ['px_last']\n",
    "futdata.loc[flds_price].to_frame().style.format('{:.2f}')"
   ]
  },
  {
   "cell_type": "markdown",
   "id": "ec73d8f7",
   "metadata": {},
   "source": [
    "#### Available T-notes\n",
    "Here are the Treasury notes which could be delivered to satisfy the contract."
   ]
  },
  {
   "cell_type": "code",
   "execution_count": 6,
   "id": "79be32ae",
   "metadata": {
    "jupyter": {
     "source_hidden": true
    }
   },
   "outputs": [
    {
     "data": {
      "text/html": [
       "<style type=\"text/css\">\n",
       "</style>\n",
       "<table id=\"T_d8a0f\">\n",
       "  <thead>\n",
       "    <tr>\n",
       "      <th class=\"blank level0\" >&nbsp;</th>\n",
       "      <th id=\"T_d8a0f_level0_col0\" class=\"col_heading level0 col0\" >maturity</th>\n",
       "      <th id=\"T_d8a0f_level0_col1\" class=\"col_heading level0 col1\" >px_last</th>\n",
       "      <th id=\"T_d8a0f_level0_col2\" class=\"col_heading level0 col2\" >cpn</th>\n",
       "      <th id=\"T_d8a0f_level0_col3\" class=\"col_heading level0 col3\" >conversion</th>\n",
       "    </tr>\n",
       "    <tr>\n",
       "      <th class=\"index_name level0\" >ticker</th>\n",
       "      <th class=\"blank col0\" >&nbsp;</th>\n",
       "      <th class=\"blank col1\" >&nbsp;</th>\n",
       "      <th class=\"blank col2\" >&nbsp;</th>\n",
       "      <th class=\"blank col3\" >&nbsp;</th>\n",
       "    </tr>\n",
       "  </thead>\n",
       "  <tbody>\n",
       "    <tr>\n",
       "      <th id=\"T_d8a0f_level0_row0\" class=\"row_heading level0 row0\" >91282CLK Govt</th>\n",
       "      <td id=\"T_d8a0f_row0_col0\" class=\"data row0 col0\" >2029-08-31</td>\n",
       "      <td id=\"T_d8a0f_row0_col1\" class=\"data row0 col1\" >97.93</td>\n",
       "      <td id=\"T_d8a0f_row0_col2\" class=\"data row0 col2\" >3.62</td>\n",
       "      <td id=\"T_d8a0f_row0_col3\" class=\"data row0 col3\" >0.9135</td>\n",
       "    </tr>\n",
       "    <tr>\n",
       "      <th id=\"T_d8a0f_level0_row1\" class=\"row_heading level0 row1\" >91282CLN Govt</th>\n",
       "      <td id=\"T_d8a0f_row1_col0\" class=\"data row1 col0\" >2029-09-30</td>\n",
       "      <td id=\"T_d8a0f_row1_col1\" class=\"data row1 col1\" >97.34</td>\n",
       "      <td id=\"T_d8a0f_row1_col2\" class=\"data row1 col2\" >3.50</td>\n",
       "      <td id=\"T_d8a0f_row1_col3\" class=\"data row1 col3\" >0.9074</td>\n",
       "    </tr>\n",
       "    <tr>\n",
       "      <th id=\"T_d8a0f_level0_row2\" class=\"row_heading level0 row2\" >91282CLR Govt</th>\n",
       "      <td id=\"T_d8a0f_row2_col0\" class=\"data row2 col0\" >2029-10-31</td>\n",
       "      <td id=\"T_d8a0f_row2_col1\" class=\"data row2 col1\" >99.94</td>\n",
       "      <td id=\"T_d8a0f_row2_col2\" class=\"data row2 col2\" >4.12</td>\n",
       "      <td id=\"T_d8a0f_row2_col3\" class=\"data row2 col3\" >0.9293</td>\n",
       "    </tr>\n",
       "    <tr>\n",
       "      <th id=\"T_d8a0f_level0_row3\" class=\"row_heading level0 row3\" >91282CMA Govt</th>\n",
       "      <td id=\"T_d8a0f_row3_col0\" class=\"data row3 col0\" >2029-11-30</td>\n",
       "      <td id=\"T_d8a0f_row3_col1\" class=\"data row3 col1\" >99.96</td>\n",
       "      <td id=\"T_d8a0f_row3_col2\" class=\"data row3 col2\" >4.12</td>\n",
       "      <td id=\"T_d8a0f_row3_col3\" class=\"data row3 col3\" >0.9281</td>\n",
       "    </tr>\n",
       "    <tr>\n",
       "      <th id=\"T_d8a0f_level0_row4\" class=\"row_heading level0 row4\" >91282CMD Govt</th>\n",
       "      <td id=\"T_d8a0f_row4_col0\" class=\"data row4 col0\" >2029-12-31</td>\n",
       "      <td id=\"T_d8a0f_row4_col1\" class=\"data row4 col1\" >101.01</td>\n",
       "      <td id=\"T_d8a0f_row4_col2\" class=\"data row4 col2\" >4.38</td>\n",
       "      <td id=\"T_d8a0f_row4_col3\" class=\"data row4 col3\" >0.9367</td>\n",
       "    </tr>\n",
       "    <tr>\n",
       "      <th id=\"T_d8a0f_level0_row5\" class=\"row_heading level0 row5\" >91282CMG Govt</th>\n",
       "      <td id=\"T_d8a0f_row5_col0\" class=\"data row5 col0\" >2030-01-31</td>\n",
       "      <td id=\"T_d8a0f_row5_col1\" class=\"data row5 col1\" >100.47</td>\n",
       "      <td id=\"T_d8a0f_row5_col2\" class=\"data row5 col2\" >4.25</td>\n",
       "      <td id=\"T_d8a0f_row5_col3\" class=\"data row5 col3\" >0.9307</td>\n",
       "    </tr>\n",
       "  </tbody>\n",
       "</table>\n"
      ],
      "text/plain": [
       "<pandas.io.formats.style.Styler at 0x11bedc190>"
      ]
     },
     "execution_count": 6,
     "metadata": {},
     "output_type": "execute_result"
    }
   ],
   "source": [
    "bonddata = pd.read_excel(f'../data/fut_bond_data_{futtick}_{DATE}.xlsx', sheet_name=f'bonds').set_index('ticker')\n",
    "bondtab = bonddata[['maturity','px_last','cpn','conversion']]\n",
    "bondtab.style.format({'px_last':'{:.2f}','cpn':'{:.2f}','conversion':'{:.4f}','maturity':'{:%Y-%m-%d}'})"
   ]
  },
  {
   "cell_type": "markdown",
   "id": "632bbcd9",
   "metadata": {},
   "source": [
    "### Delivery Cost\n",
    "\n",
    "For a short position, the cost to deliver bond $i$ to close out the futures contract is\n",
    "\n",
    "$$\\text{delivery cost}_T = (P_T^i + \\accint_T^i) - (\\convert^i\n",
    "\\futpriceT + \\accint_T^i) = P_T^i - \\convert^i\\futpriceT$$\n",
    "where\n",
    "* $\\accint$ denotes accrued interest.\n",
    "* $\\psi$ denotes the conversion factor for the bond.\n",
    "\n",
    "Note that accrued interest is received by the short delivering to close out the future.\n",
    "* Thus, accrued interest cancels and is not relevant for the delivery cost.\n",
    "\n",
    "### Cheapest to Deliver\n",
    "\n",
    "Of course, shorts are interested in minimizing delivery cost by selecting the best deliverable bond.\n",
    "\n",
    "Let $P_T^{\\ctd}$ denote the price of the **cheapest to deliver (CTD)** bond.\n",
    "\n",
    "At expiration, no-arbitrage arguments require that the (converted) futures price converges at delivery:\n",
    "$$P_T^{\\ctd} = \\convert^{\\ctd}\\futpriceT$$\n",
    "\n",
    "Thus,\n",
    "$$\\futpriceT = \\frac{P_T^{\\ctd}}{\\convert^{\\ctd}} \\le \\frac{P_T^{i}}{\\convert^{i}}, \\forall i$$"
   ]
  },
  {
   "cell_type": "markdown",
   "id": "549c2874",
   "metadata": {},
   "source": [
    "### Example: CTD Determination\n",
    "Using the conversion factors above, Bloomberg identifies the CTD Treasury note along with its price."
   ]
  },
  {
   "cell_type": "code",
   "execution_count": 7,
   "id": "dc44a2cc",
   "metadata": {},
   "outputs": [
    {
     "data": {
      "text/html": [
       "<style type=\"text/css\">\n",
       "</style>\n",
       "<table id=\"T_63453\">\n",
       "  <thead>\n",
       "    <tr>\n",
       "      <th class=\"blank level0\" >&nbsp;</th>\n",
       "      <th id=\"T_63453_level0_col0\" class=\"col_heading level0 col0\" >FVM5 Comdty</th>\n",
       "    </tr>\n",
       "    <tr>\n",
       "      <th class=\"index_name level0\" >T 3.625 08/31/29</th>\n",
       "      <th class=\"blank col0\" >&nbsp;</th>\n",
       "    </tr>\n",
       "  </thead>\n",
       "  <tbody>\n",
       "    <tr>\n",
       "      <th id=\"T_63453_level0_row0\" class=\"row_heading level0 row0\" >fut_ctd_px</th>\n",
       "      <td id=\"T_63453_row0_col0\" class=\"data row0 col0\" >97.93</td>\n",
       "    </tr>\n",
       "    <tr>\n",
       "      <th id=\"T_63453_level0_row1\" class=\"row_heading level0 row1\" >fut_ctd_gross_basis</th>\n",
       "      <td id=\"T_63453_row1_col0\" class=\"data row1 col0\" >-5.95</td>\n",
       "    </tr>\n",
       "    <tr>\n",
       "      <th id=\"T_63453_level0_row2\" class=\"row_heading level0 row2\" >fut_ctd_net_basis</th>\n",
       "      <td id=\"T_63453_row2_col0\" class=\"data row2 col0\" >1.54</td>\n",
       "    </tr>\n",
       "  </tbody>\n",
       "</table>\n"
      ],
      "text/plain": [
       "<pandas.io.formats.style.Styler at 0x11fba9e50>"
      ]
     },
     "execution_count": 7,
     "metadata": {},
     "output_type": "execute_result"
    }
   ],
   "source": [
    "flds_ctd = ['fut_ctd_px','fut_ctd_gross_basis','fut_ctd_net_basis']\n",
    "temp_ctd_tab = futdata.loc[flds_ctd].to_frame()\n",
    "temp_ctd_tab.index.name = futdata.loc['fut_ctd']\n",
    "temp_ctd_tab.style.format('{:.2f}')"
   ]
  },
  {
   "cell_type": "markdown",
   "id": "24a29a1e",
   "metadata": {},
   "source": [
    "#### Confirm the CTD\n",
    "Does this match what we find from the bond data directly?"
   ]
  },
  {
   "cell_type": "code",
   "execution_count": 8,
   "id": "4b9da027",
   "metadata": {
    "jupyter": {
     "source_hidden": true
    }
   },
   "outputs": [
    {
     "name": "stderr",
     "output_type": "stream",
     "text": [
      "/var/folders/zx/3v_qt0957xzg3nqtnkv007d00000gn/T/ipykernel_19387/1388983133.py:2: SettingWithCopyWarning: \n",
      "A value is trying to be set on a copy of a slice from a DataFrame.\n",
      "Try using .loc[row_indexer,col_indexer] = value instead\n",
      "\n",
      "See the caveats in the documentation: https://pandas.pydata.org/pandas-docs/stable/user_guide/indexing.html#returning-a-view-versus-a-copy\n",
      "  bondtab.loc[:,'delivery price'] = temp\n"
     ]
    },
    {
     "data": {
      "text/html": [
       "<style type=\"text/css\">\n",
       "#T_57fe4_row0_col4 {\n",
       "  background-color: lightgreen;\n",
       "}\n",
       "</style>\n",
       "<table id=\"T_57fe4\">\n",
       "  <thead>\n",
       "    <tr>\n",
       "      <th class=\"blank level0\" >&nbsp;</th>\n",
       "      <th id=\"T_57fe4_level0_col0\" class=\"col_heading level0 col0\" >maturity</th>\n",
       "      <th id=\"T_57fe4_level0_col1\" class=\"col_heading level0 col1\" >px_last</th>\n",
       "      <th id=\"T_57fe4_level0_col2\" class=\"col_heading level0 col2\" >cpn</th>\n",
       "      <th id=\"T_57fe4_level0_col3\" class=\"col_heading level0 col3\" >conversion</th>\n",
       "      <th id=\"T_57fe4_level0_col4\" class=\"col_heading level0 col4\" >delivery price</th>\n",
       "    </tr>\n",
       "    <tr>\n",
       "      <th class=\"index_name level0\" >ticker</th>\n",
       "      <th class=\"blank col0\" >&nbsp;</th>\n",
       "      <th class=\"blank col1\" >&nbsp;</th>\n",
       "      <th class=\"blank col2\" >&nbsp;</th>\n",
       "      <th class=\"blank col3\" >&nbsp;</th>\n",
       "      <th class=\"blank col4\" >&nbsp;</th>\n",
       "    </tr>\n",
       "  </thead>\n",
       "  <tbody>\n",
       "    <tr>\n",
       "      <th id=\"T_57fe4_level0_row0\" class=\"row_heading level0 row0\" >91282CLK Govt</th>\n",
       "      <td id=\"T_57fe4_row0_col0\" class=\"data row0 col0\" >2029-08-31</td>\n",
       "      <td id=\"T_57fe4_row0_col1\" class=\"data row0 col1\" >97.93</td>\n",
       "      <td id=\"T_57fe4_row0_col2\" class=\"data row0 col2\" >3.62</td>\n",
       "      <td id=\"T_57fe4_row0_col3\" class=\"data row0 col3\" >0.9135</td>\n",
       "      <td id=\"T_57fe4_row0_col4\" class=\"data row0 col4\" >107.20</td>\n",
       "    </tr>\n",
       "    <tr>\n",
       "      <th id=\"T_57fe4_level0_row1\" class=\"row_heading level0 row1\" >91282CLN Govt</th>\n",
       "      <td id=\"T_57fe4_row1_col0\" class=\"data row1 col0\" >2029-09-30</td>\n",
       "      <td id=\"T_57fe4_row1_col1\" class=\"data row1 col1\" >97.34</td>\n",
       "      <td id=\"T_57fe4_row1_col2\" class=\"data row1 col2\" >3.50</td>\n",
       "      <td id=\"T_57fe4_row1_col3\" class=\"data row1 col3\" >0.9074</td>\n",
       "      <td id=\"T_57fe4_row1_col4\" class=\"data row1 col4\" >107.28</td>\n",
       "    </tr>\n",
       "    <tr>\n",
       "      <th id=\"T_57fe4_level0_row2\" class=\"row_heading level0 row2\" >91282CLR Govt</th>\n",
       "      <td id=\"T_57fe4_row2_col0\" class=\"data row2 col0\" >2029-10-31</td>\n",
       "      <td id=\"T_57fe4_row2_col1\" class=\"data row2 col1\" >99.94</td>\n",
       "      <td id=\"T_57fe4_row2_col2\" class=\"data row2 col2\" >4.12</td>\n",
       "      <td id=\"T_57fe4_row2_col3\" class=\"data row2 col3\" >0.9293</td>\n",
       "      <td id=\"T_57fe4_row2_col4\" class=\"data row2 col4\" >107.54</td>\n",
       "    </tr>\n",
       "    <tr>\n",
       "      <th id=\"T_57fe4_level0_row3\" class=\"row_heading level0 row3\" >91282CMA Govt</th>\n",
       "      <td id=\"T_57fe4_row3_col0\" class=\"data row3 col0\" >2029-11-30</td>\n",
       "      <td id=\"T_57fe4_row3_col1\" class=\"data row3 col1\" >99.96</td>\n",
       "      <td id=\"T_57fe4_row3_col2\" class=\"data row3 col2\" >4.12</td>\n",
       "      <td id=\"T_57fe4_row3_col3\" class=\"data row3 col3\" >0.9281</td>\n",
       "      <td id=\"T_57fe4_row3_col4\" class=\"data row3 col4\" >107.70</td>\n",
       "    </tr>\n",
       "    <tr>\n",
       "      <th id=\"T_57fe4_level0_row4\" class=\"row_heading level0 row4\" >91282CMD Govt</th>\n",
       "      <td id=\"T_57fe4_row4_col0\" class=\"data row4 col0\" >2029-12-31</td>\n",
       "      <td id=\"T_57fe4_row4_col1\" class=\"data row4 col1\" >101.01</td>\n",
       "      <td id=\"T_57fe4_row4_col2\" class=\"data row4 col2\" >4.38</td>\n",
       "      <td id=\"T_57fe4_row4_col3\" class=\"data row4 col3\" >0.9367</td>\n",
       "      <td id=\"T_57fe4_row4_col4\" class=\"data row4 col4\" >107.83</td>\n",
       "    </tr>\n",
       "    <tr>\n",
       "      <th id=\"T_57fe4_level0_row5\" class=\"row_heading level0 row5\" >91282CMG Govt</th>\n",
       "      <td id=\"T_57fe4_row5_col0\" class=\"data row5 col0\" >2030-01-31</td>\n",
       "      <td id=\"T_57fe4_row5_col1\" class=\"data row5 col1\" >100.47</td>\n",
       "      <td id=\"T_57fe4_row5_col2\" class=\"data row5 col2\" >4.25</td>\n",
       "      <td id=\"T_57fe4_row5_col3\" class=\"data row5 col3\" >0.9307</td>\n",
       "      <td id=\"T_57fe4_row5_col4\" class=\"data row5 col4\" >107.95</td>\n",
       "    </tr>\n",
       "  </tbody>\n",
       "</table>\n"
      ],
      "text/plain": [
       "<pandas.io.formats.style.Styler at 0x11fbabd90>"
      ]
     },
     "execution_count": 8,
     "metadata": {},
     "output_type": "execute_result"
    }
   ],
   "source": [
    "temp = bondtab['px_last'].div(bondtab['conversion'])\n",
    "bondtab.loc[:,'delivery price'] = temp\n",
    "bondtab.style.format({'px_last':'{:.2f}','cpn':'{:.2f}','conversion':'{:.4f}','maturity':'{:%Y-%m-%d}','delivery price':'{:.2f}'}).highlight_min('delivery price',color='lightgreen',axis=0)"
   ]
  },
  {
   "cell_type": "markdown",
   "id": "530b4b8e",
   "metadata": {},
   "source": [
    "### Technical Point: Calculation of the conversion factor\n",
    "Suppose bond $i$ has \n",
    "* coupon rate $\\cpn_i$\n",
    "* maturity $T_i$\n",
    "$$\\begin{align*}\n",
    "\\convert^{i} =& \\displaystyle\\sum_{j=1}^{2T_i}\\frac{\\cpn_i\\,/\\,2}{(1+.06/2)^j} + \\frac{1}{(1+.06/2)^{2T_i}}\\\\\n",
    "=& \\frac{\\cpn_i}{.06}\\left(1-\\frac{1}{(1+.06/2)^{2T_i}}\\right)+\\frac{1}{(1+.06/2)^{2T_i}}\n",
    "\\end{align*}$$ \n",
    "\n",
    "Note that these conversion factors are constant over the length of the futures contract. (Thus no need to subscript the conversion factor with $t$.)"
   ]
  },
  {
   "cell_type": "markdown",
   "id": "cba8b308",
   "metadata": {},
   "source": [
    "### Understanding CTD\n",
    "\n",
    "In a low-rate environment, (such as 2008-2021,) which bonds tend to be CTD?\n",
    "\n",
    "Consider how CTD would change if the term structure of rates...\n",
    "* is flat at 6%.\n",
    "* steepens\n",
    "* flattens\n",
    "\n",
    "Why is the notional discount of 6% used for the CTD calculation?\n",
    "* Is this appropriate in rate environments far from 6%?\n",
    "* Does this lead to arbitrage? And if the notional discount were 10%?"
   ]
  },
  {
   "cell_type": "markdown",
   "id": "fd8c88b8",
   "metadata": {},
   "source": [
    "### CME Example"
   ]
  },
  {
   "cell_type": "markdown",
   "id": "e6839d0f",
   "metadata": {},
   "source": [
    "<img src=\"../refs/treasury_futures_CTD.png\" />\n",
    "\n",
    "https://www.cmegroup.com/education/files/understanding-treasury-futures.pdf"
   ]
  },
  {
   "cell_type": "markdown",
   "id": "0c12715c",
   "metadata": {},
   "source": [
    "***"
   ]
  },
  {
   "cell_type": "markdown",
   "id": "012624e5",
   "metadata": {},
   "source": [
    "# Embedded Optionality of Treasury Futures\n",
    "\n",
    "Bond futures embed several options (to the short) with regard to delivering the underlying bond at expiration.\n",
    "* Quality\n",
    "* Timing\n",
    "* End-of-month\n",
    "* Wildcard\n",
    "\n",
    "\n",
    "## Quality Option\n",
    "The **quality option** refers to the seller's optionality with regard to the CTD.\n",
    "\n",
    "### Technical Point: Determining the CTD Bond\n",
    "Calculating exactly the CTD requires using a derivatives pricing model.\n",
    "* our risk-neutral models on binomial trees are well suited to this task.\n",
    "\n",
    "Above we saw that terminal futures price is\n",
    "$$\\futpriceT = \\frac{P_T^{\\ctd}}{\\convert^{\\ctd}} \\le \\frac{P_T^{i}}{\\convert^{i}}, \\forall i$$\n",
    "\n",
    "But at $t$, there is uncertainty as to which bond will be CTD at $T$. Thus, we have the futures price as the lower envelope of price-conversion ratios at $T$, and strictly below that envelope at $t<T$ due to the value of this quality option.\n",
    "$$\\futprice < \\frac{P_t^{i}}{\\convert^{i}}, \\forall i$$"
   ]
  },
  {
   "cell_type": "markdown",
   "id": "9b735462",
   "metadata": {},
   "source": [
    "## Timing Options\n",
    "\n",
    "### Timing Option\n",
    "The seller can deliver any day of the delivery month.\n",
    "* If coupon is **higher** than repo, deliver as **late** as possible\n",
    "    * Collect carry\n",
    "    * Retain option value\n",
    "* If coupon is **lower** than repo, delivery is **ambigious**. Early delivery would\n",
    "    * eliminate negative carry\n",
    "    * eliminate option value\n",
    "\n",
    "It is a quantitative issue whether forfeiting the option value is worth eliminating the negative carry.\n",
    "\n",
    "### End-of-Month Option\n",
    "Contract trading ends ~3 weeks into the month, but seller has another week to decide delivery.\n",
    "* Futures price is locked\n",
    "* Spot price continues to move\n",
    "* Possible that a different bond becomes CTD than the bond which set the futures price at last trade date.\n",
    "\n",
    "### Wildcard Option\n",
    "* Trading on the exchange settles at 2pm CT yet the shorts have a few more hours to decide whether to issue a notice of delivery.\n",
    "* Thus, a basis trade long the CTD and hedged with futures will consider a post-settlement change in CTD price:\n",
    "    * seller might decide to deliver if the price of the CTD moves favorably between the time the exchange settles to $F_t$ but before delivery notice is due.\n",
    "* This is like the timing option--a question of whether the moneyness outweighs the ongoing option value."
   ]
  },
  {
   "cell_type": "markdown",
   "id": "03d6d4bd",
   "metadata": {},
   "source": [
    "***"
   ]
  },
  {
   "cell_type": "markdown",
   "id": "a6e9d55e",
   "metadata": {},
   "source": [
    "# Gross and Net Basis\n",
    "\n",
    "## The Basis Trade\n",
    "Being long the bond's basis means taking a position of\n",
    "* long a forward bond at $T$\n",
    "* sell the associated futures contract, adjusted for the conversion factor.\n",
    "\n",
    "Two important bond pricing measures refer to this trade:\n",
    "* **Gross basis** measures the basis trade where the bond is transacted spot. \n",
    "    * the trade includes carry of holding the bond.\n",
    "* **Net basis** measures the basis trade transacting the bond forward, \n",
    "    * thus forgoing the carry.\n",
    "\n",
    "Denote gross and net basis as $\\grossbasis$ and $\\netbasis$, respectively.\n",
    "$$\\begin{align*}\n",
    "\\underbrace{\\grossbasis_{t,t+\\tau}^i}_{\\text{gross basis}}=&\\;  P_t^i - \\convert^i\\futprice\\\\[5pt]\n",
    "\\underbrace{\\netbasis_{t,t+\\tau}^i}_{\\text{net basis}} =&\\; \\fwdprice^i - \\convert^i\\futprice\n",
    "\\end{align*}$$\n",
    "* where $\\pfwd^i(t,T)$ denotes the $T$-forward price of bond $i$ at time $t$.\n",
    "\n",
    "\n",
    "### Alternate View\n",
    "\n",
    "Thus, given that the forward drop equals the bond's carry, net basis can be seen as\n",
    "\n",
    "$$\\begin{align*}\n",
    "\\netbasis_{t,t+\\tau}^i &= \\grossbasis_{t,t+\\tau}^i - \\carry_{t,t+\\tau}^i\\\\[5pt]\n",
    "\\netbasis_{t,t+\\tau}^i &= \\grossbasis^i_{t,t+\\tau} - \\left(\\cpn N - \\rrepo P_t^{i,\\text{dirty}}\\right)\\yearsACT\\\\[5pt]\n",
    "&= \\grossbasis^i_{t,t+\\tau} - \\left[\\cpn N - \\rrepo \\left(P_t^{i} + \\accint_t^i\\right)\\right]\\yearsACT\n",
    "\\end{align*}$$\n",
    "\n",
    "recalling that\n",
    "* $N$ denotes the notional, (here face value of 100)\n",
    "* $\\accint$ denotes accrued interest\n",
    "* $\\rrepo$ denotes the repo rate\n",
    "* $\\yearsACT$ denotes the time interval quoted as ACT/360"
   ]
  },
  {
   "cell_type": "markdown",
   "id": "778e7f8b",
   "metadata": {},
   "source": [
    "### Example: Gross Basis"
   ]
  },
  {
   "cell_type": "code",
   "execution_count": 9,
   "id": "887bb5f3",
   "metadata": {
    "jupyter": {
     "source_hidden": true
    }
   },
   "outputs": [
    {
     "data": {
      "text/html": [
       "<style type=\"text/css\">\n",
       "</style>\n",
       "<table id=\"T_9dc05\">\n",
       "  <thead>\n",
       "    <tr>\n",
       "      <th class=\"blank level0\" >&nbsp;</th>\n",
       "      <th id=\"T_9dc05_level0_col0\" class=\"col_heading level0 col0\" >bond price</th>\n",
       "      <th id=\"T_9dc05_level0_col1\" class=\"col_heading level0 col1\" >conversion</th>\n",
       "      <th id=\"T_9dc05_level0_col2\" class=\"col_heading level0 col2\" >futures price</th>\n",
       "      <th id=\"T_9dc05_level0_col3\" class=\"col_heading level0 col3\" >futures invoice</th>\n",
       "      <th id=\"T_9dc05_level0_col4\" class=\"col_heading level0 col4\" >gross basis</th>\n",
       "      <th id=\"T_9dc05_level0_col5\" class=\"col_heading level0 col5\" >gross basis 32nds</th>\n",
       "    </tr>\n",
       "    <tr>\n",
       "      <th class=\"index_name level0\" >ticker</th>\n",
       "      <th class=\"blank col0\" >&nbsp;</th>\n",
       "      <th class=\"blank col1\" >&nbsp;</th>\n",
       "      <th class=\"blank col2\" >&nbsp;</th>\n",
       "      <th class=\"blank col3\" >&nbsp;</th>\n",
       "      <th class=\"blank col4\" >&nbsp;</th>\n",
       "      <th class=\"blank col5\" >&nbsp;</th>\n",
       "    </tr>\n",
       "  </thead>\n",
       "  <tbody>\n",
       "    <tr>\n",
       "      <th id=\"T_9dc05_level0_row0\" class=\"row_heading level0 row0\" >91282CLK Govt</th>\n",
       "      <td id=\"T_9dc05_row0_col0\" class=\"data row0 col0\" >97.93</td>\n",
       "      <td id=\"T_9dc05_row0_col1\" class=\"data row0 col1\" >0.91</td>\n",
       "      <td id=\"T_9dc05_row0_col2\" class=\"data row0 col2\" >107.41</td>\n",
       "      <td id=\"T_9dc05_row0_col3\" class=\"data row0 col3\" >98.12</td>\n",
       "      <td id=\"T_9dc05_row0_col4\" class=\"data row0 col4\" >-0.19</td>\n",
       "      <td id=\"T_9dc05_row0_col5\" class=\"data row0 col5\" >-5.95</td>\n",
       "    </tr>\n",
       "    <tr>\n",
       "      <th id=\"T_9dc05_level0_row1\" class=\"row_heading level0 row1\" >91282CLN Govt</th>\n",
       "      <td id=\"T_9dc05_row1_col0\" class=\"data row1 col0\" >97.34</td>\n",
       "      <td id=\"T_9dc05_row1_col1\" class=\"data row1 col1\" >0.91</td>\n",
       "      <td id=\"T_9dc05_row1_col2\" class=\"data row1 col2\" >107.41</td>\n",
       "      <td id=\"T_9dc05_row1_col3\" class=\"data row1 col3\" >97.46</td>\n",
       "      <td id=\"T_9dc05_row1_col4\" class=\"data row1 col4\" >-0.12</td>\n",
       "      <td id=\"T_9dc05_row1_col5\" class=\"data row1 col5\" >-3.73</td>\n",
       "    </tr>\n",
       "    <tr>\n",
       "      <th id=\"T_9dc05_level0_row2\" class=\"row_heading level0 row2\" >91282CLR Govt</th>\n",
       "      <td id=\"T_9dc05_row2_col0\" class=\"data row2 col0\" >99.94</td>\n",
       "      <td id=\"T_9dc05_row2_col1\" class=\"data row2 col1\" >0.93</td>\n",
       "      <td id=\"T_9dc05_row2_col2\" class=\"data row2 col2\" >107.41</td>\n",
       "      <td id=\"T_9dc05_row2_col3\" class=\"data row2 col3\" >99.81</td>\n",
       "      <td id=\"T_9dc05_row2_col4\" class=\"data row2 col4\" >0.12</td>\n",
       "      <td id=\"T_9dc05_row2_col5\" class=\"data row2 col5\" >4.00</td>\n",
       "    </tr>\n",
       "    <tr>\n",
       "      <th id=\"T_9dc05_level0_row3\" class=\"row_heading level0 row3\" >91282CMA Govt</th>\n",
       "      <td id=\"T_9dc05_row3_col0\" class=\"data row3 col0\" >99.96</td>\n",
       "      <td id=\"T_9dc05_row3_col1\" class=\"data row3 col1\" >0.93</td>\n",
       "      <td id=\"T_9dc05_row3_col2\" class=\"data row3 col2\" >107.41</td>\n",
       "      <td id=\"T_9dc05_row3_col3\" class=\"data row3 col3\" >99.68</td>\n",
       "      <td id=\"T_9dc05_row3_col4\" class=\"data row3 col4\" >0.28</td>\n",
       "      <td id=\"T_9dc05_row3_col5\" class=\"data row3 col5\" >8.87</td>\n",
       "    </tr>\n",
       "    <tr>\n",
       "      <th id=\"T_9dc05_level0_row4\" class=\"row_heading level0 row4\" >91282CMD Govt</th>\n",
       "      <td id=\"T_9dc05_row4_col0\" class=\"data row4 col0\" >101.01</td>\n",
       "      <td id=\"T_9dc05_row4_col1\" class=\"data row4 col1\" >0.94</td>\n",
       "      <td id=\"T_9dc05_row4_col2\" class=\"data row4 col2\" >107.41</td>\n",
       "      <td id=\"T_9dc05_row4_col3\" class=\"data row4 col3\" >100.61</td>\n",
       "      <td id=\"T_9dc05_row4_col4\" class=\"data row4 col4\" >0.40</td>\n",
       "      <td id=\"T_9dc05_row4_col5\" class=\"data row4 col5\" >12.81</td>\n",
       "    </tr>\n",
       "    <tr>\n",
       "      <th id=\"T_9dc05_level0_row5\" class=\"row_heading level0 row5\" >91282CMG Govt</th>\n",
       "      <td id=\"T_9dc05_row5_col0\" class=\"data row5 col0\" >100.47</td>\n",
       "      <td id=\"T_9dc05_row5_col1\" class=\"data row5 col1\" >0.93</td>\n",
       "      <td id=\"T_9dc05_row5_col2\" class=\"data row5 col2\" >107.41</td>\n",
       "      <td id=\"T_9dc05_row5_col3\" class=\"data row5 col3\" >99.96</td>\n",
       "      <td id=\"T_9dc05_row5_col4\" class=\"data row5 col4\" >0.51</td>\n",
       "      <td id=\"T_9dc05_row5_col5\" class=\"data row5 col5\" >16.18</td>\n",
       "    </tr>\n",
       "  </tbody>\n",
       "</table>\n"
      ],
      "text/plain": [
       "<pandas.io.formats.style.Styler at 0x11fbabc50>"
      ]
     },
     "execution_count": 9,
     "metadata": {},
     "output_type": "execute_result"
    }
   ],
   "source": [
    "px = bonddata['px_last']\n",
    "\n",
    "tab = bonddata[['px_last','conversion']].copy().rename(columns={'px_last':'bond price'})\n",
    "tab['futures price'] = futdata.loc['px_last']\n",
    "tab['futures invoice'] = tab['futures price'] * tab['conversion']\n",
    "tab['gross basis'] = (tab['bond price'] - tab['futures invoice'])\n",
    "tab['gross basis 32nds'] = tab['gross basis'] * 32\n",
    "tab.style.format('{:.2f}')"
   ]
  },
  {
   "cell_type": "code",
   "execution_count": 10,
   "id": "a8e5f054",
   "metadata": {
    "jupyter": {
     "source_hidden": true
    }
   },
   "outputs": [],
   "source": [
    "gross_basis = (px - futdata.loc['px_last'] * bonddata['conversion']).to_frame().rename(columns={0:'dollars'})\n",
    "gross_basis['32nds'] = gross_basis * 32\n",
    "gross_basis.columns.name = 'gross basis'"
   ]
  },
  {
   "cell_type": "markdown",
   "id": "61571d37",
   "metadata": {},
   "source": [
    "### Example: Calculate Net Basis as Gross Basis Minus Carry"
   ]
  },
  {
   "cell_type": "code",
   "execution_count": 11,
   "id": "f07681da",
   "metadata": {
    "jupyter": {
     "source_hidden": true
    }
   },
   "outputs": [],
   "source": [
    "days_settle = 0\n",
    "\n",
    "cpn = bonddata['cpn']/100\n",
    "repo = bonddata['repo_reporate']/100\n",
    "\n",
    "days_fwd = futdata.loc['fut_days_expire'] - days_settle\n",
    "days_cpn_period = bonddata['accrued_days_between_cpn_dates']\n",
    "days_already_accrued = bonddata['days_acc'] + days_settle\n",
    "\n",
    "int_already_acc = cpn*FACE/2 * (days_already_accrued / days_cpn_period)\n",
    "pxdirty = px + int_already_acc\n",
    "\n",
    "carry = ((FACE * cpn - repo * pxdirty) * days_fwd / 360).to_frame().rename(columns={0:'dollars'})\n",
    "carry['32nds'] = carry * 32\n",
    "net_basis = gross_basis - carry\n",
    "net_basis.columns.name = 'net basis'"
   ]
  },
  {
   "cell_type": "code",
   "execution_count": 12,
   "id": "cb3f06f2",
   "metadata": {
    "jupyter": {
     "source_hidden": true
    }
   },
   "outputs": [
    {
     "data": {
      "text/html": [
       "<style type=\"text/css\">\n",
       "</style>\n",
       "<table id=\"T_a9f88\">\n",
       "  <thead>\n",
       "    <tr>\n",
       "      <th class=\"blank level0\" >&nbsp;</th>\n",
       "      <th id=\"T_a9f88_level0_col0\" class=\"col_heading level0 col0\" >cpn</th>\n",
       "      <th id=\"T_a9f88_level0_col1\" class=\"col_heading level0 col1\" >repo_reporate</th>\n",
       "      <th id=\"T_a9f88_level0_col2\" class=\"col_heading level0 col2\" >days fwd</th>\n",
       "      <th id=\"T_a9f88_level0_col3\" class=\"col_heading level0 col3\" >accrued int</th>\n",
       "      <th id=\"T_a9f88_level0_col4\" class=\"col_heading level0 col4\" >dirty price</th>\n",
       "      <th id=\"T_a9f88_level0_col5\" class=\"col_heading level0 col5\" >carry</th>\n",
       "      <th id=\"T_a9f88_level0_col6\" class=\"col_heading level0 col6\" >gross basis</th>\n",
       "      <th id=\"T_a9f88_level0_col7\" class=\"col_heading level0 col7\" >net basis</th>\n",
       "      <th id=\"T_a9f88_level0_col8\" class=\"col_heading level0 col8\" >net basis (32nds)</th>\n",
       "    </tr>\n",
       "    <tr>\n",
       "      <th class=\"index_name level0\" >ticker</th>\n",
       "      <th class=\"blank col0\" >&nbsp;</th>\n",
       "      <th class=\"blank col1\" >&nbsp;</th>\n",
       "      <th class=\"blank col2\" >&nbsp;</th>\n",
       "      <th class=\"blank col3\" >&nbsp;</th>\n",
       "      <th class=\"blank col4\" >&nbsp;</th>\n",
       "      <th class=\"blank col5\" >&nbsp;</th>\n",
       "      <th class=\"blank col6\" >&nbsp;</th>\n",
       "      <th class=\"blank col7\" >&nbsp;</th>\n",
       "      <th class=\"blank col8\" >&nbsp;</th>\n",
       "    </tr>\n",
       "  </thead>\n",
       "  <tbody>\n",
       "    <tr>\n",
       "      <th id=\"T_a9f88_level0_row0\" class=\"row_heading level0 row0\" >91282CLK Govt</th>\n",
       "      <td id=\"T_a9f88_row0_col0\" class=\"data row0 col0\" >3.62</td>\n",
       "      <td id=\"T_a9f88_row0_col1\" class=\"data row0 col1\" >4.37</td>\n",
       "      <td id=\"T_a9f88_row0_col2\" class=\"data row0 col2\" >124.00</td>\n",
       "      <td id=\"T_a9f88_row0_col3\" class=\"data row0 col3\" >1.80</td>\n",
       "      <td id=\"T_a9f88_row0_col4\" class=\"data row0 col4\" >99.73</td>\n",
       "      <td id=\"T_a9f88_row0_col5\" class=\"data row0 col5\" >-0.25</td>\n",
       "      <td id=\"T_a9f88_row0_col6\" class=\"data row0 col6\" >-0.19</td>\n",
       "      <td id=\"T_a9f88_row0_col7\" class=\"data row0 col7\" >0.07</td>\n",
       "      <td id=\"T_a9f88_row0_col8\" class=\"data row0 col8\" >2.13</td>\n",
       "    </tr>\n",
       "    <tr>\n",
       "      <th id=\"T_a9f88_level0_row1\" class=\"row_heading level0 row1\" >91282CLN Govt</th>\n",
       "      <td id=\"T_a9f88_row1_col0\" class=\"data row1 col0\" >3.50</td>\n",
       "      <td id=\"T_a9f88_row1_col1\" class=\"data row1 col1\" >4.37</td>\n",
       "      <td id=\"T_a9f88_row1_col2\" class=\"data row1 col2\" >124.00</td>\n",
       "      <td id=\"T_a9f88_row1_col3\" class=\"data row1 col3\" >1.44</td>\n",
       "      <td id=\"T_a9f88_row1_col4\" class=\"data row1 col4\" >98.79</td>\n",
       "      <td id=\"T_a9f88_row1_col5\" class=\"data row1 col5\" >-0.28</td>\n",
       "      <td id=\"T_a9f88_row1_col6\" class=\"data row1 col6\" >-0.12</td>\n",
       "      <td id=\"T_a9f88_row1_col7\" class=\"data row1 col7\" >0.16</td>\n",
       "      <td id=\"T_a9f88_row1_col8\" class=\"data row1 col8\" >5.27</td>\n",
       "    </tr>\n",
       "    <tr>\n",
       "      <th id=\"T_a9f88_level0_row2\" class=\"row_heading level0 row2\" >91282CLR Govt</th>\n",
       "      <td id=\"T_a9f88_row2_col0\" class=\"data row2 col0\" >4.12</td>\n",
       "      <td id=\"T_a9f88_row2_col1\" class=\"data row2 col1\" >4.37</td>\n",
       "      <td id=\"T_a9f88_row2_col2\" class=\"data row2 col2\" >124.00</td>\n",
       "      <td id=\"T_a9f88_row2_col3\" class=\"data row2 col3\" >1.36</td>\n",
       "      <td id=\"T_a9f88_row2_col4\" class=\"data row2 col4\" >101.29</td>\n",
       "      <td id=\"T_a9f88_row2_col5\" class=\"data row2 col5\" >-0.10</td>\n",
       "      <td id=\"T_a9f88_row2_col6\" class=\"data row2 col6\" >0.12</td>\n",
       "      <td id=\"T_a9f88_row2_col7\" class=\"data row2 col7\" >0.23</td>\n",
       "      <td id=\"T_a9f88_row2_col8\" class=\"data row2 col8\" >7.32</td>\n",
       "    </tr>\n",
       "    <tr>\n",
       "      <th id=\"T_a9f88_level0_row3\" class=\"row_heading level0 row3\" >91282CMA Govt</th>\n",
       "      <td id=\"T_a9f88_row3_col0\" class=\"data row3 col0\" >4.12</td>\n",
       "      <td id=\"T_a9f88_row3_col1\" class=\"data row3 col1\" >4.37</td>\n",
       "      <td id=\"T_a9f88_row3_col2\" class=\"data row3 col2\" >124.00</td>\n",
       "      <td id=\"T_a9f88_row3_col3\" class=\"data row3 col3\" >1.01</td>\n",
       "      <td id=\"T_a9f88_row3_col4\" class=\"data row3 col4\" >100.97</td>\n",
       "      <td id=\"T_a9f88_row3_col5\" class=\"data row3 col5\" >-0.10</td>\n",
       "      <td id=\"T_a9f88_row3_col6\" class=\"data row3 col6\" >0.28</td>\n",
       "      <td id=\"T_a9f88_row3_col7\" class=\"data row3 col7\" >0.38</td>\n",
       "      <td id=\"T_a9f88_row3_col8\" class=\"data row3 col8\" >12.04</td>\n",
       "    </tr>\n",
       "    <tr>\n",
       "      <th id=\"T_a9f88_level0_row4\" class=\"row_heading level0 row4\" >91282CMD Govt</th>\n",
       "      <td id=\"T_a9f88_row4_col0\" class=\"data row4 col0\" >4.38</td>\n",
       "      <td id=\"T_a9f88_row4_col1\" class=\"data row4 col1\" >4.37</td>\n",
       "      <td id=\"T_a9f88_row4_col2\" class=\"data row4 col2\" >124.00</td>\n",
       "      <td id=\"T_a9f88_row4_col3\" class=\"data row4 col3\" >0.70</td>\n",
       "      <td id=\"T_a9f88_row4_col4\" class=\"data row4 col4\" >101.71</td>\n",
       "      <td id=\"T_a9f88_row4_col5\" class=\"data row4 col5\" >-0.02</td>\n",
       "      <td id=\"T_a9f88_row4_col6\" class=\"data row4 col6\" >0.40</td>\n",
       "      <td id=\"T_a9f88_row4_col7\" class=\"data row4 col7\" >0.42</td>\n",
       "      <td id=\"T_a9f88_row4_col8\" class=\"data row4 col8\" >13.58</td>\n",
       "    </tr>\n",
       "    <tr>\n",
       "      <th id=\"T_a9f88_level0_row5\" class=\"row_heading level0 row5\" >91282CMG Govt</th>\n",
       "      <td id=\"T_a9f88_row5_col0\" class=\"data row5 col0\" >4.25</td>\n",
       "      <td id=\"T_a9f88_row5_col1\" class=\"data row5 col1\" >4.37</td>\n",
       "      <td id=\"T_a9f88_row5_col2\" class=\"data row5 col2\" >124.00</td>\n",
       "      <td id=\"T_a9f88_row5_col3\" class=\"data row5 col3\" >0.32</td>\n",
       "      <td id=\"T_a9f88_row5_col4\" class=\"data row5 col4\" >100.79</td>\n",
       "      <td id=\"T_a9f88_row5_col5\" class=\"data row5 col5\" >-0.05</td>\n",
       "      <td id=\"T_a9f88_row5_col6\" class=\"data row5 col6\" >0.51</td>\n",
       "      <td id=\"T_a9f88_row5_col7\" class=\"data row5 col7\" >0.56</td>\n",
       "      <td id=\"T_a9f88_row5_col8\" class=\"data row5 col8\" >17.89</td>\n",
       "    </tr>\n",
       "  </tbody>\n",
       "</table>\n"
      ],
      "text/plain": [
       "<pandas.io.formats.style.Styler at 0x11fbabb10>"
      ]
     },
     "execution_count": 12,
     "metadata": {},
     "output_type": "execute_result"
    }
   ],
   "source": [
    "tabnet = bonddata[['cpn','repo_reporate']].copy()\n",
    "\n",
    "tabnet['days fwd'] = days_fwd\n",
    "tabnet['accrued int'] = int_already_acc\n",
    "tabnet['dirty price'] = pxdirty\n",
    "tabnet['carry'] = carry['dollars']\n",
    "tabnet['gross basis'] = tab['gross basis']\n",
    "tabnet['net basis'] = tabnet['gross basis'] - tabnet['carry']\n",
    "tabnet['net basis (32nds)'] = tabnet['net basis'] * 32\n",
    "tabnet.style.format('{:.2f}')"
   ]
  },
  {
   "cell_type": "markdown",
   "id": "4cd969be",
   "metadata": {},
   "source": [
    "### Convergence\n",
    "Note that according to the definitions above, \n",
    "* at expiration, $T$, gross basis and net basis are equal,\n",
    "$$\\grossbasis_T^{i} = \\netbasis_T^{i}$$\n",
    "* if a bond were guaranteed to be CTD, net basis for it would be zero\n",
    "* at expiration, $T$, the CTD bond has net basis of 0\n",
    "$$\\grossbasis_T^{\\ctd} = \\netbasis_T^{\\ctd} = 0$$\n",
    "\n",
    "### Importance of Net Basis\n",
    "Net basis is a widely quoted measure, partially due to the following two facts:\n",
    "\n",
    "1. The P&L on a **basis trade** is simply the change in net basis.\n",
    "$$\\begin{align*}\n",
    "\\pnl_{t,t+h}^i =& N \\left[\\fwdpriceDT^i -\\fwdprice^i\\right] - N\\convert^i\\left[\\futpriceDT-\\futprice\\right]\\\\[5pt]\n",
    "=& N\\left[\\netbasis_{t+h}^i - \\netbasis_t^i\\right]\n",
    "\\end{align*}$$\n",
    "\n",
    "2. The net basis can be seen as a measure of how close (likely) a bond is to being CTD.\n",
    "* Given the convergence noted above, one could view net basis as a function of the probability of the bond being CTD."
   ]
  },
  {
   "cell_type": "markdown",
   "id": "6138b8c6",
   "metadata": {},
   "source": [
    "## Two caveats\n",
    "\n",
    "### Daily Settlement\n",
    "The PnL of the basis trade is only approximate above.\n",
    "* The equations for gross and net basis are correct.\n",
    "* But they only approximate the pnl of the basis trade as they do not account for **daily settlement** of futures.\n",
    "\n",
    "Still, this makes a minor difference to the PnL in most circumstances. Furthermore, in terms of the net long-short position, it can be accounted for by setting the number of futures contracts to be adjusted for both\n",
    "* conversion factor, as noted above\n",
    "* tailing the hedge\n",
    "\n",
    "### Repo\n",
    "The trades above rely on the synthetic forward, which considers **term** repo--that is, a repo rate locked in for a term between $t$ and $T$.\n",
    "\n",
    "The repo often quoted, (and sometimes used in this trade!) is **overnight** repo.\n",
    "* In that case, there is additional basis for overnight vs term repo.\n",
    "* PnL may diverge further."
   ]
  },
  {
   "cell_type": "markdown",
   "id": "47185aa2",
   "metadata": {},
   "source": [
    "## Implied Repo\n",
    "\n",
    "Another common metric in quoting bond prices is **implied repo**. \n",
    "* Gives the return to going long spot and shorting via futures (instead of forward).\n",
    "* Each bond has an implied repo, which assumes that particular bond will become CTD.\n",
    "* Thus, if implied repo is higher than actual repo, and the bond is sure to be CTD, then it indicates the future is overpriced.\n",
    "\n",
    "**Careful**\n",
    "This implied repo is assuming the bond becomes CTD!\n",
    "* A high / low implied repo may simply be impacted by the fact that bond is unlikely to become CTD.\n",
    "\n",
    "### Computing Implied Repo\n",
    "Solve for the repo rate that rationalizes the futres-as-forward trade.\n",
    "1. Assume the forward price is the futures price adjusted by the conversion factor.\n",
    "$$\\fwdprice^i = \\futprice^i\\convert^i$$\n",
    "\n",
    "2. Solve for repo rate such that this forward price fits the spot price:\n",
    "\n",
    "$$\\underbrace{\\fwdprice^i + \\accint^i_T}_{\\text{dirty forward}} = \\underbrace{\\left[P^i_t + \\accint_t^i\\right]}_{\\text{dirty spot}}\\left[1+r^i_{\\text{IR}}\\yearsACT\\right]$$\n",
    "where\n",
    "* $r^i_{\\text{IR}}$ denotes the implied repo rate of bond $i$\n",
    "* $\\yearsACT$ is the forward interval in years (measured by ACT/360).\n",
    "\n",
    "Thus we have $r^i_{\\text{IR}}$ as the rate which solves\n",
    "$$\\underbrace{\\futprice^i\\convert^i + \\accint^i_T}_{\\text{dirty future-as-forward}} = \\underbrace{\\left[P^i_t + \\accint_t^i\\right]}_{\\text{dirty spot}}\\left[1+r^i_{\\text{IR}}\\yearsACT\\right]$$\n",
    "so\n",
    "$$\\begin{align*}\n",
    "r^i_{\\text{IR}} =& \\frac{1}{\\yearsACT}\\left[\\frac{\\futprice^i\\convert^i + \\accint^i_T}{P^i_t + \\accint_t^i} - 1\\right]\\\\[5pt]\n",
    "=& \\frac{1}{\\yearsACT}\\frac{\\futprice^i\\convert^i - P^i_t + \\accint^i_T - \\accint_t^i}{P^i_t + \\accint_t^i}\n",
    "\\end{align*}$$\n",
    "\n",
    "This last expression clarifies that **implied repo can be seen as the (annualized) return** of a trading strategy which\n",
    "* goes long the bond in the spot market, at the dirty price\n",
    "* simultaneously sells the associated futures contract for term $t\\to T$.\n",
    "* at $T$, delivers the long bond position."
   ]
  },
  {
   "cell_type": "markdown",
   "id": "601fa0e6",
   "metadata": {},
   "source": [
    "***"
   ]
  },
  {
   "cell_type": "markdown",
   "id": "13db547d",
   "metadata": {},
   "source": [
    "# Appendix\n",
    "\n",
    "## Addendum to Forward Drop Example\n",
    "\n",
    "See the full Bloomberg screen on the forward and repo of the Treasury bond discussed above.\n",
    "\n",
    "Note that Bloomberg's computed forward price matches our calculation above.\n",
    "\n",
    "<img src=\"../refs/c5/Bloomberg synthetic forward answer.png\" />\n",
    "\n",
    "Reference: Bloomberg"
   ]
  },
  {
   "cell_type": "markdown",
   "id": "418d4a6d",
   "metadata": {},
   "source": [
    "***"
   ]
  }
 ],
 "metadata": {
  "hide_input": true,
  "kernelspec": {
   "display_name": "Python 3 (ipykernel)",
   "language": "python",
   "name": "python3"
  },
  "language_info": {
   "codemirror_mode": {
    "name": "ipython",
    "version": 3
   },
   "file_extension": ".py",
   "mimetype": "text/x-python",
   "name": "python",
   "nbconvert_exporter": "python",
   "pygments_lexer": "ipython3",
   "version": "3.13.1"
  }
 },
 "nbformat": 4,
 "nbformat_minor": 5
}
