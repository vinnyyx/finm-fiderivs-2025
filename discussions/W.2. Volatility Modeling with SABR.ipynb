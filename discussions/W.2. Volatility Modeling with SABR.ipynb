{
 "cells": [
  {
   "cell_type": "markdown",
   "id": "cbd88c27",
   "metadata": {},
   "source": [
    "# Volatility Modeling with SABR\n",
    "\n",
    "\n",
    "## FINM 37500: Fixed Income Derivatives\n",
    "\n",
    "### Mark Hendricks\n",
    "\n",
    "#### Winter 2025"
   ]
  },
  {
   "cell_type": "markdown",
   "id": "ac66d85b",
   "metadata": {},
   "source": [
    "$$\\newcommand{\\ivol}{\\sigma_{\\text{imp}}}$$\n",
    "$$\\newcommand{\\vega}{\\mathcal{V}}$$\n",
    "\n",
    "$$\\newcommand{\\dwF}{dW^{[1]}}$$\n",
    "$$\\newcommand{\\dwS}{dW^{[2]}}$$"
   ]
  },
  {
   "cell_type": "markdown",
   "id": "2ff491ad",
   "metadata": {},
   "source": [
    "***"
   ]
  },
  {
   "cell_type": "markdown",
   "id": "9ca16560",
   "metadata": {},
   "source": [
    "# Volatility Models"
   ]
  },
  {
   "cell_type": "markdown",
   "id": "e79641d3",
   "metadata": {},
   "source": [
    "## Motivation\n",
    "\n",
    "As we have seen, \n",
    "* implied volatility is not constant for an underlying\n",
    "* it varies substantially with **moneyness** (strike vs underlying) and time-to-expiration.\n",
    "* and it is not stable over time!\n",
    "\n",
    "Why do we care? Suppose you hold...\n",
    "* a 3-month call struck at 100\n",
    "* a 1-month call struck at 90\n",
    "\n",
    "What is the right hedge ratio?\n",
    "\n",
    "How is this impacted by the inconsistency across\n",
    "* strikes\n",
    "* maturity"
   ]
  },
  {
   "cell_type": "markdown",
   "id": "89c5d0d7",
   "metadata": {},
   "source": [
    "## Volatility Surface and Skew\n",
    "\n",
    "To ensure model (internal) consistency and hopefully (external) performance, we need a \n",
    "* volatility surface\n",
    "\n",
    "In practice, there is much more focus on the \n",
    "* volatility curve / smile /skew\n",
    "\n",
    "That is, the inconsistency of the volatility across strikes is more problematic than across maturities.\n",
    "\n",
    "## This is about hedging as much as it is about pricing!\n",
    "\n",
    "To know whether we are hedged, we need to know the true delta.\n",
    "* Model inconsistency in implied vol will lead to model inconsistency in delta and gamma.\n",
    "\n",
    "If implied vol were constant (as in BS) for a given point in time, we would still care how it shifts over time!\n",
    "* Remember the \"greek\" vega\n",
    "$$\\vega \\equiv \\frac{\\partial f}{\\partial \\ivol}$$"
   ]
  },
  {
   "cell_type": "markdown",
   "id": "0002b6e0",
   "metadata": {},
   "source": [
    "## Which Type of Model?\n",
    "\n",
    "### Parametric \n",
    "* impose structure, \n",
    "* which leads to statistical power\n",
    "* protects against overfitting.\n",
    "\n",
    "Examples\n",
    "* polynomials"
   ]
  },
  {
   "cell_type": "markdown",
   "id": "1ef5cd6a",
   "metadata": {},
   "source": [
    "### Non-parametric and semi-parametric\n",
    "* flexibility\n",
    "* \"let the data speak\"\n",
    "\n",
    "Examples \n",
    "* splines\n",
    "* regularized (ML) models"
   ]
  },
  {
   "cell_type": "markdown",
   "id": "dbab1ce3",
   "metadata": {},
   "source": [
    "### Stochastic Volatility\n",
    "* specify a stochastic process for volatility\n",
    "* ensures no-arbitrage\n",
    "* provides insights beyond the output\n",
    "\n",
    "Examples\n",
    "* Local volatility\n",
    "* SABR\n",
    "* ZABR?"
   ]
  },
  {
   "cell_type": "markdown",
   "id": "61550c79",
   "metadata": {},
   "source": [
    "### Modeling the Discount (yield) Curve\n",
    "\n",
    "This discussion and its tradeoffs should feel familiar!"
   ]
  },
  {
   "cell_type": "markdown",
   "id": "56447a88",
   "metadata": {},
   "source": [
    "# SABR"
   ]
  },
  {
   "cell_type": "markdown",
   "id": "c2bfe6df",
   "metadata": {},
   "source": [
    "## Stochastic Alpha Beta Rho (SABR)\n",
    "\n",
    "The SABR model is used in conjunction with Black's Model.\n",
    "* Can be used for generalized versions, such as the \"Libor Market Model\".\n",
    "* Key is that SABR just handles the implied volatility.\n",
    "* Provides an input for a pricing model, (most notably, Black.)\n",
    "\n",
    "Instead of a constant diffusion term, $\\sigma$, we want\n",
    "* not just a function $\\sigma(F,t)$\n",
    "* but rather a stochastic process"
   ]
  },
  {
   "cell_type": "markdown",
   "id": "d0b1e929",
   "metadata": {},
   "source": [
    "## The Model\n",
    "\n",
    "Suppose the underlying is the forward process, $F$.\n",
    "* Typically using forwards or futures, as fitting with Black's model.\n",
    "\n",
    "Under the **forward measure**, this process has no drift!\n",
    "* So no \"$dt$\" term in the stochastic differential.\n",
    "$$dF = \\sigma F^{\\beta}\\dwF$$\n",
    "\n",
    "Here, $\\dwF$ is simply a pure Brownian motion as usual in these equations.\n",
    "* The superscript is anticipating we will have a second such process.\n",
    "* It is not an exponent."
   ]
  },
  {
   "cell_type": "markdown",
   "id": "9a5d490c",
   "metadata": {},
   "source": [
    "### Role of Beta $\\beta$\n",
    "Note that $\\beta$ is controlling whether this is\n",
    "* lognormal: $\\beta=1$\n",
    "* normal: $\\beta=0$\n",
    "* CEV: $0<\\beta<1$\n",
    "\n",
    "Typically, this parameter is not estimated but is set according to the desired model.\n",
    "* Could parameterize with a regression (in logs) but not typically done.\n",
    "\n",
    "In interest-rate derivatives, it is typical to choose\n",
    "* $\\beta=0.5$"
   ]
  },
  {
   "cell_type": "markdown",
   "id": "b5636a35",
   "metadata": {},
   "source": [
    "## Stochastic Volatility\n",
    "\n",
    "Now onto the stochastic volatility. Model $\\sigma$ as a process characterized by\n",
    "$$d\\sigma = \\nu \\sigma \\dwS$$\n",
    "\n",
    "So $\\sigma$ is a geometric Brownian motion!\n",
    "* Why geometric Brownian (lognormal) instead of Brownian (normal)?\n",
    "\n",
    "## Role of alpha $\\alpha$\n",
    "\n",
    "Alpha, sometimes denoted $\\sigma_0$, is the initialized value of this process.\n",
    "* It is controlling the level of realized volatility.\n",
    "\n",
    "In the formula below, \n",
    "* $\\alpha$ is being written as $\\sigma_0$ to emphasize this."
   ]
  },
  {
   "cell_type": "markdown",
   "id": "fdc7ac13",
   "metadata": {},
   "source": [
    "## Role of rho $\\rho$\n",
    "The process $\\dwS$ is another Brownian motion, different than $\\dwF$. \n",
    "* Remember the superscript is an identifier, not an exponent!\n",
    "* They are not necessarily independent.\n",
    "\n",
    "The parameter, $\\rho$, governs the correlation between the two processes (shocks) $\\dwF$ and $\\dwS$.\n",
    "\n",
    "### Question\n",
    "Do you think $\\rho$ will typically be positive or negative?\n",
    "* Why?\n",
    "* For all assets?"
   ]
  },
  {
   "cell_type": "markdown",
   "id": "526d27a5",
   "metadata": {},
   "source": [
    "## Role of \"nu\" $\\nu$\n",
    "\n",
    "Note that $\\nu$ is a constant (parameter), and it is the \"vol\" of the volatility process."
   ]
  },
  {
   "cell_type": "markdown",
   "id": "4c58ea96",
   "metadata": {},
   "source": [
    "## The Equation\n",
    "\n",
    "It can be shown that under these dynamics,\n",
    "\n",
    "$$\\ivol(F_0,K) = AB\\frac{\\phi}{\\chi}$$\n",
    "\n",
    "where, not joking,\n",
    "\n",
    "<img src=\"../refs/SABRformula.png\" width=\"600\" />"
   ]
  },
  {
   "cell_type": "markdown",
   "id": "35fe3d9c",
   "metadata": {},
   "source": [
    "### At-the-money\n",
    "\n",
    "For an ATM option, $\\ln(F_0/K)$ is zero, and we get\n",
    "\n",
    "$$\\ivol^*(F_0,K) = \\frac{\\sigma_0B}{F_0^{1-\\beta}}$$\n",
    "\n",
    "Money implementations make use of this fact to solve for $\\alpha$ (denoted here $\\sigma_0$) as a function of the other two parameters and the observed ATM implied vol $\\ivol^*$:\n",
    "$$\\alpha = \\alpha\\left(\\nu,\\rho,\\ivol^{*,\\text{market}}\\right)$$\n",
    "\n",
    "This reduces the problem from 3 parameters to 2 parameters. \n",
    "* For nonlinear equations, even this modest reduction can be helpful."
   ]
  },
  {
   "cell_type": "markdown",
   "id": "0abae4e4",
   "metadata": {},
   "source": [
    "### Benefit?\n",
    "\n",
    "This function is a mess, but it is a closed-form solution!\n",
    "* Traders may need to recompute the volatility curve every day / hour / second.\n",
    "* A closed-form solution is attractive as it allows this frequent recalculation of the entire curve.\n",
    "\n",
    "### Missing?\n",
    "This function \n",
    "* has a parameter for expiration $T$\n",
    "* but it is not a **function**.\n",
    "\n",
    "What is the difference?\n",
    "\n",
    "This is in line with what we mentioned above, the main goal is to model the vol curve, and glue together (incompatible?) slices to form the vol surface."
   ]
  },
  {
   "cell_type": "markdown",
   "id": "b9d05837",
   "metadata": {},
   "source": [
    "## Fitting SABR\n",
    "\n",
    "Use observed market implied volatilities to fit SABR on a set of options.\n",
    "\n",
    "1. Use the reference set of $(F_0,K,\\ivol^{\\text{mkt}})$.\n",
    "2. Numerically try sets of parameters $(\\alpha,\\nu,\\rho)$ \n",
    "    * or $(\\nu, \\rho)$ if using the ATM relationship for alpha above.\n",
    "3. For each parameterization, check how close the SABR vol is to the market implied vol across all securities, using a penalty function of\n",
    "$$\\sum_{i}\\left(\\ivol^{\\text{SABR}}(i) - \\ivol^{\\text{market}}(i)\\right)^2$$\n",
    "4. Set the parameters that minimize this error.\n",
    "\n",
    "Now, use the solution parameters to set the implied volatility curve. \n",
    "* This gives you $\\sigma(F,K)$ to insert into Black's formula.\n",
    "\n",
    "Use this curve for \n",
    "* pricing other strikes / maturities / options on this underyling.\n",
    "* better measuring the greeks of even these reference securities."
   ]
  },
  {
   "cell_type": "markdown",
   "id": "6ac0d843",
   "metadata": {},
   "source": [
    "# Delta Hedging\n",
    "\n",
    "As one example, consider the simple problem of delta hedging.\n",
    "\n",
    "Given that implied volatility is not constant, we can expect that \n",
    "* delta changes when implied vol changes!\n",
    "\n",
    "This is sometimes referred to as **vanna**\n",
    "$$\\frac{\\partial \\Delta}{\\partial \\ivol}$$\n",
    "\n",
    "Suppose a call option has value $C(F)$, where $F$ is the forward price.\n",
    "\n",
    "Consider a delta that takes account of Black's (direct) delta effect and the implied volatility effect through the vol path:\n",
    "$$C\\left(F, \\ivol(F)\\right)$$\n",
    "\n",
    "$$\\begin{align*}\n",
    "\\frac{dC}{dF} =& \\frac{\\partial C}{\\partial F} + \\frac{\\partial C}{\\partial \\ivol}\\frac{\\partial \\ivol}{\\partial F}\n",
    "\\end{align*}$$"
   ]
  },
  {
   "cell_type": "markdown",
   "id": "0308c199",
   "metadata": {},
   "source": [
    "## Why SABR?\n",
    "\n",
    "Other well-known models are useful for some things, but do not handle volatility skew well.\n",
    "\n",
    "### Black's Formulas\n",
    "\n",
    "Black's formula (and Black-Scholes) completely ignores this effect.\n",
    "* This can cause substantial risk and portfolio variation day-over-day, especially in volatile markets.\n",
    "\n",
    "### Local Volatility\n",
    "The famed, \"local volatility\" model fits a function $\\sigma(F,K)$ **exactly** to the market quoted implied vols.\n",
    "\n",
    "So this is better than SABR, which minimizes the error but does not fit perfectly, right?\n",
    "* No!\n",
    "* Local volatility does not get the time dynamics right, such that this vega channel of the hedging ends up being worse than Black Scholes!"
   ]
  }
 ],
 "metadata": {
  "hide_input": false,
  "kernelspec": {
   "display_name": "Python 3 (ipykernel)",
   "language": "python",
   "name": "python3"
  },
  "language_info": {
   "codemirror_mode": {
    "name": "ipython",
    "version": 3
   },
   "file_extension": ".py",
   "mimetype": "text/x-python",
   "name": "python",
   "nbconvert_exporter": "python",
   "pygments_lexer": "ipython3",
   "version": "3.13.1"
  }
 },
 "nbformat": 4,
 "nbformat_minor": 5
}
