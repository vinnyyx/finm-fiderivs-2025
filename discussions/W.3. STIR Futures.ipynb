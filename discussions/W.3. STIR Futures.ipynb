{
 "cells": [
  {
   "cell_type": "markdown",
   "id": "4b54b8fa",
   "metadata": {},
   "source": [
    "# STIR Futures\n",
    "\n",
    "\n",
    "## FINM 37500: Fixed Income Derivatives\n",
    "\n",
    "### Mark Hendricks\n",
    "\n",
    "#### Winter 2025"
   ]
  },
  {
   "cell_type": "markdown",
   "id": "b0389a23",
   "metadata": {},
   "source": [
    "#### Notation Commands\n",
    "\n",
    "$$\\newcommand{\\cpn}{\\text{cpn}}$$\n",
    "$$\\newcommand{\\Tunder}{T_\\text{bond}}$$\n",
    "$$\\newcommand{\\accint}{\\xi}$$\n",
    "$$\\newcommand{\\convert}{\\psi}$$\n",
    "$$\\newcommand{\\ctd}{\\text{ctd}}$$\n",
    "\n",
    "$$\\newcommand{\\refrate}{r^{\\text{ref}}}$$\n",
    "$$\\newcommand{\\pfwd}{P_{\\text{fwd}}}$$\n",
    "$$\\newcommand{\\grossbasis}{\\Gamma}$$\n",
    "$$\\newcommand{\\netbasis}{\\tilde{\\grossbasis}}$$\n",
    "$$\\newcommand{\\pnl}{\\Pi}$$\n",
    "\n",
    "$$\\newcommand{\\yearsACT}{\\tau_{\\text{act/360}}}$$"
   ]
  },
  {
   "cell_type": "markdown",
   "id": "b9642211",
   "metadata": {},
   "source": [
    "***"
   ]
  },
  {
   "cell_type": "markdown",
   "id": "31634693",
   "metadata": {},
   "source": [
    "# STIR Futures"
   ]
  },
  {
   "cell_type": "markdown",
   "id": "f5f661bf",
   "metadata": {},
   "source": [
    "**Short-Term Interest Rate (STIR)** Futures are contracts written directly on an interest rate, not a bond.\n",
    "\n",
    "There are key similarities and differences to other (particularly bond,) futures."
   ]
  },
  {
   "cell_type": "markdown",
   "id": "6b8967cb",
   "metadata": {},
   "source": [
    "Similarities\n",
    "* Trade on an exchange\n",
    "* Daily settlement\n",
    "\n",
    "Differences\n",
    "* Cash settled, so \"delivery\" is simple cash payment.\n",
    "* No embedded options.\n",
    "\n",
    "Specs across most STIR contracts:\n",
    "* Delivery is last day of the contract month.\n",
    "* Payoffs are **inversely** related to the reference rate:\n",
    "$$N (1-r^{\\text{ref}}_T)$$\n",
    "\n",
    "Thus, when **rates go up, the futures value goes down**."
   ]
  },
  {
   "cell_type": "markdown",
   "id": "0901c9e9",
   "metadata": {},
   "source": [
    "## Fed Funds Futures\n",
    "\n",
    "Reference rate\n",
    "* **(simple) average of Fed Funds Effective Rate**\n",
    "* every day in the month is counted in the simple average\n",
    "* non trading days take the value of the most recent traded day (and thus that value is counted multiple time)\n",
    "\n",
    "Sizing\n",
    "* Notional, $N$, is \\$5,000,000 \n",
    "* Settlement horizon of one month (30/360)\n",
    "\n",
    "The contract's futures price is expressed in the following units: \n",
    "$$P_t = 100\\left(1-r^{\\text{ref}}_t\\right)$$\n",
    "\n",
    "The contract settles at\n",
    "$$5,000,000 \\left(\\frac{\\text{30}}{360}\\right)\\frac{P_T}{100}$$\n",
    "\n",
    "Daily settlement on the contract is\n",
    "$$\\begin{align*}\n",
    "\\text{PnL} =& 5,000,000\\left(\\frac{30}{360}\\right)\\frac{P_{t+1}-P_t}{100} \\\\[5pt]\n",
    "=& 5,000,000\\left(\\frac{30}{360}\\right)\\left(r^{\\text{ref}}_{t} - r^{\\text{ref}}_{t+1}\\right)\n",
    "\\end{align*}$$\n",
    "\n",
    "For example each **increase** of 1bp in the reference index is\n",
    "$$\\text{PnL} = -41.67$$"
   ]
  },
  {
   "cell_type": "markdown",
   "id": "d2950956",
   "metadata": {},
   "source": [
    "### Market Expectations\n",
    "\n",
    "The quoted Fed Funds futures prices are used to extract the market expectation of whether the Fed will raise or lower rates at future meetings.\n",
    "\n",
    "These are extracted from the futures prices."
   ]
  },
  {
   "cell_type": "markdown",
   "id": "6f5e648e",
   "metadata": {},
   "source": [
    "## SOFR Futures\n",
    "\n",
    "In the past, LIBOR Futures have been a benchmark for markets. With the transition to SOFR, focus is instead on\n",
    "* 1-month SOFR futures\n",
    "* 3-month SOFR futures\n",
    "\n",
    "### 1-month SOFR\n",
    "\n",
    "https://www.cmegroup.com/markets/interest-rates/stirs/one-month-sofr.quotes.html\n",
    "\n",
    "Contract is nearly identical to the Fed Funds Futures contract above.\n",
    "* SOFR was designed to mimic the notional and mechanics of FFF.\n",
    "\n",
    "### 3-month SOFR\n",
    "\n",
    "https://www.cmegroup.com/markets/interest-rates/stirs/three-month-sofr.quotes.html\n",
    "\n",
    "There are a few differences with 3-month SOFR futures.\n",
    "\n",
    "Reference rate\n",
    "* Compounded return of SOFR over the 3-month period--not a simple average.\n",
    "* Again, non-trading dates are filled in with prior traded rate.\n",
    "\n",
    "$$\\refrate = \\frac{360}{\\text{days}}\\left[\\prod \\left(1+\\frac{r_j}{360}\\right) - 1\\right]$$\n",
    "\n",
    "https://www.cmegroup.com/education/files/sofr-futures-settlement-calculation-methodologies.pdf"
   ]
  },
  {
   "cell_type": "markdown",
   "id": "a9614378",
   "metadata": {},
   "source": [
    "Timing\n",
    "* Offered and settled on quarterly schedule, (mid Mar/June/Sep/Dec)\n",
    "\n",
    "Sizing\n",
    "* Notional, $N$, is $1,000,000\n",
    "* Horizon scaled to 3 months (30/360)\n",
    "\n",
    "The contract settles at\n",
    "$$1,000,000 \\left(\\frac{\\text{90}}{360}\\right)\\frac{P_T}{100}$$\n",
    "\n",
    "Daily settlement on the contract is\n",
    "$$\\begin{align*}\n",
    "\\text{PnL} =& 1,000,000\\left(\\frac{\\text{90}}{360}\\right)\\frac{P_{t+1}-P_t}{100} \\\\[5pt]\n",
    "=& 1,000,000\\left(\\frac{\\text{90}}{360}\\right)\\left(r^{\\text{ref}}_{t} - r^{\\text{ref}}_{t+1}\\right)\n",
    "\\end{align*}$$\n",
    "\n",
    "For example each **increase** of 1bp in the reference index is\n",
    "$$\\text{PnL} = -25.00$$"
   ]
  },
  {
   "cell_type": "markdown",
   "id": "58d401e4",
   "metadata": {},
   "source": [
    "# Technical Points"
   ]
  },
  {
   "cell_type": "markdown",
   "id": "6a144b68",
   "metadata": {},
   "source": [
    "## STIR futures for estimating discounts\n",
    "\n",
    "For any pricing, we need spot (discount) rates, or equivalently the forward rates.\n",
    "\n",
    "In practice, STIR futures are often used to extract the front end of the discount curve.\n",
    "* More liquid than swaps for short maturities, (up to 3 years?)\n",
    "\n",
    "Or more complex models may use STIR futures, short-term swaps, and even treasuries to estimate the short-term curve."
   ]
  },
  {
   "cell_type": "markdown",
   "id": "fa64eb05",
   "metadata": {},
   "source": [
    "## Convexity Adjustment\n",
    "\n",
    "Futures rates are higher than forward rates.\n",
    "* Daily settlement is adverse for the long position, as seen with bond futures.\n",
    "* This price difference reverses for the rate difference, given the specification of the contract.\n",
    "\n",
    "It is common to use the following **convexity adjustment**\n",
    "$$r^{\\text{fut}} = r^{\\text{fwd}} + \\frac{1}{2}\\tau^2\\sigma^2$$\n",
    "\n",
    "where \n",
    "* horizon $\\tau=T-t$.\n",
    "* $r^{\\text{fwd}}$ is the continuously-compounded forward rate from $t$ to $T$\n",
    "* $r^{\\text{fut}}$ is the continuously-compounded futures rate from $t$ to $T$\n",
    "\n",
    "This adjustment is based on an interest rate model.\n",
    "* It is commonly used for this convexity adjustment.\n",
    "* It is based on an interest-rate model, (specifically, the \"Normal\" models.)\n",
    "* One could compute an adjustment specific to some other model.\n",
    "\n",
    "Even in normal models, there are some adjustments for discrete forward maturity, etc."
   ]
  },
  {
   "cell_type": "markdown",
   "id": "d56a77f7",
   "metadata": {},
   "source": [
    "## Basis Risk\n",
    "\n",
    "Futures hedging strategies leave basis risk.\n",
    "* The forward contract is OTC and customizable, so it can be written on the exact interest-rate risk.\n",
    "* Using futures, one must use whichever contract is closest. (A similar bond, a similar interest rate.) \n",
    "* This may leave basis between the futures underlying and the targeted risk.\n",
    "* This may also leave basis between the date of the risk and the standardized date of the futures contract."
   ]
  }
 ],
 "metadata": {
  "hide_input": false,
  "kernelspec": {
   "display_name": "Python 3 (ipykernel)",
   "language": "python",
   "name": "python3"
  },
  "language_info": {
   "codemirror_mode": {
    "name": "ipython",
    "version": 3
   },
   "file_extension": ".py",
   "mimetype": "text/x-python",
   "name": "python",
   "nbconvert_exporter": "python",
   "pygments_lexer": "ipython3",
   "version": "3.9.6"
  },
  "toc": {
   "base_numbering": 1,
   "nav_menu": {},
   "number_sections": false,
   "sideBar": true,
   "skip_h1_title": false,
   "title_cell": "Table of Contents",
   "title_sidebar": "Contents",
   "toc_cell": false,
   "toc_position": {},
   "toc_section_display": true,
   "toc_window_display": false
  }
 },
 "nbformat": 4,
 "nbformat_minor": 5
}
