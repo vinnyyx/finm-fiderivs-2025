{
 "cells": [
  {
   "cell_type": "markdown",
   "id": "2d432ef5",
   "metadata": {},
   "source": [
    "# Swaptions\n",
    "\n",
    "\n",
    "## FINM 37500: Fixed Income Derivatives\n",
    "\n",
    "### Mark Hendricks\n",
    "\n",
    "#### Winter 2025"
   ]
  },
  {
   "cell_type": "markdown",
   "id": "c8147359",
   "metadata": {},
   "source": [
    "***"
   ]
  },
  {
   "cell_type": "markdown",
   "id": "b6468add",
   "metadata": {},
   "source": [
    "#### LaTeX Notation\n",
    "This cell appears blank.\n",
    "$$\\newcommand{\\Tfwd}{T_{\\text{fwd}}}$$\n",
    "$$\\newcommand{\\fwdswap}{s(t,\\Tfwd,T)}$$"
   ]
  },
  {
   "cell_type": "markdown",
   "id": "d625f8c8",
   "metadata": {},
   "source": [
    "***"
   ]
  },
  {
   "cell_type": "markdown",
   "id": "46b756c0",
   "metadata": {},
   "source": [
    "# Swap"
   ]
  },
  {
   "cell_type": "markdown",
   "id": "a5305ad1",
   "metadata": {},
   "source": [
    "### Simple derivative\n",
    "Typically, we do not need derivative-pricing methods modeling to price a swap.\n",
    "\n",
    "* A (receiving fixed) swap is simply replicated as long a fixed bond and short a floating-rate bond.\n",
    "\n",
    "* Still, we could value the swap using derivative-pricing methods."
   ]
  },
  {
   "cell_type": "markdown",
   "id": "b91e57bf",
   "metadata": {},
   "source": [
    "### Arrears\n",
    "Note that the swap is like the caps and floors in that the payments are based on the previous period's interest rate.\n",
    "\n",
    "That is, the payoff at time period $i$ is\n",
    "$$\\text{swap cashflow}_{t} = \\frac{100}{n}(r_{t-1,t}-K)$$"
   ]
  },
  {
   "cell_type": "markdown",
   "id": "1ab83de3-2e2d-4b27-b3bc-e345f1f779a0",
   "metadata": {},
   "source": [
    "***"
   ]
  },
  {
   "cell_type": "markdown",
   "id": "89926b83",
   "metadata": {},
   "source": [
    "# Swaptions\n",
    "\n",
    "A **receiver swaption** is \n",
    "* a contract today, (with a price paid today)\n",
    "* for the option, not obligation,\n",
    "* to enter into a swap **receiving** the swap rate, (set today, like a strike,)\n",
    "* from $T_1$ to $T_2$.\n",
    "\n",
    "Thus, the **receiver swaption** is like a **put** on a swap.\n",
    "\n",
    "A **payer swaption** is the same thing, but the option is to enter into the swap, **paying** the swap rate (strike). Thus, it is like the **call** on a swap.\n",
    "\n",
    "Of course, being short the **receiver** swaption is not the same thing as being long the **payer** swaption."
   ]
  },
  {
   "cell_type": "markdown",
   "id": "926ef200",
   "metadata": {},
   "source": [
    "### Timing\n",
    "\n",
    "Note that we have three dates to consider: \n",
    "* the option expiration\n",
    "* the swap start date\n",
    "* the swap end date\n",
    "\n",
    "A plain swaption sets the swap to start at the time the option expires.\n",
    "\n",
    "Thus, a 2\\% 1Y $\\rightarrow$ 10Y denotes\n",
    "* 2\\% strike\n",
    "* swaption with expiration of 1 year\n",
    "* for a swap starting in 1 year and ending 10 years thereafter (in 11 years)"
   ]
  },
  {
   "cell_type": "markdown",
   "id": "0fbd91b0",
   "metadata": {},
   "source": [
    "## Midcurve Swaptions\n",
    "\n",
    "Suppose that the date of (underlying) swap beginning is **after** the swaption expires. \n",
    "\n",
    "This is a **midcurve** swaption.\n",
    "\n",
    "Could have a 6m $\\rightarrow$ 1Y $\\rightarrow$ 5Y midcurve swaption:\n",
    "* expires in 6 months\n",
    "* underlying swap starts one year after that expiration (in 1.5 years from today)\n",
    "* swap runs for 5 years, (until 6.5 years from today.)"
   ]
  },
  {
   "cell_type": "markdown",
   "id": "cec1a149",
   "metadata": {},
   "source": [
    "***"
   ]
  },
  {
   "cell_type": "markdown",
   "id": "3bb17d07",
   "metadata": {},
   "source": [
    "# Black's Formula for Swaptions"
   ]
  },
  {
   "cell_type": "markdown",
   "id": "f6b7c00f",
   "metadata": {},
   "source": [
    "Use Black's formula to price the **European** swaption.\n",
    "* The **payer** swaption (option to pay fixed) is like a **call** option.\n",
    "* The **receiver** swaption (option to receive fixed) is like a **put** option.\n",
    "\n",
    "This is done much as we used Black's formula for caps and caplets. \n",
    "\n",
    "But there are a few differences in **timing** and **discount factor**."
   ]
  },
  {
   "cell_type": "markdown",
   "id": "363e18fa",
   "metadata": {},
   "source": [
    "### Timing\n",
    "\n",
    "Expiration of the swaption is the date plugged into Black's formula.\n",
    "* The swaption expires at $T_o$ and that is also when the uncertainty is resolved. So use this value in Black's formula.\n",
    "* Recall that for caplets, we had to use a period before the payment due to the timing where the caplet's uncertainty is resolved a period early."
   ]
  },
  {
   "cell_type": "markdown",
   "id": "0c957b64",
   "metadata": {},
   "source": [
    "### Discount factor\n",
    "\n",
    "You only need to use Black's formula once to price the swaption.\n",
    "* With caps, we had to use Black's formula repeatedly to price each caplet. (Each caplet has different expiration and forward vol.)\n",
    "* A swaption is a single option, but it involves (if exercised) multiple payments. \n",
    "* Unlike the cap, each payoff of the exercised swaption corresponds to the same option, and thus is priced identically in Black's formula.\n",
    "* The only adjustment is to discount the exercised payoffs appropriately, refleting that they have different maturities.\n",
    "    \n",
    "We can use Black's formula once and scale it by the sum of appropriate discount factors to reflect multiple payoffs.\n",
    "    \n",
    "$$Z^{\\text{swap}}(0,T_o,T) \\equiv \\sum_{i=1}^mZ(0,T_i)$$\n",
    "where $T_i$ for $1\\le i \\le m$ denotes the swap payment dates.\n",
    "\n",
    "#### Example\n",
    "For the 1Y $\\rightarrow$ 2Y swaption written on an (annually paying) swap we have\n",
    "* $T_o=1$ \n",
    "* $T=3$ \n",
    "\n",
    "$$Z^{\\text{swap}}(0,T_o,T) = Z(0,2) + Z(0,3)$$"
   ]
  },
  {
   "cell_type": "markdown",
   "id": "16c8761d",
   "metadata": {},
   "source": [
    "### Forward Swap Rate\n",
    "In Black's formula we need the **forward** on the underlying, not the underlying rate itself.\n",
    "\n",
    "Thus, for the swaption, we need the **forward swap rate**, not the (spot) swap rate.\n",
    "\n",
    "Calculating forward rates from spot rates is done as usual, the same as for treasury rates. \n",
    "\n",
    "#### Discount Factor Formula\n",
    "$$f_n(t,\\Tfwd,T) \\equiv n\\frac{Z(t,\\Tfwd)-Z(t,T)}{\\sum_{i=1}^mZ(t,T_i)}$$\n",
    "where \n",
    "* $Z$ denotes the usual discount factor.\n",
    "* $n$ is the frequency of the swap payments. (That is, $n=2$ for semiannual swaps, etc.)\n",
    "* $T_i$ for $1\\le i\\le m$ again denotes the time to each swap payment, with $T_m=T$.\n",
    "* $\\Tfwd$ is the forward date."
   ]
  },
  {
   "cell_type": "markdown",
   "id": "7a2c87f7",
   "metadata": {},
   "source": [
    "***"
   ]
  },
  {
   "cell_type": "markdown",
   "id": "b161d391",
   "metadata": {},
   "source": [
    "# Forward Vol Products\n",
    "\n",
    "\n",
    "### Caplet Put-Call Parity\n",
    "\n",
    "Note that there is a put-call parity relationship between...\n",
    "* caplet\n",
    "* floorlet\n",
    "* FRA (single payment of a swap)\n",
    "\n",
    "$$ p_{\\text{caplet}} - p_{\\text{floorlet}} = p_{\\text{paying fixed FRA}}$$\n",
    "\n",
    "* where the caplet and floorlet are both European style and both struck at the forward rate of the FRA.\n",
    "\n",
    "\n",
    "### Cap Put-Call Parity\n",
    "\n",
    "Note that there is a put-call parity relationship between...\n",
    "* cap\n",
    "* floor\n",
    "* swap\n",
    "\n",
    "$$ p_{\\text{cap}} - p_{\\text{floor}} = p_{\\text{paying-fixed swap}}$$\n",
    "\n",
    "* where the cap and floor are both European style and both struck at the swap rate.\n",
    "\n",
    "\n",
    "### Swaption Put-Call Parity\n",
    "\n",
    "Note that there is a put-call parity relationship between...\n",
    "* payer swaption\n",
    "* receiver swaption\n",
    "* forward swap (at the expiration of the swaption)\n",
    "\n",
    "$$ p_{\\text{payer}} - p_{\\text{receiver}} = p_{\\text{forward swap}}$$\n",
    "\n",
    "* where the payer and receiver swaptions are both European style and both struck at the forward swap rate.\n",
    "\n",
    "\n",
    "### Forward Vols\n",
    "\n",
    "Swaptions are different from caps/floors\n",
    "* A swaption is a single option on a stream of payments.\n",
    "* A cap/floor is a stream of options on single payments.\n",
    "\n",
    "But both can be seen as options on forward rates.\n",
    "\n",
    "Accordingly, the **forward volatilities** between caps/floors and swaptions are related via no-arbitrage pricing.\n",
    "\n",
    "Forward Volatility Agreements (FVAs) are trading implied vol on these forward productions."
   ]
  },
  {
   "cell_type": "markdown",
   "id": "67d219d6",
   "metadata": {},
   "source": []
  }
 ],
 "metadata": {
  "hide_input": true,
  "kernelspec": {
   "display_name": "Python 3 (ipykernel)",
   "language": "python",
   "name": "python3"
  },
  "language_info": {
   "codemirror_mode": {
    "name": "ipython",
    "version": 3
   },
   "file_extension": ".py",
   "mimetype": "text/x-python",
   "name": "python",
   "nbconvert_exporter": "python",
   "pygments_lexer": "ipython3",
   "version": "3.13.1"
  }
 },
 "nbformat": 4,
 "nbformat_minor": 5
}
