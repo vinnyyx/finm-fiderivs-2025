{
 "cells": [
  {
   "cell_type": "markdown",
   "metadata": {},
   "source": [
    "# **<span style=\"color:red\">Solutions 1</span>**\n",
    "\n",
    "## FINM 37500: Fixed Income Derivatives\n",
    "\n",
    "### Mark Hendricks\n",
    "\n",
    "#### Winter 2025"
   ]
  },
  {
   "cell_type": "markdown",
   "metadata": {},
   "source": [
    "***"
   ]
  },
  {
   "cell_type": "markdown",
   "metadata": {},
   "source": [
    "# 1. Pricing the Callable Bond"
   ]
  },
  {
   "cell_type": "markdown",
   "metadata": {},
   "source": [
    "### Data\n",
    "\n",
    "Use the data from the following files.\n",
    "* `../data/callable_bonds_2025-02-13.xlsx`\n",
    "* `../data/discount_curve_2025-02-13.xlsx`"
   ]
  },
  {
   "cell_type": "markdown",
   "metadata": {},
   "source": [
    "The data contains info on the following bonds.\n",
    "\n",
    "`Callable`\n",
    "* `FHLMC 4.41 01/28/30` is a callable bond, and it is the primary object of our analysis.\n",
    "\n",
    "`Reference` bonds for a forward price.\n",
    "* `FHLMC 0.97 01/28/28`\n",
    "* `FHLMC 1.25 01/29/30`\n",
    "\n",
    "Though these are technically callable, they are far out of the money. Thus, for the purposes of this analysis, we consider the reference bonds as non-callable bonds.\n",
    "\n",
    "These reference bonds are analyzed in optional problems at the end, but mostly you will focus on the `callable` bond."
   ]
  },
  {
   "cell_type": "code",
   "execution_count": 1,
   "metadata": {
    "jupyter": {
     "source_hidden": true
    }
   },
   "outputs": [],
   "source": [
    "FILE_BOND = '../data/callable_bonds_2025-02-13.xlsx'\n",
    "FILE_CURVE = '../data/discount_curve_2025-02-13.xlsx'\n",
    "\n",
    "KEY_CALLABLE = 'FHLMC 4.41 01/28/30'"
   ]
  },
  {
   "cell_type": "markdown",
   "metadata": {},
   "source": [
    "### Alternate Analyses\n",
    "\n",
    "#### The Reference Bonds\n",
    "Try analyzing the reference bonds as callable.\n",
    "* They are far out of the money, so useful to see that the valuation looks like a non-callable.\n",
    "* Expiring in 3 months, though code below changes it to 6 monhts, to match coupon.\n",
    "* The fact it expires soon makes it easier to see negative convexity, though being far OTM makes it harder."
   ]
  },
  {
   "cell_type": "code",
   "execution_count": 2,
   "metadata": {},
   "outputs": [],
   "source": [
    "# KEY_CALLABLE = 'FHLMC 1 1/4 01/29/30'\n",
    "# KEY_CALLABLE = 'FHLMC 0.97 01/28/28'"
   ]
  },
  {
   "cell_type": "markdown",
   "metadata": {},
   "source": [
    "#### Newly-issued ATM, 1-yr expiry\n",
    "\n",
    "Try this alternate file `2025-02-18` for a recently-issued bond of size $1bn with a one-year expiration.\n",
    "* Easier to see the negative convexity.\n",
    "* Large size, recency should be more liquid."
   ]
  },
  {
   "cell_type": "code",
   "execution_count": 3,
   "metadata": {},
   "outputs": [],
   "source": [
    "# FILE_BOND = '../data/callable_bonds_2025-02-18.xlsx'\n",
    "# FILE_CURVE = '../data/discount_curve_2025-02-18.xlsx'\n",
    "# KEY_CALLABLE = 'FHLMC 4.55 02/11/28'"
   ]
  },
  {
   "cell_type": "markdown",
   "metadata": {},
   "source": [
    "### Bond Info"
   ]
  },
  {
   "cell_type": "code",
   "execution_count": 4,
   "metadata": {
    "jupyter": {
     "source_hidden": true
    }
   },
   "outputs": [
    {
     "data": {
      "text/html": [
       "<style type=\"text/css\">\n",
       "</style>\n",
       "<table id=\"T_9fc88\">\n",
       "  <thead>\n",
       "    <tr>\n",
       "      <th class=\"blank level0\" >&nbsp;</th>\n",
       "      <th id=\"T_9fc88_level0_col0\" class=\"col_heading level0 col0\" >FHLMC 0.97 01/28/28</th>\n",
       "      <th id=\"T_9fc88_level0_col1\" class=\"col_heading level0 col1\" >FHLMC 1 1/4 01/29/30</th>\n",
       "      <th id=\"T_9fc88_level0_col2\" class=\"col_heading level0 col2\" >FHLMC 4.41 01/28/30</th>\n",
       "    </tr>\n",
       "    <tr>\n",
       "      <th class=\"index_name level0\" >info</th>\n",
       "      <th class=\"blank col0\" >&nbsp;</th>\n",
       "      <th class=\"blank col1\" >&nbsp;</th>\n",
       "      <th class=\"blank col2\" >&nbsp;</th>\n",
       "    </tr>\n",
       "  </thead>\n",
       "  <tbody>\n",
       "    <tr>\n",
       "      <th id=\"T_9fc88_level0_row0\" class=\"row_heading level0 row0\" >CUSIP</th>\n",
       "      <td id=\"T_9fc88_row0_col0\" class=\"data row0 col0\" >3134GW5F9</td>\n",
       "      <td id=\"T_9fc88_row0_col1\" class=\"data row0 col1\" >3134GWGK6</td>\n",
       "      <td id=\"T_9fc88_row0_col2\" class=\"data row0 col2\" >3134HA4V2</td>\n",
       "    </tr>\n",
       "    <tr>\n",
       "      <th id=\"T_9fc88_level0_row1\" class=\"row_heading level0 row1\" >Issuer</th>\n",
       "      <td id=\"T_9fc88_row1_col0\" class=\"data row1 col0\" >FREDDIE MAC</td>\n",
       "      <td id=\"T_9fc88_row1_col1\" class=\"data row1 col1\" >FREDDIE MAC</td>\n",
       "      <td id=\"T_9fc88_row1_col2\" class=\"data row1 col2\" >FREDDIE MAC</td>\n",
       "    </tr>\n",
       "    <tr>\n",
       "      <th id=\"T_9fc88_level0_row2\" class=\"row_heading level0 row2\" >Maturity Type</th>\n",
       "      <td id=\"T_9fc88_row2_col0\" class=\"data row2 col0\" >CALLABLE</td>\n",
       "      <td id=\"T_9fc88_row2_col1\" class=\"data row2 col1\" >CALLABLE</td>\n",
       "      <td id=\"T_9fc88_row2_col2\" class=\"data row2 col2\" >CALLABLE</td>\n",
       "    </tr>\n",
       "    <tr>\n",
       "      <th id=\"T_9fc88_level0_row3\" class=\"row_heading level0 row3\" >Issuer Industry</th>\n",
       "      <td id=\"T_9fc88_row3_col0\" class=\"data row3 col0\" >GOVT AGENCY</td>\n",
       "      <td id=\"T_9fc88_row3_col1\" class=\"data row3 col1\" >GOVT AGENCY</td>\n",
       "      <td id=\"T_9fc88_row3_col2\" class=\"data row3 col2\" >GOVT AGENCY</td>\n",
       "    </tr>\n",
       "    <tr>\n",
       "      <th id=\"T_9fc88_level0_row4\" class=\"row_heading level0 row4\" >Amount Issued</th>\n",
       "      <td id=\"T_9fc88_row4_col0\" class=\"data row4 col0\" >30,000,000</td>\n",
       "      <td id=\"T_9fc88_row4_col1\" class=\"data row4 col1\" >25,000,000</td>\n",
       "      <td id=\"T_9fc88_row4_col2\" class=\"data row4 col2\" >10,000,000</td>\n",
       "    </tr>\n",
       "    <tr>\n",
       "      <th id=\"T_9fc88_level0_row5\" class=\"row_heading level0 row5\" >Cpn Rate</th>\n",
       "      <td id=\"T_9fc88_row5_col0\" class=\"data row5 col0\" >0.97%</td>\n",
       "      <td id=\"T_9fc88_row5_col1\" class=\"data row5 col1\" >1.25%</td>\n",
       "      <td id=\"T_9fc88_row5_col2\" class=\"data row5 col2\" >4.41%</td>\n",
       "    </tr>\n",
       "    <tr>\n",
       "      <th id=\"T_9fc88_level0_row6\" class=\"row_heading level0 row6\" >Cpn Freq</th>\n",
       "      <td id=\"T_9fc88_row6_col0\" class=\"data row6 col0\" >2</td>\n",
       "      <td id=\"T_9fc88_row6_col1\" class=\"data row6 col1\" >2</td>\n",
       "      <td id=\"T_9fc88_row6_col2\" class=\"data row6 col2\" >2</td>\n",
       "    </tr>\n",
       "    <tr>\n",
       "      <th id=\"T_9fc88_level0_row7\" class=\"row_heading level0 row7\" >Date Quoted</th>\n",
       "      <td id=\"T_9fc88_row7_col0\" class=\"data row7 col0\" >2025-02-13</td>\n",
       "      <td id=\"T_9fc88_row7_col1\" class=\"data row7 col1\" >2025-02-13</td>\n",
       "      <td id=\"T_9fc88_row7_col2\" class=\"data row7 col2\" >2025-02-13</td>\n",
       "    </tr>\n",
       "    <tr>\n",
       "      <th id=\"T_9fc88_level0_row8\" class=\"row_heading level0 row8\" >Date Issued</th>\n",
       "      <td id=\"T_9fc88_row8_col0\" class=\"data row8 col0\" >2020-10-28</td>\n",
       "      <td id=\"T_9fc88_row8_col1\" class=\"data row8 col1\" >2020-07-29</td>\n",
       "      <td id=\"T_9fc88_row8_col2\" class=\"data row8 col2\" >2025-01-28</td>\n",
       "    </tr>\n",
       "    <tr>\n",
       "      <th id=\"T_9fc88_level0_row9\" class=\"row_heading level0 row9\" >Date Matures</th>\n",
       "      <td id=\"T_9fc88_row9_col0\" class=\"data row9 col0\" >2028-01-28</td>\n",
       "      <td id=\"T_9fc88_row9_col1\" class=\"data row9 col1\" >2030-01-29</td>\n",
       "      <td id=\"T_9fc88_row9_col2\" class=\"data row9 col2\" >2030-01-28</td>\n",
       "    </tr>\n",
       "    <tr>\n",
       "      <th id=\"T_9fc88_level0_row10\" class=\"row_heading level0 row10\" >Date of First Possible Call</th>\n",
       "      <td id=\"T_9fc88_row10_col0\" class=\"data row10 col0\" >2021-01-28 00:00:00</td>\n",
       "      <td id=\"T_9fc88_row10_col1\" class=\"data row10 col1\" >2021-01-29 00:00:00</td>\n",
       "      <td id=\"T_9fc88_row10_col2\" class=\"data row10 col2\" >2028-01-28 00:00:00</td>\n",
       "    </tr>\n",
       "    <tr>\n",
       "      <th id=\"T_9fc88_level0_row11\" class=\"row_heading level0 row11\" >Date Next Call</th>\n",
       "      <td id=\"T_9fc88_row11_col0\" class=\"data row11 col0\" >2025-04-28</td>\n",
       "      <td id=\"T_9fc88_row11_col1\" class=\"data row11 col1\" >2025-04-29</td>\n",
       "      <td id=\"T_9fc88_row11_col2\" class=\"data row11 col2\" >2028-01-28</td>\n",
       "    </tr>\n",
       "    <tr>\n",
       "      <th id=\"T_9fc88_level0_row12\" class=\"row_heading level0 row12\" >Strike</th>\n",
       "      <td id=\"T_9fc88_row12_col0\" class=\"data row12 col0\" >100</td>\n",
       "      <td id=\"T_9fc88_row12_col1\" class=\"data row12 col1\" >100</td>\n",
       "      <td id=\"T_9fc88_row12_col2\" class=\"data row12 col2\" >100</td>\n",
       "    </tr>\n",
       "  </tbody>\n",
       "</table>\n"
      ],
      "text/plain": [
       "<pandas.io.formats.style.Styler at 0x119454830>"
      ]
     },
     "execution_count": 4,
     "metadata": {},
     "output_type": "execute_result"
    }
   ],
   "source": [
    "import pandas as pd\n",
    "\n",
    "info = pd.read_excel(FILE_BOND,sheet_name='info').set_index('info')\n",
    "info.style.format('{:.2%}',subset=pd.IndexSlice[[\"Cpn Rate\"], :]).format('{:,.0f}',subset=pd.IndexSlice[[\"Amount Issued\"], :]).format('{:%Y-%m-%d}',subset=pd.IndexSlice[[\"Date Quoted\",\"Date Issued\",\"Date Matures\",\"Date Next Call\"], :])"
   ]
  },
  {
   "cell_type": "markdown",
   "metadata": {},
   "source": [
    "### Quoted Values"
   ]
  },
  {
   "cell_type": "code",
   "execution_count": 5,
   "metadata": {
    "jupyter": {
     "source_hidden": true
    }
   },
   "outputs": [
    {
     "data": {
      "text/html": [
       "<style type=\"text/css\">\n",
       "</style>\n",
       "<table id=\"T_197d3\">\n",
       "  <thead>\n",
       "    <tr>\n",
       "      <th class=\"blank level0\" >&nbsp;</th>\n",
       "      <th id=\"T_197d3_level0_col0\" class=\"col_heading level0 col0\" >FHLMC 0.97 01/28/28</th>\n",
       "      <th id=\"T_197d3_level0_col1\" class=\"col_heading level0 col1\" >FHLMC 1 1/4 01/29/30</th>\n",
       "      <th id=\"T_197d3_level0_col2\" class=\"col_heading level0 col2\" >FHLMC 4.41 01/28/30</th>\n",
       "    </tr>\n",
       "    <tr>\n",
       "      <th class=\"index_name level0\" >quotes</th>\n",
       "      <th class=\"blank col0\" >&nbsp;</th>\n",
       "      <th class=\"blank col1\" >&nbsp;</th>\n",
       "      <th class=\"blank col2\" >&nbsp;</th>\n",
       "    </tr>\n",
       "  </thead>\n",
       "  <tbody>\n",
       "    <tr>\n",
       "      <th id=\"T_197d3_level0_row0\" class=\"row_heading level0 row0\" >Date Quoted</th>\n",
       "      <td id=\"T_197d3_row0_col0\" class=\"data row0 col0\" >2025-02-13</td>\n",
       "      <td id=\"T_197d3_row0_col1\" class=\"data row0 col1\" >2025-02-13</td>\n",
       "      <td id=\"T_197d3_row0_col2\" class=\"data row0 col2\" >2025-02-13</td>\n",
       "    </tr>\n",
       "    <tr>\n",
       "      <th id=\"T_197d3_level0_row1\" class=\"row_heading level0 row1\" >TTM</th>\n",
       "      <td id=\"T_197d3_row1_col0\" class=\"data row1 col0\" >2.95</td>\n",
       "      <td id=\"T_197d3_row1_col1\" class=\"data row1 col1\" >4.96</td>\n",
       "      <td id=\"T_197d3_row1_col2\" class=\"data row1 col2\" >4.96</td>\n",
       "    </tr>\n",
       "    <tr>\n",
       "      <th id=\"T_197d3_level0_row2\" class=\"row_heading level0 row2\" >Clean Price</th>\n",
       "      <td id=\"T_197d3_row2_col0\" class=\"data row2 col0\" >90.14</td>\n",
       "      <td id=\"T_197d3_row2_col1\" class=\"data row2 col1\" >85.11</td>\n",
       "      <td id=\"T_197d3_row2_col2\" class=\"data row2 col2\" >99.89</td>\n",
       "    </tr>\n",
       "    <tr>\n",
       "      <th id=\"T_197d3_level0_row3\" class=\"row_heading level0 row3\" >Dirty Price</th>\n",
       "      <td id=\"T_197d3_row3_col0\" class=\"data row3 col0\" >90.19</td>\n",
       "      <td id=\"T_197d3_row3_col1\" class=\"data row3 col1\" >85.16</td>\n",
       "      <td id=\"T_197d3_row3_col2\" class=\"data row3 col2\" >100.09</td>\n",
       "    </tr>\n",
       "    <tr>\n",
       "      <th id=\"T_197d3_level0_row4\" class=\"row_heading level0 row4\" >Accrued Interest</th>\n",
       "      <td id=\"T_197d3_row4_col0\" class=\"data row4 col0\" >0.04</td>\n",
       "      <td id=\"T_197d3_row4_col1\" class=\"data row4 col1\" >0.05</td>\n",
       "      <td id=\"T_197d3_row4_col2\" class=\"data row4 col2\" >0.20</td>\n",
       "    </tr>\n",
       "    <tr>\n",
       "      <th id=\"T_197d3_level0_row5\" class=\"row_heading level0 row5\" >YTM Call</th>\n",
       "      <td id=\"T_197d3_row5_col0\" class=\"data row5 col0\" >54.24</td>\n",
       "      <td id=\"T_197d3_row5_col1\" class=\"data row5 col1\" >85.40</td>\n",
       "      <td id=\"T_197d3_row5_col2\" class=\"data row5 col2\" >4.45</td>\n",
       "    </tr>\n",
       "    <tr>\n",
       "      <th id=\"T_197d3_level0_row6\" class=\"row_heading level0 row6\" >YTM Maturity</th>\n",
       "      <td id=\"T_197d3_row6_col0\" class=\"data row6 col0\" >4.57</td>\n",
       "      <td id=\"T_197d3_row6_col1\" class=\"data row6 col1\" >4.65</td>\n",
       "      <td id=\"T_197d3_row6_col2\" class=\"data row6 col2\" >4.43</td>\n",
       "    </tr>\n",
       "    <tr>\n",
       "      <th id=\"T_197d3_level0_row7\" class=\"row_heading level0 row7\" >Duration</th>\n",
       "      <td id=\"T_197d3_row7_col0\" class=\"data row7 col0\" >2.92</td>\n",
       "      <td id=\"T_197d3_row7_col1\" class=\"data row7 col1\" >4.81</td>\n",
       "      <td id=\"T_197d3_row7_col2\" class=\"data row7 col2\" >4.50</td>\n",
       "    </tr>\n",
       "    <tr>\n",
       "      <th id=\"T_197d3_level0_row8\" class=\"row_heading level0 row8\" >Modified Duration</th>\n",
       "      <td id=\"T_197d3_row8_col0\" class=\"data row8 col0\" >2.85</td>\n",
       "      <td id=\"T_197d3_row8_col1\" class=\"data row8 col1\" >4.70</td>\n",
       "      <td id=\"T_197d3_row8_col2\" class=\"data row8 col2\" >4.40</td>\n",
       "    </tr>\n",
       "    <tr>\n",
       "      <th id=\"T_197d3_level0_row9\" class=\"row_heading level0 row9\" >Convexity</th>\n",
       "      <td id=\"T_197d3_row9_col0\" class=\"data row9 col0\" >0.10</td>\n",
       "      <td id=\"T_197d3_row9_col1\" class=\"data row9 col1\" >0.25</td>\n",
       "      <td id=\"T_197d3_row9_col2\" class=\"data row9 col2\" >0.23</td>\n",
       "    </tr>\n",
       "    <tr>\n",
       "      <th id=\"T_197d3_level0_row10\" class=\"row_heading level0 row10\" >Treasury YLD Spread</th>\n",
       "      <td id=\"T_197d3_row10_col0\" class=\"data row10 col0\" >25.14</td>\n",
       "      <td id=\"T_197d3_row10_col1\" class=\"data row10 col1\" >26.01</td>\n",
       "      <td id=\"T_197d3_row10_col2\" class=\"data row10 col2\" >4.71</td>\n",
       "    </tr>\n",
       "    <tr>\n",
       "      <th id=\"T_197d3_level0_row11\" class=\"row_heading level0 row11\" >OAS Spread</th>\n",
       "      <td id=\"T_197d3_row11_col0\" class=\"data row11 col0\" >25.83</td>\n",
       "      <td id=\"T_197d3_row11_col1\" class=\"data row11 col1\" >25.97</td>\n",
       "      <td id=\"T_197d3_row11_col2\" class=\"data row11 col2\" >-26.77</td>\n",
       "    </tr>\n",
       "    <tr>\n",
       "      <th id=\"T_197d3_level0_row12\" class=\"row_heading level0 row12\" >Implied Vol</th>\n",
       "      <td id=\"T_197d3_row12_col0\" class=\"data row12 col0\" >19.60</td>\n",
       "      <td id=\"T_197d3_row12_col1\" class=\"data row12 col1\" >21.09</td>\n",
       "      <td id=\"T_197d3_row12_col2\" class=\"data row12 col2\" >23.88</td>\n",
       "    </tr>\n",
       "  </tbody>\n",
       "</table>\n"
      ],
      "text/plain": [
       "<pandas.io.formats.style.Styler at 0x118a20190>"
      ]
     },
     "execution_count": 5,
     "metadata": {},
     "output_type": "execute_result"
    }
   ],
   "source": [
    "quotes = pd.read_excel(FILE_BOND,sheet_name='quotes').set_index('quotes')\n",
    "quotes.style.format('{:.2f}', subset=pd.IndexSlice[quotes.index[1:], :]).format('{:%Y-%m-%d}', subset=pd.IndexSlice['Date Quoted', :])"
   ]
  },
  {
   "cell_type": "markdown",
   "metadata": {},
   "source": [
    "### Discount Curves"
   ]
  },
  {
   "cell_type": "code",
   "execution_count": 6,
   "metadata": {
    "jupyter": {
     "source_hidden": true
    }
   },
   "outputs": [
    {
     "data": {
      "text/html": [
       "<div>\n",
       "<style scoped>\n",
       "    .dataframe tbody tr th:only-of-type {\n",
       "        vertical-align: middle;\n",
       "    }\n",
       "\n",
       "    .dataframe tbody tr th {\n",
       "        vertical-align: top;\n",
       "    }\n",
       "\n",
       "    .dataframe thead th {\n",
       "        text-align: right;\n",
       "    }\n",
       "</style>\n",
       "<table border=\"1\" class=\"dataframe\">\n",
       "  <thead>\n",
       "    <tr style=\"text-align: right;\">\n",
       "      <th></th>\n",
       "      <th>maturity date</th>\n",
       "      <th>spot rate</th>\n",
       "      <th>discount</th>\n",
       "    </tr>\n",
       "    <tr>\n",
       "      <th>ttm</th>\n",
       "      <th></th>\n",
       "      <th></th>\n",
       "      <th></th>\n",
       "    </tr>\n",
       "  </thead>\n",
       "  <tbody>\n",
       "    <tr>\n",
       "      <th>0.5</th>\n",
       "      <td>2025-08-13</td>\n",
       "      <td>0.043743</td>\n",
       "      <td>0.978597</td>\n",
       "    </tr>\n",
       "    <tr>\n",
       "      <th>1.0</th>\n",
       "      <td>2026-02-13</td>\n",
       "      <td>0.042890</td>\n",
       "      <td>0.958451</td>\n",
       "    </tr>\n",
       "    <tr>\n",
       "      <th>1.5</th>\n",
       "      <td>2026-08-13</td>\n",
       "      <td>0.042238</td>\n",
       "      <td>0.939228</td>\n",
       "    </tr>\n",
       "    <tr>\n",
       "      <th>2.0</th>\n",
       "      <td>2027-02-13</td>\n",
       "      <td>0.041843</td>\n",
       "      <td>0.920515</td>\n",
       "    </tr>\n",
       "    <tr>\n",
       "      <th>2.5</th>\n",
       "      <td>2027-08-13</td>\n",
       "      <td>0.041632</td>\n",
       "      <td>0.902117</td>\n",
       "    </tr>\n",
       "  </tbody>\n",
       "</table>\n",
       "</div>"
      ],
      "text/plain": [
       "    maturity date  spot rate  discount\n",
       "ttm                                   \n",
       "0.5    2025-08-13   0.043743  0.978597\n",
       "1.0    2026-02-13   0.042890  0.958451\n",
       "1.5    2026-08-13   0.042238  0.939228\n",
       "2.0    2027-02-13   0.041843  0.920515\n",
       "2.5    2027-08-13   0.041632  0.902117"
      ]
     },
     "metadata": {},
     "output_type": "display_data"
    },
    {
     "data": {
      "text/html": [
       "<div>\n",
       "<style scoped>\n",
       "    .dataframe tbody tr th:only-of-type {\n",
       "        vertical-align: middle;\n",
       "    }\n",
       "\n",
       "    .dataframe tbody tr th {\n",
       "        vertical-align: top;\n",
       "    }\n",
       "\n",
       "    .dataframe thead th {\n",
       "        text-align: right;\n",
       "    }\n",
       "</style>\n",
       "<table border=\"1\" class=\"dataframe\">\n",
       "  <thead>\n",
       "    <tr style=\"text-align: right;\">\n",
       "      <th></th>\n",
       "      <th>maturity date</th>\n",
       "      <th>spot rate</th>\n",
       "      <th>discount</th>\n",
       "    </tr>\n",
       "    <tr>\n",
       "      <th>ttm</th>\n",
       "      <th></th>\n",
       "      <th></th>\n",
       "      <th></th>\n",
       "    </tr>\n",
       "  </thead>\n",
       "  <tbody>\n",
       "    <tr>\n",
       "      <th>28.0</th>\n",
       "      <td>2053-02-13</td>\n",
       "      <td>0.040185</td>\n",
       "      <td>0.328231</td>\n",
       "    </tr>\n",
       "    <tr>\n",
       "      <th>28.5</th>\n",
       "      <td>2053-08-13</td>\n",
       "      <td>0.040051</td>\n",
       "      <td>0.322978</td>\n",
       "    </tr>\n",
       "    <tr>\n",
       "      <th>29.0</th>\n",
       "      <td>2054-02-13</td>\n",
       "      <td>0.039916</td>\n",
       "      <td>0.317851</td>\n",
       "    </tr>\n",
       "    <tr>\n",
       "      <th>29.5</th>\n",
       "      <td>2054-08-13</td>\n",
       "      <td>0.039791</td>\n",
       "      <td>0.312766</td>\n",
       "    </tr>\n",
       "    <tr>\n",
       "      <th>30.0</th>\n",
       "      <td>2055-02-13</td>\n",
       "      <td>0.039665</td>\n",
       "      <td>0.307802</td>\n",
       "    </tr>\n",
       "  </tbody>\n",
       "</table>\n",
       "</div>"
      ],
      "text/plain": [
       "     maturity date  spot rate  discount\n",
       "ttm                                    \n",
       "28.0    2053-02-13   0.040185  0.328231\n",
       "28.5    2053-08-13   0.040051  0.322978\n",
       "29.0    2054-02-13   0.039916  0.317851\n",
       "29.5    2054-08-13   0.039791  0.312766\n",
       "30.0    2055-02-13   0.039665  0.307802"
      ]
     },
     "metadata": {},
     "output_type": "display_data"
    }
   ],
   "source": [
    "discs = pd.read_excel(FILE_CURVE,sheet_name='discount curve').set_index('ttm')\n",
    "display(discs.head())\n",
    "display(discs.tail())"
   ]
  },
  {
   "cell_type": "markdown",
   "metadata": {},
   "source": [
    "***"
   ]
  },
  {
   "cell_type": "markdown",
   "metadata": {},
   "source": [
    "### 1.1.\n",
    "\n",
    "Use the discount curve data to price both the `callable` and `reference` bonds.\n",
    "\n",
    "Also calculate the price of the `hypothetical` bonds, where we consider a non-callable version of the callable bond with \n",
    "* maturity unchanged\n",
    "* maturity at the call date."
   ]
  },
  {
   "cell_type": "markdown",
   "metadata": {},
   "source": [
    "### 1.2.\n",
    "\n",
    "Calculate the forward price of the `hypothetical` bond as of the date that the `callable` bond can be exercised.\n",
    "\n",
    "Use the information from the discount curve (and associated forward curve) to calculate this forward price."
   ]
  },
  {
   "cell_type": "markdown",
   "metadata": {},
   "source": [
    "### 1.3.\n",
    "\n",
    "The provided implied vol corresponds to the implied vol of the **rate**. Specifically,\n",
    "* the forward rate corresponding to the time of expiration.\n",
    "* continuously compounded.\n",
    "\n",
    "Use the duration approximation to get the approximate implied vol corresponding to the forward price.\n",
    "\n",
    "$$\\sigma_{\\text{bond fwd price}} \\approx D \\times \\sigma_{\\text{fwd rate}}\\times f(T_1)$$\n",
    "\n",
    "where $f(T_1)$ is the continuously-compounded (instantaneous) forward rate at time $T_1$.\n",
    "* If you're struggling with the forward rate calc, just usse the provided spot rate at $T_1$; it will be a close approximation in this example.\n",
    "* In this approximation, use the quoted duration from the table. (Yes, this is a bit circular, but we don't want to get bogged down with a duration calculation at this point.)\n",
    "\n",
    "Report the implied vol of the bond's forward price."
   ]
  },
  {
   "cell_type": "markdown",
   "metadata": {},
   "source": [
    "### 1.4.\n",
    "\n",
    "For the `callable` bond, report Black's value of the embedded call option.\n",
    "* Use this to report the value of the `callable` bond.\n",
    "* How does it compare to the actual market price?\n",
    "\n",
    "For the calculation of the option, use...\n",
    "* the quoted `Implied Vol` calculated above.\n",
    "* forward price of the `hypothetical` bond calculated above.\n",
    "* provided discount factor\n",
    "\n",
    "#### Simplifications\n",
    "Note that in this calculation we are making a few simplifications.\n",
    "* We are simplifying that the `callable` bond is European exercise with an exercise date as reported in `Date Next Call` above. \n",
    "* In reality, it is Bermudan, with quarterly exercise dates after the first exercise date.\n",
    "* The time-to-exercise is not a round number, but you only have discount factors at rounded time-to-maturities. Just use the closest discount factor."
   ]
  },
  {
   "cell_type": "markdown",
   "metadata": {},
   "source": [
    "### 1.5.\n",
    "\n",
    "Calculate the YTM of the callable bond, assuming that...\n",
    "* it can never be called. (This is the `hypothetical` bond we analyzed above.)\n",
    "* it will certainly be called.\n",
    "\n",
    "How do these compare to the quoted YTM Called and YTM Maturity in the table?"
   ]
  },
  {
   "cell_type": "markdown",
   "metadata": {},
   "source": [
    "### 1.6.\n",
    "\n",
    "Calculate the duration of...\n",
    "* the `hypothetical` bond\n",
    "* the `callable` bond\n",
    "\n",
    "How do these compare to the quoted duration in the table?\n",
    "\n",
    "For the callable bond, calculate duration numerically by modifying the spot rates up and down by 1bp and seeing how it changes the valuation of parts `1.1`-`1.3`."
   ]
  },
  {
   "cell_type": "markdown",
   "metadata": {},
   "source": [
    "### 1.7.\n",
    "\n",
    "Calculate the OAS of the `callable` bond.\n",
    "\n",
    "How does it compare to the quoted OAS?\n",
    "\n",
    "Recall that the OAS is the parallel shift in the spot curve needed to align the modeled value to the market quote."
   ]
  },
  {
   "cell_type": "markdown",
   "metadata": {},
   "source": [
    "### 1.8. Optional\n",
    "\n",
    "Calculate the forward price of the `hypothetical` bond, but try doing so by using the `reference` bonds to calculate the forward price.\n",
    "* The prices of these reference bonds would be discount factors, and we simply take the ratio.\n",
    "* However, the coupons of the bonds do not align, so you need to adjust for this fact."
   ]
  },
  {
   "cell_type": "markdown",
   "metadata": {},
   "source": [
    "### 1.9. Optional\n",
    "\n",
    "Analyze what we have called the `reference` bonds as `callable` bonds. \n",
    "\n",
    "Calculate its value, YTMs, duration, and OAS."
   ]
  },
  {
   "cell_type": "markdown",
   "metadata": {},
   "source": [
    "***"
   ]
  },
  {
   "cell_type": "markdown",
   "metadata": {},
   "source": [
    "# **<span style=\"color:red\">Solution 1</span>**"
   ]
  },
  {
   "cell_type": "code",
   "execution_count": 7,
   "metadata": {
    "jupyter": {
     "source_hidden": true
    }
   },
   "outputs": [],
   "source": [
    "import sys\n",
    "sys.path.insert(0, '../cmds')\n",
    "from fiderivs import *"
   ]
  },
  {
   "cell_type": "code",
   "execution_count": 8,
   "metadata": {
    "jupyter": {
     "source_hidden": true
    }
   },
   "outputs": [],
   "source": [
    "import datetime\n",
    "import warnings\n",
    "warnings.filterwarnings('ignore',category=FutureWarning)\n",
    "import matplotlib.pyplot as plt\n",
    "import seaborn as sns\n",
    "%matplotlib inline\n",
    "plt.rcParams['figure.figsize'] = (12,6)\n",
    "plt.rcParams['font.size'] = 15\n",
    "plt.rcParams['legend.fontsize'] = 13\n",
    "\n",
    "from matplotlib.ticker import (MultipleLocator,\n",
    "                               FormatStrFormatter,\n",
    "                               AutoMinorLocator)"
   ]
  },
  {
   "cell_type": "code",
   "execution_count": 9,
   "metadata": {
    "jupyter": {
     "source_hidden": true
    }
   },
   "outputs": [],
   "source": [
    "DAYS_YEAR = 365.25\n",
    "FACE = 100\n",
    "\n",
    "quotes.loc['TTC'] = (pd.to_datetime(info.loc['Date Next Call']) - pd.to_datetime(info.loc['Date Quoted'])).dt.days / DAYS_YEAR"
   ]
  },
  {
   "cell_type": "markdown",
   "metadata": {},
   "source": [
    "#### Modifications on Time-to-Expiration"
   ]
  },
  {
   "cell_type": "markdown",
   "metadata": {},
   "source": [
    "Modify the time-to-expiration if evaluating the reference bonds to align expiration with coupon date."
   ]
  },
  {
   "cell_type": "code",
   "execution_count": 10,
   "metadata": {
    "jupyter": {
     "source_hidden": true
    }
   },
   "outputs": [],
   "source": [
    "if quotes.loc['TTC',KEY_CALLABLE] < 0.3:\n",
    "    quotes.loc['TTC',KEY_CALLABLE] += .25"
   ]
  },
  {
   "cell_type": "markdown",
   "metadata": {},
   "source": [
    "In order to see the negative convexity stronger, try setting the key bond's time-to-expiration to one year."
   ]
  },
  {
   "cell_type": "code",
   "execution_count": 11,
   "metadata": {
    "jupyter": {
     "source_hidden": true
    }
   },
   "outputs": [],
   "source": [
    "MODIFY_EXPRY = False\n",
    "\n",
    "if MODIFY_EXPRY:\n",
    "    quotes.loc['TTC'] = 1"
   ]
  },
  {
   "cell_type": "code",
   "execution_count": 12,
   "metadata": {
    "jupyter": {
     "source_hidden": true
    }
   },
   "outputs": [],
   "source": [
    "DISC_INTERVAL = 0.1\n",
    "\n",
    "Tmaturity = quotes.loc['TTM',KEY_CALLABLE]\n",
    "Topt = quotes.loc['TTC',KEY_CALLABLE]\n",
    "cpnfreq = info.loc['Cpn Freq', KEY_CALLABLE]\n",
    "\n",
    "time_to_cpn = round(Tmaturity % (1 / cpnfreq), 2)\n",
    "discs = interpolate_curve(discs[['maturity date','discount']].rename(columns={'maturity date':'date'}),interval_years=DISC_INTERVAL,compounding=2,anchor_ttm=Topt,min_ttm=0.05)\n",
    "\n",
    "discount_grid_step = (discs.index[1]-discs.index[0])\n",
    "grid_step_cpn = round(1 / (cpnfreq * discount_grid_step))"
   ]
  },
  {
   "cell_type": "markdown",
   "metadata": {},
   "source": [
    "### **<span style=\"color:red\">1.1. Bond Pricing</span>**"
   ]
  },
  {
   "cell_type": "code",
   "execution_count": 13,
   "metadata": {
    "jupyter": {
     "source_hidden": true
    }
   },
   "outputs": [
    {
     "data": {
      "text/html": [
       "<style type=\"text/css\">\n",
       "</style>\n",
       "<table id=\"T_a7771\">\n",
       "  <thead>\n",
       "    <tr>\n",
       "      <th class=\"blank level0\" >&nbsp;</th>\n",
       "      <th id=\"T_a7771_level0_col0\" class=\"col_heading level0 col0\" >model</th>\n",
       "      <th id=\"T_a7771_level0_col1\" class=\"col_heading level0 col1\" >market</th>\n",
       "    </tr>\n",
       "  </thead>\n",
       "  <tbody>\n",
       "    <tr>\n",
       "      <th id=\"T_a7771_level0_row0\" class=\"row_heading level0 row0\" >hypothetical T1</th>\n",
       "      <td id=\"T_a7771_row0_col0\" class=\"data row0 col0\" >101.08</td>\n",
       "      <td id=\"T_a7771_row0_col1\" class=\"data row0 col1\" ></td>\n",
       "    </tr>\n",
       "    <tr>\n",
       "      <th id=\"T_a7771_level0_row1\" class=\"row_heading level0 row1\" >hypothetical T2</th>\n",
       "      <td id=\"T_a7771_row1_col0\" class=\"data row1 col0\" >101.57</td>\n",
       "      <td id=\"T_a7771_row1_col1\" class=\"data row1 col1\" ></td>\n",
       "    </tr>\n",
       "    <tr>\n",
       "      <th id=\"T_a7771_level0_row2\" class=\"row_heading level0 row2\" >callable</th>\n",
       "      <td id=\"T_a7771_row2_col0\" class=\"data row2 col0\" ></td>\n",
       "      <td id=\"T_a7771_row2_col1\" class=\"data row2 col1\" >100.09</td>\n",
       "    </tr>\n",
       "  </tbody>\n",
       "</table>\n"
      ],
      "text/plain": [
       "<pandas.io.formats.style.Styler at 0x11e216990>"
      ]
     },
     "execution_count": 13,
     "metadata": {},
     "output_type": "execute_result"
    }
   ],
   "source": [
    "prices = pd.DataFrame(dtype=float,index=['hypothetical T1', 'hypothetical T2', 'callable'],columns=['model','market'])\n",
    "\n",
    "T1 = quotes.loc['TTC',KEY_CALLABLE]\n",
    "T2 = quotes.loc['TTM',KEY_CALLABLE]\n",
    "accint = quotes.loc['Accrued Interest',KEY_CALLABLE]\n",
    "cpnrate = info.loc['Cpn Rate',KEY_CALLABLE]\n",
    "\n",
    "prices.loc['hypothetical T1','model'] = price_bond(discs,cpnrate=cpnrate,ttm=T1)\n",
    "prices.loc['hypothetical T1','model'] += accint\n",
    "\n",
    "prices.loc['hypothetical T2','model'] = price_bond(discs,cpnrate=cpnrate,ttm=T2)\n",
    "prices.loc['hypothetical T2','model'] += accint\n",
    "\n",
    "prices.loc['callable','market'] = quotes.loc['Dirty Price',KEY_CALLABLE]\n",
    "prices.style.format('{:.2f}',na_rep='')"
   ]
  },
  {
   "cell_type": "markdown",
   "metadata": {},
   "source": [
    "### **<span style=\"color:red\">1.2. Forward Pricing</span>**"
   ]
  },
  {
   "cell_type": "code",
   "execution_count": 14,
   "metadata": {
    "jupyter": {
     "source_hidden": true
    }
   },
   "outputs": [
    {
     "data": {
      "text/html": [
       "<style type=\"text/css\">\n",
       "</style>\n",
       "<table id=\"T_993e3\">\n",
       "  <thead>\n",
       "    <tr>\n",
       "      <th class=\"blank level0\" >&nbsp;</th>\n",
       "      <th id=\"T_993e3_level0_col0\" class=\"col_heading level0 col0\" >modeled price</th>\n",
       "    </tr>\n",
       "    <tr>\n",
       "      <th class=\"index_name level0\" >hypothetical (un-callable) bond</th>\n",
       "      <th class=\"blank col0\" >&nbsp;</th>\n",
       "    </tr>\n",
       "  </thead>\n",
       "  <tbody>\n",
       "    <tr>\n",
       "      <th id=\"T_993e3_level0_row0\" class=\"row_heading level0 row0\" >spot</th>\n",
       "      <td id=\"T_993e3_row0_col0\" class=\"data row0 col0\" >101.57</td>\n",
       "    </tr>\n",
       "    <tr>\n",
       "      <th id=\"T_993e3_level0_row1\" class=\"row_heading level0 row1\" >forward</th>\n",
       "      <td id=\"T_993e3_row1_col0\" class=\"data row1 col0\" >100.52</td>\n",
       "    </tr>\n",
       "  </tbody>\n",
       "</table>\n"
      ],
      "text/plain": [
       "<pandas.io.formats.style.Styler at 0x11e216d50>"
      ]
     },
     "execution_count": 14,
     "metadata": {},
     "output_type": "execute_result"
    }
   ],
   "source": [
    "Pspot = prices.loc['hypothetical T2','model']\n",
    "\n",
    "Pfwd = calc_forward_bond_price(Pspot,Topt,discs,cpnrate,face=FACE)\n",
    "\n",
    "tab_fwd = pd.DataFrame([Pspot,Pfwd],index=['spot','forward'],columns=['modeled price'])\n",
    "tab_fwd.index.name = 'hypothetical (un-callable) bond'\n",
    "tab_fwd.style.format('{:.2f}')"
   ]
  },
  {
   "cell_type": "markdown",
   "metadata": {},
   "source": [
    "We see that the forward price is lower than spot if the coupon rate is higher than the forward rates."
   ]
  },
  {
   "cell_type": "code",
   "execution_count": 15,
   "metadata": {
    "jupyter": {
     "source_hidden": true
    }
   },
   "outputs": [
    {
     "data": {
      "image/png": "[encoded data removed]",
      "text/plain": [
       "<Figure size 1200x600 with 1 Axes>"
      ]
     },
     "metadata": {},
     "output_type": "display_data"
    }
   ],
   "source": [
    "frates = discounts_to_forwardcurve(discs['discount'],n_compound=2)\n",
    "ax = frates.plot()\n",
    "ax.axhline(cpnrate, color='r', linestyle='--')\n",
    "plt.xlim(0,Tmaturity)\n",
    "plt.ylim(None,np.max([cpnrate,frates.max()])*1.1)\n",
    "plt.legend(['forward rate','coupon rate'])\n",
    "plt.show()"
   ]
  },
  {
   "cell_type": "markdown",
   "metadata": {},
   "source": [
    "### **<span style=\"color:red\">1.3. Implied Vol</span>**"
   ]
  },
  {
   "cell_type": "markdown",
   "metadata": {},
   "source": [
    "The implied vol of the bond price is approximated via the implied vol of the forward rate."
   ]
  },
  {
   "cell_type": "code",
   "execution_count": 16,
   "metadata": {
    "jupyter": {
     "source_hidden": true
    }
   },
   "outputs": [
    {
     "data": {
      "text/html": [
       "<style type=\"text/css\">\n",
       "</style>\n",
       "<table id=\"T_3b574\">\n",
       "  <thead>\n",
       "    <tr>\n",
       "      <th class=\"blank level0\" >&nbsp;</th>\n",
       "      <th id=\"T_3b574_level0_col0\" class=\"col_heading level0 col0\" >implied vol</th>\n",
       "    </tr>\n",
       "  </thead>\n",
       "  <tbody>\n",
       "    <tr>\n",
       "      <th id=\"T_3b574_level0_row0\" class=\"row_heading level0 row0\" >fwd rate</th>\n",
       "      <td id=\"T_3b574_row0_col0\" class=\"data row0 col0\" >23.88%</td>\n",
       "    </tr>\n",
       "    <tr>\n",
       "      <th id=\"T_3b574_level0_row1\" class=\"row_heading level0 row1\" >fwd price</th>\n",
       "      <td id=\"T_3b574_row1_col0\" class=\"data row1 col0\" >4.37%</td>\n",
       "    </tr>\n",
       "  </tbody>\n",
       "</table>\n"
      ],
      "text/plain": [
       "<pandas.io.formats.style.Styler at 0x11e60a710>"
      ]
     },
     "execution_count": 16,
     "metadata": {},
     "output_type": "execute_result"
    }
   ],
   "source": [
    "duration_callable = quotes.loc['Duration',KEY_CALLABLE]\n",
    "ivol_rate = quotes.loc['Implied Vol',KEY_CALLABLE]/100\n",
    "\n",
    "Topt_rounded = get_approximate_discount(Topt,discs)\n",
    "fwdrate = frates.loc[Topt_rounded]   \n",
    "\n",
    "ivol_price = ratevol_to_pricevol(ivol_rate,fwdrate,duration_callable)\n",
    "\n",
    "pd.DataFrame([ivol_rate,ivol_price],index=['fwd rate','fwd price'], columns=['implied vol']).style.format('{:.2%}')"
   ]
  },
  {
   "cell_type": "markdown",
   "metadata": {},
   "source": [
    "### **<span style=\"color:red\">1.4. Black's Formula</span>**"
   ]
  },
  {
   "cell_type": "markdown",
   "metadata": {},
   "source": [
    "The embedded call has a positive value, and we find the modeled value of the callable option is less than the market value fo the callable."
   ]
  },
  {
   "cell_type": "code",
   "execution_count": 17,
   "metadata": {
    "jupyter": {
     "source_hidden": true
    }
   },
   "outputs": [],
   "source": [
    "Z = discs.loc[Topt_rounded,'discount']\n",
    "\n",
    "clean_strike = info.loc['Strike',KEY_CALLABLE]\n",
    "coupon_payment = FACE * cpnrate/cpnfreq\n",
    "dirty_strike = clean_strike + coupon_payment\n",
    "K = clean_strike\n",
    "\n",
    "value_call = black_option_price(Pfwd, strike=K, implied_vol=ivol_price, time_to_expiry=Topt, discount_factor=Z, option_type=\"call\")"
   ]
  },
  {
   "cell_type": "code",
   "execution_count": 18,
   "metadata": {
    "jupyter": {
     "source_hidden": true
    }
   },
   "outputs": [
    {
     "data": {
      "text/html": [
       "<style type=\"text/css\">\n",
       "</style>\n",
       "<table id=\"T_cb51d\">\n",
       "  <thead>\n",
       "    <tr>\n",
       "      <th class=\"blank level0\" >&nbsp;</th>\n",
       "      <th id=\"T_cb51d_level0_col0\" class=\"col_heading level0 col0\" >model</th>\n",
       "    </tr>\n",
       "  </thead>\n",
       "  <tbody>\n",
       "    <tr>\n",
       "      <th id=\"T_cb51d_level0_row0\" class=\"row_heading level0 row0\" >forward</th>\n",
       "      <td id=\"T_cb51d_row0_col0\" class=\"data row0 col0\" >100.52</td>\n",
       "    </tr>\n",
       "    <tr>\n",
       "      <th id=\"T_cb51d_level0_row1\" class=\"row_heading level0 row1\" >strike</th>\n",
       "      <td id=\"T_cb51d_row1_col0\" class=\"data row1 col0\" >100.00</td>\n",
       "    </tr>\n",
       "    <tr>\n",
       "      <th id=\"T_cb51d_level0_row2\" class=\"row_heading level0 row2\" >expiration</th>\n",
       "      <td id=\"T_cb51d_row2_col0\" class=\"data row2 col0\" >2.95</td>\n",
       "    </tr>\n",
       "    <tr>\n",
       "      <th id=\"T_cb51d_level0_row3\" class=\"row_heading level0 row3\" >discount</th>\n",
       "      <td id=\"T_cb51d_row3_col0\" class=\"data row3 col0\" >0.89</td>\n",
       "    </tr>\n",
       "    <tr>\n",
       "      <th id=\"T_cb51d_level0_row4\" class=\"row_heading level0 row4\" >ivol rate</th>\n",
       "      <td id=\"T_cb51d_row4_col0\" class=\"data row4 col0\" >23.88%</td>\n",
       "    </tr>\n",
       "    <tr>\n",
       "      <th id=\"T_cb51d_level0_row5\" class=\"row_heading level0 row5\" >ivol price</th>\n",
       "      <td id=\"T_cb51d_row5_col0\" class=\"data row5 col0\" >4.37%</td>\n",
       "    </tr>\n",
       "    <tr>\n",
       "      <th id=\"T_cb51d_level0_row6\" class=\"row_heading level0 row6\" >call value</th>\n",
       "      <td id=\"T_cb51d_row6_col0\" class=\"data row6 col0\" >2.90</td>\n",
       "    </tr>\n",
       "  </tbody>\n",
       "</table>\n"
      ],
      "text/plain": [
       "<pandas.io.formats.style.Styler at 0x11e60a490>"
      ]
     },
     "execution_count": 18,
     "metadata": {},
     "output_type": "execute_result"
    }
   ],
   "source": [
    "option_table = pd.DataFrame(index=['forward','strike','expiration','discount','ivol rate','ivol price'],columns=['model'], dtype=float)\n",
    "option_table.loc['forward'] = Pfwd\n",
    "option_table.loc['strike'] = K\n",
    "option_table.loc['expiration'] = Topt\n",
    "option_table.loc['discount'] = Z\n",
    "option_table.loc['ivol rate'] = ivol_rate\n",
    "option_table.loc['ivol price'] = ivol_price\n",
    "option_table.loc['call value'] = value_call\n",
    "\n",
    "option_table.style.format('{:.2f}').format('{:.2%}',subset=pd.IndexSlice[[\"ivol rate\",\"ivol price\"], :])"
   ]
  },
  {
   "cell_type": "code",
   "execution_count": 19,
   "metadata": {
    "jupyter": {
     "source_hidden": true
    }
   },
   "outputs": [
    {
     "data": {
      "text/html": [
       "<style type=\"text/css\">\n",
       "</style>\n",
       "<table id=\"T_aca89\">\n",
       "  <thead>\n",
       "    <tr>\n",
       "      <th class=\"blank level0\" >&nbsp;</th>\n",
       "      <th id=\"T_aca89_level0_col0\" class=\"col_heading level0 col0\" >model</th>\n",
       "      <th id=\"T_aca89_level0_col1\" class=\"col_heading level0 col1\" >market</th>\n",
       "    </tr>\n",
       "  </thead>\n",
       "  <tbody>\n",
       "    <tr>\n",
       "      <th id=\"T_aca89_level0_row0\" class=\"row_heading level0 row0\" >hypothetical T1</th>\n",
       "      <td id=\"T_aca89_row0_col0\" class=\"data row0 col0\" >101.08</td>\n",
       "      <td id=\"T_aca89_row0_col1\" class=\"data row0 col1\" ></td>\n",
       "    </tr>\n",
       "    <tr>\n",
       "      <th id=\"T_aca89_level0_row1\" class=\"row_heading level0 row1\" >hypothetical T2</th>\n",
       "      <td id=\"T_aca89_row1_col0\" class=\"data row1 col0\" >101.57</td>\n",
       "      <td id=\"T_aca89_row1_col1\" class=\"data row1 col1\" ></td>\n",
       "    </tr>\n",
       "    <tr>\n",
       "      <th id=\"T_aca89_level0_row2\" class=\"row_heading level0 row2\" >callable</th>\n",
       "      <td id=\"T_aca89_row2_col0\" class=\"data row2 col0\" >98.67</td>\n",
       "      <td id=\"T_aca89_row2_col1\" class=\"data row2 col1\" >100.09</td>\n",
       "    </tr>\n",
       "    <tr>\n",
       "      <th id=\"T_aca89_level0_row3\" class=\"row_heading level0 row3\" >embedded call</th>\n",
       "      <td id=\"T_aca89_row3_col0\" class=\"data row3 col0\" >2.90</td>\n",
       "      <td id=\"T_aca89_row3_col1\" class=\"data row3 col1\" ></td>\n",
       "    </tr>\n",
       "  </tbody>\n",
       "</table>\n"
      ],
      "text/plain": [
       "<pandas.io.formats.style.Styler at 0x11e60a350>"
      ]
     },
     "execution_count": 19,
     "metadata": {},
     "output_type": "execute_result"
    }
   ],
   "source": [
    "prices.loc['embedded call','model'] = value_call\n",
    "prices.loc['callable','model'] = prices.loc['hypothetical T2','model'] - value_call\n",
    "prices.style.format('{:.2f}',na_rep='')"
   ]
  },
  {
   "cell_type": "markdown",
   "metadata": {},
   "source": [
    "### **<span style=\"color:red\">1.5. YTM</span>**"
   ]
  },
  {
   "cell_type": "code",
   "execution_count": 20,
   "metadata": {
    "jupyter": {
     "source_hidden": true
    }
   },
   "outputs": [
    {
     "data": {
      "text/html": [
       "<style type=\"text/css\">\n",
       "</style>\n",
       "<table id=\"T_b7444\">\n",
       "  <caption>ytm</caption>\n",
       "  <thead>\n",
       "    <tr>\n",
       "      <th class=\"blank level0\" >&nbsp;</th>\n",
       "      <th id=\"T_b7444_level0_col0\" class=\"col_heading level0 col0\" >hypothetical</th>\n",
       "      <th id=\"T_b7444_level0_col1\" class=\"col_heading level0 col1\" >callable</th>\n",
       "      <th id=\"T_b7444_level0_col2\" class=\"col_heading level0 col2\" >bloomberg</th>\n",
       "    </tr>\n",
       "  </thead>\n",
       "  <tbody>\n",
       "    <tr>\n",
       "      <th id=\"T_b7444_level0_row0\" class=\"row_heading level0 row0\" >T1</th>\n",
       "      <td id=\"T_b7444_row0_col0\" class=\"data row0 col0\" >4.02%</td>\n",
       "      <td id=\"T_b7444_row0_col1\" class=\"data row0 col1\" >4.38%</td>\n",
       "      <td id=\"T_b7444_row0_col2\" class=\"data row0 col2\" >4.45%</td>\n",
       "    </tr>\n",
       "    <tr>\n",
       "      <th id=\"T_b7444_level0_row1\" class=\"row_heading level0 row1\" >T2</th>\n",
       "      <td id=\"T_b7444_row1_col0\" class=\"data row1 col0\" >4.06%</td>\n",
       "      <td id=\"T_b7444_row1_col1\" class=\"data row1 col1\" >4.39%</td>\n",
       "      <td id=\"T_b7444_row1_col2\" class=\"data row1 col2\" >4.43%</td>\n",
       "    </tr>\n",
       "  </tbody>\n",
       "</table>\n"
      ],
      "text/plain": [
       "<pandas.io.formats.style.Styler at 0x11e60a5d0>"
      ]
     },
     "metadata": {},
     "output_type": "display_data"
    }
   ],
   "source": [
    "ytm_table = pd.DataFrame(index=['hypothetical T1','hypothetical T2'], columns=['hypothetical','callable','bloomberg'], dtype=float)\n",
    "\n",
    "for idx in ytm_table.index:\n",
    "        \n",
    "    if 'T1' in idx:\n",
    "        T = T1\n",
    "    elif 'T2' in idx:\n",
    "        T = T2\n",
    "\n",
    "    y = ytm(prices.loc[idx,'model'], T, cpnrate)[0]\n",
    "    ymkt = ytm(prices.loc['callable','market'], T, cpnrate)[0]\n",
    "    ytm_table.loc[idx,['hypothetical','callable']] = [y,ymkt]\n",
    "\n",
    "ytm_table = ytm_table.rename(index={'hypothetical T1':'T1','hypothetical T2':'T2'})\n",
    "ytm_table.loc[['T1','T2'],'bloomberg'] = quotes.loc[['YTM Call','YTM Maturity'],KEY_CALLABLE].values/100\n",
    "\n",
    "display(ytm_table.style.format('{:.2%}',na_rep='').set_caption('ytm'))"
   ]
  },
  {
   "cell_type": "markdown",
   "metadata": {},
   "source": [
    "### **<span style=\"color:red\">1.6. Duration</span>**"
   ]
  },
  {
   "cell_type": "code",
   "execution_count": 21,
   "metadata": {
    "jupyter": {
     "source_hidden": true
    }
   },
   "outputs": [],
   "source": [
    "RATESHOCK = .0001\n",
    "discs_adj = rates_to_discount_factors(discount_factors_to_rates(discs['discount']) + RATESHOCK).rename('discount').to_frame()\n",
    "\n",
    "Pspot_adj = price_bond(discs_adj,cpnrate=cpnrate,ttm=T2)\n",
    "Pspot_adj += accint\n",
    "Pfwd_adj = calc_forward_bond_price(Pspot_adj,Topt,discs_adj,cpnrate,face=FACE)\n",
    "\n",
    "Z_adj = discs_adj.loc[Topt_rounded,'discount']\n",
    "value_call_adj = black_option_price(Pfwd_adj, strike=K, implied_vol=ivol_price, time_to_expiry=Topt, discount_factor=Z_adj, option_type=\"call\")\n",
    "P_callable_adj = Pspot_adj - value_call_adj"
   ]
  },
  {
   "cell_type": "code",
   "execution_count": 22,
   "metadata": {
    "jupyter": {
     "source_hidden": true
    }
   },
   "outputs": [
    {
     "data": {
      "text/html": [
       "<style type=\"text/css\">\n",
       "</style>\n",
       "<table id=\"T_25594\">\n",
       "  <thead>\n",
       "    <tr>\n",
       "      <th class=\"blank level0\" >&nbsp;</th>\n",
       "      <th id=\"T_25594_level0_col0\" class=\"col_heading level0 col0\" >model</th>\n",
       "      <th id=\"T_25594_level0_col1\" class=\"col_heading level0 col1\" >shocked</th>\n",
       "    </tr>\n",
       "  </thead>\n",
       "  <tbody>\n",
       "    <tr>\n",
       "      <th id=\"T_25594_level0_row0\" class=\"row_heading level0 row0\" >forward</th>\n",
       "      <td id=\"T_25594_row0_col0\" class=\"data row0 col0\" >100.52</td>\n",
       "      <td id=\"T_25594_row0_col1\" class=\"data row0 col1\" >100.50</td>\n",
       "    </tr>\n",
       "    <tr>\n",
       "      <th id=\"T_25594_level0_row1\" class=\"row_heading level0 row1\" >strike</th>\n",
       "      <td id=\"T_25594_row1_col0\" class=\"data row1 col0\" >100.00</td>\n",
       "      <td id=\"T_25594_row1_col1\" class=\"data row1 col1\" ></td>\n",
       "    </tr>\n",
       "    <tr>\n",
       "      <th id=\"T_25594_level0_row2\" class=\"row_heading level0 row2\" >expiration</th>\n",
       "      <td id=\"T_25594_row2_col0\" class=\"data row2 col0\" >2.95</td>\n",
       "      <td id=\"T_25594_row2_col1\" class=\"data row2 col1\" ></td>\n",
       "    </tr>\n",
       "    <tr>\n",
       "      <th id=\"T_25594_level0_row3\" class=\"row_heading level0 row3\" >discount</th>\n",
       "      <td id=\"T_25594_row3_col0\" class=\"data row3 col0\" >0.89</td>\n",
       "      <td id=\"T_25594_row3_col1\" class=\"data row3 col1\" >0.89</td>\n",
       "    </tr>\n",
       "    <tr>\n",
       "      <th id=\"T_25594_level0_row4\" class=\"row_heading level0 row4\" >ivol rate</th>\n",
       "      <td id=\"T_25594_row4_col0\" class=\"data row4 col0\" >23.88%</td>\n",
       "      <td id=\"T_25594_row4_col1\" class=\"data row4 col1\" ></td>\n",
       "    </tr>\n",
       "    <tr>\n",
       "      <th id=\"T_25594_level0_row5\" class=\"row_heading level0 row5\" >ivol price</th>\n",
       "      <td id=\"T_25594_row5_col0\" class=\"data row5 col0\" >4.37%</td>\n",
       "      <td id=\"T_25594_row5_col1\" class=\"data row5 col1\" ></td>\n",
       "    </tr>\n",
       "    <tr>\n",
       "      <th id=\"T_25594_level0_row6\" class=\"row_heading level0 row6\" >call value</th>\n",
       "      <td id=\"T_25594_row6_col0\" class=\"data row6 col0\" >2.90</td>\n",
       "      <td id=\"T_25594_row6_col1\" class=\"data row6 col1\" >2.89</td>\n",
       "    </tr>\n",
       "  </tbody>\n",
       "</table>\n"
      ],
      "text/plain": [
       "<pandas.io.formats.style.Styler at 0x11e60a990>"
      ]
     },
     "execution_count": 22,
     "metadata": {},
     "output_type": "execute_result"
    }
   ],
   "source": [
    "option_table.loc['forward','shocked'] = Pfwd_adj\n",
    "option_table.loc['discount','shocked'] = Z_adj\n",
    "option_table.loc['call value','shocked'] = value_call_adj\n",
    "\n",
    "option_table.style.format('{:.2f}',na_rep='').format('{:.2%}',subset=pd.IndexSlice[[\"ivol rate\",\"ivol price\"], :],na_rep='')"
   ]
  },
  {
   "cell_type": "markdown",
   "metadata": {},
   "source": [
    "#### Shocked Prices"
   ]
  },
  {
   "cell_type": "code",
   "execution_count": 23,
   "metadata": {
    "jupyter": {
     "source_hidden": true
    }
   },
   "outputs": [
    {
     "data": {
      "text/html": [
       "<style type=\"text/css\">\n",
       "</style>\n",
       "<table id=\"T_03ebc\">\n",
       "  <caption>shocked prices</caption>\n",
       "  <thead>\n",
       "    <tr>\n",
       "      <th class=\"blank level0\" >&nbsp;</th>\n",
       "      <th id=\"T_03ebc_level0_col0\" class=\"col_heading level0 col0\" >model</th>\n",
       "    </tr>\n",
       "  </thead>\n",
       "  <tbody>\n",
       "    <tr>\n",
       "      <th id=\"T_03ebc_level0_row0\" class=\"row_heading level0 row0\" >hypothetical T1</th>\n",
       "      <td id=\"T_03ebc_row0_col0\" class=\"data row0 col0\" >101.05</td>\n",
       "    </tr>\n",
       "    <tr>\n",
       "      <th id=\"T_03ebc_level0_row1\" class=\"row_heading level0 row1\" >hypothetical T2</th>\n",
       "      <td id=\"T_03ebc_row1_col0\" class=\"data row1 col0\" >101.53</td>\n",
       "    </tr>\n",
       "    <tr>\n",
       "      <th id=\"T_03ebc_level0_row2\" class=\"row_heading level0 row2\" >callable</th>\n",
       "      <td id=\"T_03ebc_row2_col0\" class=\"data row2 col0\" >98.64</td>\n",
       "    </tr>\n",
       "    <tr>\n",
       "      <th id=\"T_03ebc_level0_row3\" class=\"row_heading level0 row3\" >embedded call</th>\n",
       "      <td id=\"T_03ebc_row3_col0\" class=\"data row3 col0\" >2.89</td>\n",
       "    </tr>\n",
       "  </tbody>\n",
       "</table>\n"
      ],
      "text/plain": [
       "<pandas.io.formats.style.Styler at 0x11e698190>"
      ]
     },
     "execution_count": 23,
     "metadata": {},
     "output_type": "execute_result"
    }
   ],
   "source": [
    "P_T1_adj = price_bond(discs_adj,cpnrate=cpnrate,ttm=T1)\n",
    "P_T1_adj += accint\n",
    "\n",
    "prices_adj = pd.DataFrame(index=prices.index, columns=['model'], dtype=float)\n",
    "prices_adj['model'] = [P_T1_adj, Pspot_adj, P_callable_adj, value_call_adj]\n",
    "prices_adj.style.format('{:.2f}',na_rep='').set_caption('shocked prices')"
   ]
  },
  {
   "cell_type": "markdown",
   "metadata": {},
   "source": [
    "#### Duration Table"
   ]
  },
  {
   "cell_type": "markdown",
   "metadata": {},
   "source": [
    "Compare to the duration formula for vanilla hypothetical bonds."
   ]
  },
  {
   "cell_type": "code",
   "execution_count": 24,
   "metadata": {
    "jupyter": {
     "source_hidden": true
    }
   },
   "outputs": [
    {
     "data": {
      "text/html": [
       "<style type=\"text/css\">\n",
       "</style>\n",
       "<table id=\"T_35505\">\n",
       "  <caption>duration</caption>\n",
       "  <thead>\n",
       "    <tr>\n",
       "      <th class=\"blank level0\" >&nbsp;</th>\n",
       "      <th id=\"T_35505_level0_col0\" class=\"col_heading level0 col0\" >formula</th>\n",
       "      <th id=\"T_35505_level0_col1\" class=\"col_heading level0 col1\" >numerical</th>\n",
       "    </tr>\n",
       "  </thead>\n",
       "  <tbody>\n",
       "    <tr>\n",
       "      <th id=\"T_35505_level0_row0\" class=\"row_heading level0 row0\" >hypothetical T1</th>\n",
       "      <td id=\"T_35505_row0_col0\" class=\"data row0 col0\" >2.80</td>\n",
       "      <td id=\"T_35505_row0_col1\" class=\"data row0 col1\" >2.80</td>\n",
       "    </tr>\n",
       "    <tr>\n",
       "      <th id=\"T_35505_level0_row1\" class=\"row_heading level0 row1\" >hypothetical T2</th>\n",
       "      <td id=\"T_35505_row1_col0\" class=\"data row1 col0\" >4.51</td>\n",
       "      <td id=\"T_35505_row1_col1\" class=\"data row1 col1\" >4.50</td>\n",
       "    </tr>\n",
       "    <tr>\n",
       "      <th id=\"T_35505_level0_row2\" class=\"row_heading level0 row2\" >callable</th>\n",
       "      <td id=\"T_35505_row2_col0\" class=\"data row2 col0\" ></td>\n",
       "      <td id=\"T_35505_row2_col1\" class=\"data row2 col1\" >3.57</td>\n",
       "    </tr>\n",
       "  </tbody>\n",
       "</table>\n"
      ],
      "text/plain": [
       "<pandas.io.formats.style.Styler at 0x11e6982d0>"
      ]
     },
     "execution_count": 24,
     "metadata": {},
     "output_type": "execute_result"
    }
   ],
   "source": [
    "duration_table = pd.DataFrame(index=['hypothetical T1','hypothetical T2','callable'], columns=['formula'], dtype=float)\n",
    "duration_table.loc['hypothetical T1','formula'] = duration_closed_formula(T1,ytm_table.loc['T1','hypothetical'],cpnrate = cpnrate)\n",
    "duration_table.loc['hypothetical T2','formula'] = duration_closed_formula(T2,ytm_table.loc['T2','hypothetical'],cpnrate = cpnrate)\n",
    "\n",
    "duration_table['numerical'] = -(prices_adj['model'] - prices['model']) / prices['model'] / RATESHOCK\n",
    "#duration_table.loc['callable','bloomberg'] = quotes.loc['Duration',KEY_CALLABLE]\n",
    "duration_table.style.format('{:.2f}',na_rep='').set_caption('duration')"
   ]
  },
  {
   "cell_type": "markdown",
   "metadata": {},
   "source": [
    "### **<span style=\"color:red\">1.7. OAS</span>**"
   ]
  },
  {
   "cell_type": "markdown",
   "metadata": {},
   "source": [
    "Recall that the Option Adjusted Spread is the necessary shift in the spot rate curve (or forward rate curve) needed to rationalize the market price.\n",
    "\n",
    "The OAS is typically calculated where the shifted rates..\n",
    "* do impact discounts\n",
    "* do NOT impact implied vols\n",
    "* do NOT impact cashflows\n",
    "\n",
    "For the callable bond, \n",
    "* the cashflows are not dependent on rates. \n",
    "* the implied price vol depends on the forward rate. But it has a minor impact relative to the discount channel."
   ]
  },
  {
   "cell_type": "code",
   "execution_count": 25,
   "metadata": {
    "jupyter": {
     "source_hidden": true
    }
   },
   "outputs": [
    {
     "data": {
      "text/html": [
       "<style type=\"text/css\">\n",
       "</style>\n",
       "<table id=\"T_f9d7e\">\n",
       "  <thead>\n",
       "    <tr>\n",
       "      <th class=\"blank level0\" >&nbsp;</th>\n",
       "      <th id=\"T_f9d7e_level0_col0\" class=\"col_heading level0 col0\" >callable</th>\n",
       "    </tr>\n",
       "  </thead>\n",
       "  <tbody>\n",
       "    <tr>\n",
       "      <th id=\"T_f9d7e_level0_row0\" class=\"row_heading level0 row0\" >model</th>\n",
       "      <td id=\"T_f9d7e_row0_col0\" class=\"data row0 col0\" >98.67</td>\n",
       "    </tr>\n",
       "    <tr>\n",
       "      <th id=\"T_f9d7e_level0_row1\" class=\"row_heading level0 row1\" >market</th>\n",
       "      <td id=\"T_f9d7e_row1_col0\" class=\"data row1 col0\" >100.09</td>\n",
       "    </tr>\n",
       "    <tr>\n",
       "      <th id=\"T_f9d7e_level0_row2\" class=\"row_heading level0 row2\" >OAS</th>\n",
       "      <td id=\"T_f9d7e_row2_col0\" class=\"data row2 col0\" >-0.40%</td>\n",
       "    </tr>\n",
       "  </tbody>\n",
       "</table>\n"
      ],
      "text/plain": [
       "<pandas.io.formats.style.Styler at 0x11e698410>"
      ]
     },
     "execution_count": 25,
     "metadata": {},
     "output_type": "execute_result"
    }
   ],
   "source": [
    "RECALC_IVOL = False\n",
    "oas_wrapper = lambda rateshock: price_callable_bond(discs,ttm=T2,tte=T1,cpnrate=cpnrate,ivol=ivol_price,strike=K,accint=accint,face=100,recalculate_ivol=RECALC_IVOL,rateshock=rateshock) - prices.loc['callable','market']\n",
    "oas = fsolve(oas_wrapper,0)[0]\n",
    "\n",
    "oas_table = prices.loc[['callable'],['model','market']].T\n",
    "oas_table.loc['OAS','callable'] = oas\n",
    "oas_table.style.format('{:.2f}').format('{:.2%}',subset=pd.IndexSlice[\"OAS\", :])"
   ]
  },
  {
   "cell_type": "code",
   "execution_count": 26,
   "metadata": {
    "jupyter": {
     "source_hidden": true
    }
   },
   "outputs": [
    {
     "data": {
      "image/png": "[encoded data removed]",
      "text/plain": [
       "<Figure size 1200x600 with 1 Axes>"
      ]
     },
     "metadata": {},
     "output_type": "display_data"
    }
   ],
   "source": [
    "RECALC_IVOL = False\n",
    "\n",
    "MAX_SHOCK = discs.loc[:Tmaturity,'spot rate'].min()\n",
    "scenarios = pd.DataFrame(index=np.arange(-MAX_SHOCK, MAX_SHOCK, .0005), columns=['callable'],dtype=float)\n",
    "\n",
    "for dr in scenarios.index:\n",
    "    scenarios.loc[dr] = price_callable_bond(discs,ttm=T2,tte=T1,cpnrate=cpnrate,ivol=ivol_price,strike=K,accint=accint,face=100,recalculate_ivol=RECALC_IVOL,rateshock=dr)\n",
    "\n",
    "num_cpns_Topt = np.ceil(Topt * cpnfreq)\n",
    "cum_payoffs_Topt = clean_strike+coupon_payment*num_cpns_Topt\n",
    "\n",
    "ax = scenarios[['callable']].plot()\n",
    "ax.axhline(dirty_strike,color='red',linestyle='--')\n",
    "ax.axhline(cum_payoffs_Topt,color='green',linestyle='--')\n",
    "plt.legend(['value of callable bond','payoff (at call)','payoff (cumulative to call)'])\n",
    "plt.show()"
   ]
  },
  {
   "cell_type": "markdown",
   "metadata": {},
   "source": [
    "### **<span style=\"color:red\">1.9. Other Callable Bonds</span>**"
   ]
  },
  {
   "cell_type": "markdown",
   "metadata": {},
   "source": [
    "At the top of the solution code, change `KEY_CALLABLE` to one of the other bonds to see analysis of the other callable bonds.\n",
    "\n",
    "Consider changing the option expiration to see the effect of time-to-expiration."
   ]
  },
  {
   "cell_type": "markdown",
   "metadata": {},
   "source": [
    "***"
   ]
  },
  {
   "cell_type": "markdown",
   "metadata": {},
   "source": [
    "# 2. Pricing Floors"
   ]
  },
  {
   "cell_type": "markdown",
   "metadata": {},
   "source": [
    "### Data\n",
    "\n",
    "The file `data/cap_curves_2025-01-31.xlsx` has market data on the following curves:\n",
    "* swap rates (SOFR)\n",
    "* discount factors\n",
    "* forward rates \n",
    "* flat volatilites\n",
    "\n",
    "A few details\n",
    "* the swap and forward rates are quarterly compounded.\n",
    "* the flat volatilites are (Black) quotes on caps containing caplets ranging from expiration of $\\tau=.5$ to $\\tau=T$."
   ]
  },
  {
   "cell_type": "markdown",
   "metadata": {},
   "source": [
    "### 2.1.\n",
    "\n",
    "Recall that a floor is a portfolio of floorlets which\n",
    "* depend on the realized interest rate one quarter before the expiration.\n",
    "* each have the same strike interest rate.\n",
    "\n",
    "Use Black's formula to price **just one floorlet**\n",
    "* expiring at `T=3`\n",
    "* struck at the `T=3` swap rate\n",
    "* notional of `100`\n",
    "* quarterly frequency"
   ]
  },
  {
   "cell_type": "markdown",
   "metadata": {},
   "source": [
    "### 2.2.\n",
    "\n",
    "Use Black's formula to price the entire floor with expiration of `T=3`.\n",
    "\n",
    "The floor has floorlets at `quarterly` frequency, except the first quarter."
   ]
  },
  {
   "cell_type": "markdown",
   "metadata": {},
   "source": [
    "***"
   ]
  },
  {
   "cell_type": "markdown",
   "metadata": {},
   "source": [
    "# **<span style=\"color:red\">Solution 2</span>**"
   ]
  },
  {
   "cell_type": "code",
   "execution_count": 27,
   "metadata": {
    "jupyter": {
     "source_hidden": true
    }
   },
   "outputs": [],
   "source": [
    "from ratecurves import *\n",
    "from ficcvol import *"
   ]
  },
  {
   "cell_type": "code",
   "execution_count": 28,
   "metadata": {
    "jupyter": {
     "source_hidden": true
    }
   },
   "outputs": [],
   "source": [
    "DATE = '2025-01-31'\n",
    "curves = pd.read_excel(f'../data/cap_curves_{DATE}.xlsx', sheet_name=f'rate curves {DATE}').set_index('tenor')"
   ]
  },
  {
   "cell_type": "markdown",
   "metadata": {},
   "source": [
    "### **<span style=\"color:red\">2.1. </span>**"
   ]
  },
  {
   "cell_type": "markdown",
   "metadata": {},
   "source": [
    "In using Black's formula for the caplet, be careful to use \n",
    "* $T-dt$ for the time-to-expiration, as the uncertainty of the floorlet is resolved one period early.\n",
    "* the **forward vol** as a given caplet is priced correctly with forward vol."
   ]
  },
  {
   "cell_type": "code",
   "execution_count": 29,
   "metadata": {
    "jupyter": {
     "source_hidden": true
    }
   },
   "outputs": [],
   "source": [
    "N = 100\n",
    "Tfloor = 3\n",
    "isPayer=False\n",
    "strikefloor = curves['swap rates'][Tfloor]\n",
    "freqfloor = 4\n",
    "\n",
    "fwdrate = curves.loc[Tfloor,'forwards']\n",
    "fwdvol = curves.loc[Tfloor,'fwd vols']\n",
    "\n",
    "Z = curves.loc[Tfloor,'discounts']"
   ]
  },
  {
   "cell_type": "code",
   "execution_count": 30,
   "metadata": {
    "jupyter": {
     "source_hidden": true
    }
   },
   "outputs": [
    {
     "data": {
      "text/plain": [
       "'Floorlet value at T=3 is $0.1463.'"
      ]
     },
     "metadata": {},
     "output_type": "display_data"
    }
   ],
   "source": [
    "floorlet_value = N * (1/freqfloor) * blacks_formula(Tfloor-1/freqfloor,fwdvol,strikefloor,fwdrate,Z,isCall=isPayer)\n",
    "display(f'Floorlet value at T={Tfloor} is ${floorlet_value:.4f}.')"
   ]
  },
  {
   "cell_type": "markdown",
   "metadata": {},
   "source": [
    "### **<span style=\"color:red\">2.2. </span>**"
   ]
  },
  {
   "cell_type": "markdown",
   "metadata": {},
   "source": [
    "We use the same procedure as pricing the individual floorlet, but for all floorlets in the floor. Two considerations:\n",
    "\n",
    "1. There is no floorlet expiring at $T=0.25$.\n",
    "1. The **flat vol** at $T=3$ can be used in every floorlet to price the overall floor. Equivalently can use the forward vol at the expiration of each floorlet."
   ]
  },
  {
   "cell_type": "code",
   "execution_count": 31,
   "metadata": {
    "jupyter": {
     "source_hidden": true
    }
   },
   "outputs": [],
   "source": [
    "maturities = np.arange(1/freqfloor,Tfloor+1/freqfloor,1/freqfloor)\n",
    "floorlets = pd.DataFrame(index=maturities,columns=['price'])\n",
    "\n",
    "for i,Tval in enumerate(floorlets.index):\n",
    "    if i==0:\n",
    "        floorlets.loc[Tval] = 0\n",
    "    else:\n",
    "        floorlets.loc[Tval] = N * (1/freqfloor) * blacks_formula(Tval-1/freqfloor,curves.loc[Tval,'fwd vols'],strikefloor,curves.loc[Tval,'forwards'],curves.loc[Tval,'discounts'],isCall=isPayer)                        "
   ]
  },
  {
   "cell_type": "code",
   "execution_count": 32,
   "metadata": {
    "jupyter": {
     "source_hidden": true
    }
   },
   "outputs": [
    {
     "data": {
      "text/html": [
       "<style type=\"text/css\">\n",
       "</style>\n",
       "<table id=\"T_cce9d\">\n",
       "  <thead>\n",
       "    <tr>\n",
       "      <th class=\"blank level0\" >&nbsp;</th>\n",
       "      <th id=\"T_cce9d_level0_col0\" class=\"col_heading level0 col0\" >price</th>\n",
       "    </tr>\n",
       "  </thead>\n",
       "  <tbody>\n",
       "    <tr>\n",
       "      <th id=\"T_cce9d_level0_row0\" class=\"row_heading level0 row0\" >0.25</th>\n",
       "      <td id=\"T_cce9d_row0_col0\" class=\"data row0 col0\" >$0.000000</td>\n",
       "    </tr>\n",
       "    <tr>\n",
       "      <th id=\"T_cce9d_level0_row1\" class=\"row_heading level0 row1\" >0.50</th>\n",
       "      <td id=\"T_cce9d_row1_col0\" class=\"data row1 col0\" >$0.005783</td>\n",
       "    </tr>\n",
       "    <tr>\n",
       "      <th id=\"T_cce9d_level0_row2\" class=\"row_heading level0 row2\" >0.75</th>\n",
       "      <td id=\"T_cce9d_row2_col0\" class=\"data row2 col0\" >$0.026128</td>\n",
       "    </tr>\n",
       "    <tr>\n",
       "      <th id=\"T_cce9d_level0_row3\" class=\"row_heading level0 row3\" >1.00</th>\n",
       "      <td id=\"T_cce9d_row3_col0\" class=\"data row3 col0\" >$0.048403</td>\n",
       "    </tr>\n",
       "    <tr>\n",
       "      <th id=\"T_cce9d_level0_row4\" class=\"row_heading level0 row4\" >1.25</th>\n",
       "      <td id=\"T_cce9d_row4_col0\" class=\"data row4 col0\" >$0.100422</td>\n",
       "    </tr>\n",
       "    <tr>\n",
       "      <th id=\"T_cce9d_level0_row5\" class=\"row_heading level0 row5\" >1.50</th>\n",
       "      <td id=\"T_cce9d_row5_col0\" class=\"data row5 col0\" >$0.112247</td>\n",
       "    </tr>\n",
       "    <tr>\n",
       "      <th id=\"T_cce9d_level0_row6\" class=\"row_heading level0 row6\" >1.75</th>\n",
       "      <td id=\"T_cce9d_row6_col0\" class=\"data row6 col0\" >$0.122743</td>\n",
       "    </tr>\n",
       "    <tr>\n",
       "      <th id=\"T_cce9d_level0_row7\" class=\"row_heading level0 row7\" >2.00</th>\n",
       "      <td id=\"T_cce9d_row7_col0\" class=\"data row7 col0\" >$0.128122</td>\n",
       "    </tr>\n",
       "    <tr>\n",
       "      <th id=\"T_cce9d_level0_row8\" class=\"row_heading level0 row8\" >2.25</th>\n",
       "      <td id=\"T_cce9d_row8_col0\" class=\"data row8 col0\" >$0.149285</td>\n",
       "    </tr>\n",
       "    <tr>\n",
       "      <th id=\"T_cce9d_level0_row9\" class=\"row_heading level0 row9\" >2.50</th>\n",
       "      <td id=\"T_cce9d_row9_col0\" class=\"data row9 col0\" >$0.147793</td>\n",
       "    </tr>\n",
       "    <tr>\n",
       "      <th id=\"T_cce9d_level0_row10\" class=\"row_heading level0 row10\" >2.75</th>\n",
       "      <td id=\"T_cce9d_row10_col0\" class=\"data row10 col0\" >$0.145856</td>\n",
       "    </tr>\n",
       "    <tr>\n",
       "      <th id=\"T_cce9d_level0_row11\" class=\"row_heading level0 row11\" >3.00</th>\n",
       "      <td id=\"T_cce9d_row11_col0\" class=\"data row11 col0\" >$0.146310</td>\n",
       "    </tr>\n",
       "  </tbody>\n",
       "</table>\n"
      ],
      "text/plain": [
       "<pandas.io.formats.style.Styler at 0x11e638050>"
      ]
     },
     "execution_count": 32,
     "metadata": {},
     "output_type": "execute_result"
    }
   ],
   "source": [
    "floorlets.style.format('${:.6f}').format_index('{:.2f}')"
   ]
  },
  {
   "cell_type": "code",
   "execution_count": 33,
   "metadata": {
    "jupyter": {
     "source_hidden": true
    }
   },
   "outputs": [
    {
     "data": {
      "text/html": [
       "<style type=\"text/css\">\n",
       "</style>\n",
       "<table id=\"T_784a9\">\n",
       "  <thead>\n",
       "    <tr>\n",
       "      <th class=\"blank level0\" >&nbsp;</th>\n",
       "      <th id=\"T_784a9_level0_col0\" class=\"col_heading level0 col0\" >floor</th>\n",
       "    </tr>\n",
       "  </thead>\n",
       "  <tbody>\n",
       "    <tr>\n",
       "      <th id=\"T_784a9_level0_row0\" class=\"row_heading level0 row0\" >price</th>\n",
       "      <td id=\"T_784a9_row0_col0\" class=\"data row0 col0\" >$1.1331</td>\n",
       "    </tr>\n",
       "  </tbody>\n",
       "</table>\n"
      ],
      "text/plain": [
       "<pandas.io.formats.style.Styler at 0x11e638190>"
      ]
     },
     "execution_count": 33,
     "metadata": {},
     "output_type": "execute_result"
    }
   ],
   "source": [
    "floor = floorlets.sum().to_frame().rename(columns={0:'floor'})\n",
    "floor.style.format('${:.4f}')"
   ]
  },
  {
   "cell_type": "markdown",
   "metadata": {},
   "source": [
    "***"
   ]
  },
  {
   "cell_type": "markdown",
   "metadata": {},
   "source": [
    "# 3. Stripping Caps"
   ]
  },
  {
   "cell_type": "markdown",
   "metadata": {},
   "source": [
    "### Data\n",
    "\n",
    "Continue with the file `data/cap_curves_2025-01-31.xlsx`."
   ]
  },
  {
   "cell_type": "markdown",
   "metadata": {},
   "source": [
    "### 3.1 Cap Prices\n",
    "\n",
    "For each cap maturity, $.5\\le T \\le 10$, use the flat volatility to get the price of the cap.\n",
    "\n",
    "Report the cap prices across expirations, $.5\\le T \\le 10$.\n",
    "\n",
    "Plot the cap prices across expirations."
   ]
  },
  {
   "cell_type": "markdown",
   "metadata": {},
   "source": [
    "### 3.2 Caplet Prices and Forward Volatilities\n",
    "\n",
    "Using the cap prices, strip out the\n",
    "* caplet prices\n",
    "* forward volatility at $\\tau$ which properly prices caplet $\\tau$ using Black's formula.\n",
    "\n",
    "List and plot the forward volatility versus the flat volatiltiy."
   ]
  },
  {
   "cell_type": "markdown",
   "metadata": {},
   "source": [
    "***"
   ]
  },
  {
   "cell_type": "markdown",
   "metadata": {},
   "source": [
    "# **<span style=\"color:red\">Solution 3</span>**"
   ]
  },
  {
   "cell_type": "code",
   "execution_count": 34,
   "metadata": {
    "jupyter": {
     "source_hidden": true
    }
   },
   "outputs": [],
   "source": [
    "DATE = '2025-01-31'\n",
    "curves = pd.read_excel(f'../data/cap_curves_{DATE}.xlsx', sheet_name=f'rate curves {DATE}').set_index('tenor')"
   ]
  },
  {
   "cell_type": "code",
   "execution_count": 35,
   "metadata": {
    "jupyter": {
     "source_hidden": true
    }
   },
   "outputs": [
    {
     "data": {
      "image/png": "[encoded data removed]",
      "text/plain": [
       "<Figure size 1200x600 with 1 Axes>"
      ]
     },
     "metadata": {},
     "output_type": "display_data"
    }
   ],
   "source": [
    "capcurves = flat_to_forward_vol(curves)\n",
    "\n",
    "capcurves[['flat vols','fwd vols']].plot();"
   ]
  }
 ],
 "metadata": {
  "kernelspec": {
   "display_name": "Python 3 (ipykernel)",
   "language": "python",
   "name": "python3"
  },
  "language_info": {
   "codemirror_mode": {
    "name": "ipython",
    "version": 3
   },
   "file_extension": ".py",
   "mimetype": "text/x-python",
   "name": "python",
   "nbconvert_exporter": "python",
   "pygments_lexer": "ipython3",
   "version": "3.13.1"
  }
 },
 "nbformat": 4,
 "nbformat_minor": 4
}
