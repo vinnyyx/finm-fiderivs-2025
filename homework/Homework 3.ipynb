{
 "cells": [
  {
   "cell_type": "markdown",
   "id": "d9408e56",
   "metadata": {},
   "source": [
    "# Homework 3\n",
    "\n",
    "## FINM 37500: Fixed Income Derivatives\n",
    "\n",
    "### Mark Hendricks\n",
    "\n",
    "#### Winter 2025"
   ]
  },
  {
   "cell_type": "markdown",
   "id": "d8c90df2-5830-4e7a-ae68-aa03552b2cf5",
   "metadata": {},
   "source": [
    "#### Notation Commands\n",
    "\n",
    "$$\\newcommand{\\cpn}{\\text{c}}$$\n",
    "$$\\newcommand{\\Tunder}{T_\\text{bond}}$$\n",
    "$$\\newcommand{\\accint}{\\xi}$$\n",
    "$$\\newcommand{\\convert}{\\psi}$$\n",
    "$$\\newcommand{\\ctd}{\\text{ctd}}$$\n",
    "\n",
    "$$\\newcommand{\\refrate}{r^{\\text{ref}}}$$\n",
    "$$\\newcommand{\\pfwd}{P_{\\text{fwd}}}$$\n",
    "$$\\newcommand{\\grossbasis}{B}$$\n",
    "$$\\newcommand{\\netbasis}{\\tilde{\\grossbasis}}$$\n",
    "$$\\newcommand{\\pnl}{\\Pi}$$\n",
    "\n",
    "$$\\newcommand{\\years}{\\tau}$$\n",
    "$$\\newcommand{\\yearsACT}{\\years_{\\text{act/360}}}$$\n",
    "\n",
    "$$\\newcommand{\\fwdprice}{\\mathcal{F}_{t\\to T}}$$\n",
    "$$\\newcommand{\\futprice}{F_{t\\to T}}$$\n",
    "\n",
    "$$\\newcommand{\\fwdpriceT}{\\mathcal{F}_{T\\to T}}$$\n",
    "$$\\newcommand{\\futpriceT}{F_{T\\to T}}$$\n",
    "\n",
    "$$\\newcommand{\\fwdpriceDT}{\\mathcal{F}_{t+h\\to T}}$$\n",
    "$$\\newcommand{\\futpriceDT}{F_{t+h\\to T}}$$\n",
    "\n",
    "$$\\newcommand{\\rrepo}{r^{\\text{repo}}}$$\n",
    "$$\\newcommand{\\carry}{\\widetilde{\\cpn}}$$"
   ]
  },
  {
   "cell_type": "markdown",
   "id": "eece8e44",
   "metadata": {},
   "source": [
    "***"
   ]
  },
  {
   "cell_type": "markdown",
   "id": "447c3b86",
   "metadata": {},
   "source": [
    "# 1. Trading Bonds"
   ]
  },
  {
   "cell_type": "markdown",
   "id": "131437f7",
   "metadata": {},
   "source": [
    "### Data\n",
    "\n",
    "The file `data/fut_bond_data_TYZ4_2024-08-01.xlsx` has market data on the following:\n",
    "* 10-year Treasury future, expiring December 2024\n",
    "* The specifications of the deliverable treasury bonds\n",
    "\n",
    "Suppose the present date is `2024-08-01`."
   ]
  },
  {
   "cell_type": "markdown",
   "id": "3fcc78e3-53e7-4e10-82dd-15036eeed0fd",
   "metadata": {},
   "source": [
    "### 1.1\n",
    "For each bond, calculate the \n",
    "* gross basis\n",
    "* carry\n",
    "* net basis \n",
    "\n",
    "Your calculations will be more accurate if you consider that it takes time for any trade to \"settle\". Assume it takes one day.\n",
    "\n",
    "#### Tip: Calculate Gross Basis using Conversion Factor\n",
    "\n",
    "$$\\underbrace{\\grossbasis_{t,t+\\tau}^i}_{\\text{gross basis}}=\\;  P_t^i - \\convert^i\\futprice$$\n",
    "\n",
    "where $\\convert$ denotes the **conversion factor** which is defined for each bond. You can find the conversion factor in the `conversion` column of the `bonds` sheet of the data.\n",
    "\n",
    "Why the use of a conversion factor?\n",
    "* The deliverable bonds differ in maturity and coupon, and thus range in value.\n",
    "* To account for this, CBOT uses a **conversion factor** such that the futures price at delivery for bond $i$ is\n",
    "$$\\futpriceT\\convert^i$$\n",
    "\n",
    "\n",
    "#### Tip: Calculate Net Basis as Gross Basis Minus Carry\n",
    "\n",
    "$$\\begin{align*}\n",
    "\\text{net basis} \\equiv \\netbasis^i_{t,T} =& \\grossbasis^i_{t,T} - \\left(\\cpn N - \\rrepo P_t^{i,\\text{dirty}}\\right)\\yearsACT\\\\\n",
    "=& \\grossbasis^i_{t,T} - \\left[\\cpn N - \\rrepo \\left(P_t^{i} + \\accint_t^i\\right)\\right]\\yearsACT\n",
    "\\end{align*}$$\n",
    "\n",
    "recalling that\n",
    "* $N$ denotes the notional, (here face value of 100)\n",
    "* $\\accint$ denotes accrued interest\n",
    "* $\\rrepo$ denotes the repo rate\n",
    "* $\\yearsACT$ denotes the time interval quoted as ACT/360"
   ]
  },
  {
   "cell_type": "markdown",
   "id": "41d8b344-4dfc-4339-9043-7a75d3db7f01",
   "metadata": {},
   "source": [
    "### 1.2.\n",
    "If you were required to put on a position today\n",
    "* long one of the bonds\n",
    "* short the future\n",
    "\n",
    "which would you choose based on the data provided in the spreadsheet?"
   ]
  },
  {
   "cell_type": "markdown",
   "id": "8883eca6-6346-4be5-99a5-81345c871fb6",
   "metadata": {},
   "source": [
    "### 1.3.\n",
    "\n",
    "Calculate the conversion factor for each bond. Report it to `6` decimal places.\n",
    "\n",
    "Do they match the conversion factor provided by Bloomberg?\n",
    "\n",
    "\n",
    "#### Tip: Calculating the Conversion Factor\n",
    "\n",
    "CBOT calculates the conversion for any bond as the discounted cashflows of the bond, where every cashflow is discounted by 6\\%.\n",
    "* Yes, this conversion factor formula always uses 6\\%, regardless of actual interest rates."
   ]
  },
  {
   "cell_type": "markdown",
   "id": "ea423f93-75fa-48d0-b789-d56563e5cb45",
   "metadata": {},
   "source": [
    "### 1.4 \n",
    "\n",
    "Calculate the forward price of each bond.\n",
    "\n",
    "Use the forward prices to do an alternate calculation of net basis, using the formula in the discussion notebook.\n",
    "\n",
    "Does this calculation agree with the net basis calculation which used gross basis minus carry?\n",
    "\n",
    "\n",
    "#### Calculate net basis using forward price \n",
    "\n",
    "Net basis is also calculated with the same formula as gross basis, but replacing the spot price with the forward price:\n",
    "\n",
    "$$\\text{net basis} \\equiv \\netbasis^i_{t,T} = \\fwdprice^i - \\futprice\\convert^i$$\n",
    "\n",
    "recalling that\n",
    "* $\\fwdprice$ denotes the forward price\n",
    "* $\\futprice$ denotes the futures price\n",
    "* $\\convert$ denotes the bond's conversion factor\n",
    "\n",
    "As we saw in Week 2, no-arbitrage (and frictionless markets) would imply the forward price is exactly the spot price minus carry, in which case this definition would match.\n",
    "\n",
    "### Forward Price\n",
    "\n",
    "The forward price is given by the no-arbitrage relationship:\n",
    "\n",
    "$$\\begin{align*}\n",
    "\\text{dirty} \\fwdprice =& (P_t^i + \\accint_t^i)\\left(1+\\rrepo_t\\, \\yearsACT\\right)\\\\\n",
    "\\fwdprice =& (P_t^i + \\accint^i_t)\\left(1+\\rrepo_t\\, \\yearsACT\\right) - \\accint_T\n",
    "\\end{align*}$$\n",
    "\n",
    "\n",
    "#### With interim coupons\n",
    "If there are interim coupons, the no-arbitrage relationship still holds,\n",
    "* buy the bond at the dirty price\n",
    "* simultaneously repo it\n",
    "* when the coupon pays, use it to reduce the repo balance\n",
    "* finally, at the terminal date, close out the repo\n",
    "\n",
    "$$\\begin{align*}\n",
    "\\text{dirty} \\fwdprice =& \\left[(P_t^i + \\accint_t)\\left(1+\\rrepo_t\\, \\tau_0\\right)-100\\frac{\\cpn}{2}\\right]\\left(1+\\rrepo_t\\, \\tau_1\\right)\\\\\n",
    "\\fwdprice =& \\left[(P^i_t + \\accint^i_t)\\left(1+\\rrepo_t\\, \\tau_0\\right)-100\\frac{\\cpn}{2}\\right]\\left(1+\\rrepo_t\\, \\tau_1\\right) - \\accint^i_T\n",
    "\\end{align*}$$\n",
    "where\n",
    "* $\\tau_0$ denotes the pre-coupon forward interval, $t_{\\text{coupon}}-t$ denoted as ACT/360\n",
    "* $\\tau_1$ denotes the pre-coupon forward interval, $T-t_{\\text{coupon}}$ denoted as ACT/360\n",
    "* note that $\\tau=\\tau_0+\\tau_1$, so the formula is simply splitting the forward interval into pre and post-coupon intervals."
   ]
  },
  {
   "cell_type": "markdown",
   "id": "74f599f8",
   "metadata": {},
   "source": [
    "***"
   ]
  },
  {
   "cell_type": "markdown",
   "id": "c832de74",
   "metadata": {},
   "source": [
    "# 2. Fed Funds Futures"
   ]
  },
  {
   "cell_type": "markdown",
   "id": "42fd696a",
   "metadata": {},
   "source": [
    "The file `data/fedfutures_2025-01-31.xlsx` has market data on the following:\n",
    "* Fed Fund Futures Chain out 18 months.\n",
    "* Dates of upcoming Fed meetings (approximated in 2026.)\n",
    "* Spot Fed Funds data\n",
    "* Prices of the futures chain on a historic date.\n",
    "\n",
    "Suppose the present date is `2024-01-31`."
   ]
  },
  {
   "cell_type": "markdown",
   "id": "d2193a95",
   "metadata": {},
   "source": [
    "### 2.1. Chart the Fed Futures Rates\n",
    "\n",
    "Chart the Fed Funds curve at\n",
    "* `2025-01-26`\n",
    "* `2025-01-31`\n",
    "\n",
    "Note that you are charting the implied Fed Funds Futures *rate*, not price.\n",
    "\n",
    "Comment on how today's **open interest** varies across the chain."
   ]
  },
  {
   "cell_type": "markdown",
   "id": "808edcc6",
   "metadata": {},
   "source": [
    "### 2.2 Extracting the Expected Path of Fed Funds Rates\n",
    "\n",
    "Assume the Fed...\n",
    "* sets the rate exactly at its list of meeting dates.\n",
    "* does not change the rate betweeen meeting dates.\n",
    "\n",
    "Use the present data to calculate--and plot--the implied set of expected Fed Funds rates as of each meeting date.\n",
    "\n",
    "#### Technical Point\n",
    "* Consider months, $t$, where there is a meeting, but such that in month $t+1$ there is no meeting.\n",
    "* There will be two reasonable ways to extract the expected fed funds rate:\n",
    "    1. Use the futures rate from the $t+1$-contract\n",
    "    2. Calculate the implied rate for the remainder of month $t$, knowing the expected rate at the end of month $t+1$.\n",
    "* These are both reasonable and will likely not differ much.\n",
    "\n",
    "Try to make reasonable assumptions as needed. to implement the calculation."
   ]
  },
  {
   "cell_type": "markdown",
   "id": "1d465d8d",
   "metadata": {},
   "source": [
    "### 2.3 Compare to the Historic Curve\n",
    "\n",
    "Use the price data in `2024` to extract the expectations at the previous date.\n",
    "* Note that you do not need to \"bootstrap\" up from the historic date to the current date. \n",
    "\n",
    "Compare this to the answer in the previous problem, for the current data."
   ]
  },
  {
   "cell_type": "markdown",
   "id": "fb88d353",
   "metadata": {},
   "source": [
    "***"
   ]
  }
 ],
 "metadata": {
  "hide_input": true,
  "kernelspec": {
   "display_name": "Python 3 (ipykernel)",
   "language": "python",
   "name": "python3"
  },
  "language_info": {
   "codemirror_mode": {
    "name": "ipython",
    "version": 3
   },
   "file_extension": ".py",
   "mimetype": "text/x-python",
   "name": "python",
   "nbconvert_exporter": "python",
   "pygments_lexer": "ipython3",
   "version": "3.13.1"
  }
 },
 "nbformat": 4,
 "nbformat_minor": 5
}
