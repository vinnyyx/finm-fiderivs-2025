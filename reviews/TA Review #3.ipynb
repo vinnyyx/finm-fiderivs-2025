{
 "cells": [
  {
   "cell_type": "markdown",
   "metadata": {},
   "source": [
    "# TA Review 3\n",
    "*3/4/2025*\n",
    "\n",
    "## FINM 37500 - 2025\n",
    "\n",
    "### UChicago Financial Mathematics\n",
    "\n",
    "* Burak Sekerci\n",
    "* bsekerci@uchicago.edu"
   ]
  },
  {
   "cell_type": "markdown",
   "metadata": {},
   "source": [
    "### Agenda\n",
    "\n",
    "- SABR\n",
    "- Treasury Futures\n",
    " <br>"
   ]
  },
  {
   "cell_type": "markdown",
   "metadata": {},
   "source": [
    "### SABR Review via Homework 2 Solutions ###"
   ]
  },
  {
   "cell_type": "markdown",
   "metadata": {},
   "source": [
    "### What is SABR?"
   ]
  },
  {
   "cell_type": "markdown",
   "metadata": {},
   "source": [
    "It is a way to model volatility. It fits volatility in a stochastic framework while using real World data. We have two processes:"
   ]
  },
  {
   "attachments": {
    "Screenshot 2025-02-23 at 12.17.18 PM.png": {
     "image/png": "[encoded data removed]"
    }
   },
   "cell_type": "markdown",
   "metadata": {},
   "source": [
    "![Screenshot 2025-02-23 at 12.17.18 PM.png](<attachment:Screenshot 2025-02-23 at 12.17.18 PM.png>)"
   ]
  },
  {
   "attachments": {
    "Screenshot 2025-02-23 at 12.17.35 PM.png": {
     "image/png": "[encoded data removed]"
    }
   },
   "cell_type": "markdown",
   "metadata": {},
   "source": [
    "![Screenshot 2025-02-23 at 12.17.35 PM.png](<attachment:Screenshot 2025-02-23 at 12.17.35 PM.png>)"
   ]
  },
  {
   "cell_type": "markdown",
   "metadata": {},
   "source": [
    "We have the forward process and the volatility process. We also have multiple parameters we need to optimize/set:\n",
    "\n",
    "- Beta: Set according to what you are trying to model. Usually using 0.5 or 0.75 for interest rate derivatives. \n",
    "- alpha: Sigma 0, you can simplify the problem of SABR by using the approximation for ATM options and only optimize for two parameters. \n",
    "- Rho: The correlation between the two Brownian motions shown above. Needs to be optimized. \n",
    "- Nu: Vol of vol. Needs to be optimized. "
   ]
  },
  {
   "cell_type": "markdown",
   "metadata": {},
   "source": [
    "### Homework 2 solutions ###"
   ]
  },
  {
   "cell_type": "code",
   "execution_count": 11,
   "metadata": {},
   "outputs": [],
   "source": [
    "import numpy as np\n",
    "import pandas as pd\n",
    "\n",
    "from datetime import date\n",
    "from datetime import datetime\n",
    "\n",
    "import sys\n",
    "sys.path.insert(0, '../cmds')\n",
    "from ficcvol import *\n",
    "from ratecurves import *\n",
    "from treasury_cmds import compound_rate\n",
    "from volskew import *\n",
    "\n",
    "import datetime\n",
    "import warnings\n",
    "warnings.filterwarnings('ignore',category=FutureWarning)\n",
    "\n",
    "import matplotlib.pyplot as plt\n",
    "import seaborn as sns\n",
    "%matplotlib inline\n",
    "plt.rcParams['figure.figsize'] = (12,6)\n",
    "plt.rcParams['font.size'] = 15\n",
    "plt.rcParams['legend.fontsize'] = 13\n",
    "\n",
    "import matplotlib.ticker as mtick\n",
    "from matplotlib.ticker import (MultipleLocator,\n",
    "                               FormatStrFormatter,\n",
    "                               AutoMinorLocator)"
   ]
  },
  {
   "cell_type": "code",
   "execution_count": null,
   "metadata": {},
   "outputs": [],
   "source": [
    "# Define the valuation date and frequency of the interest rate curve\n",
    "DATE = '2025-01-31'  # Valuation date for the swaption pricing\n",
    "freqcurve = 4  # Frequency of the interest rate curve (quarterly compounding)\n",
    "\n",
    "# Define swaption characteristics\n",
    "SWAP_TYPE = 'SOFR'  # Type of swap (SOFR-based fixed-for-floating swap)\n",
    "QUOTE_STYLE = 'black'  # Quoting style (Black’s model for implied volatilities)\n",
    "RELATIVE_STRIKE = 0  # ATM strike relative to forward swap rate\n",
    "\n",
    "expry = 1  # Swaption expiration in years (1 year)\n",
    "tenor = 4  # Underlying swap tenor in years (4 years)\n",
    "\n",
    "freqswap = 4  # Payment frequency of the underlying swap (quarterly)\n",
    "isPayer = True  # Defines whether it's a payer or receiver swaption\n",
    "N = 100  # Notional value of the swaption (used in pricing calculations)\n",
    "\n",
    "# Load interest rate curve data\n",
    "curves = pd.read_excel(f'../data/cap_curves_{DATE}.xlsx', \n",
    "                       sheet_name=f'rate curves {DATE}').set_index('tenor')\n",
    "\n",
    "# Define the expiration and maturity of the swaption\n",
    "Topt = expry  # Swaption expiration (T = 1 year)\n",
    "Tswap = Topt + tenor  # Swap maturity (T + 4 years = 5 years)\n",
    "\n",
    "# Extract forward interest rate for the expiration time\n",
    "fwdrate = curves['forwards'][Topt]  # Forward rate at the expiration of the swaption\n",
    "\n",
    "# Compute the forward swap rate for the 1y4y swaption\n",
    "fwdswap = calc_fwdswaprate(curves['discounts'], Topt, Tswap, freqswap=freqswap)\n",
    "\n",
    "# Load implied volatility data for swaptions\n",
    "voldata = pd.read_excel(f'../data/swaption_vol_data_{DATE}.xlsx')  # Load market swaption volatilities\n",
    "\n",
    "# Filter volatilities for the chosen swaption type, model, and date\n",
    "volquote = voldata.query(f'model==\"{QUOTE_STYLE}\"') \\\n",
    "                  .query(f'reference==\"{SWAP_TYPE}\"') \\\n",
    "                  .query(f'date==\"{DATE}\"')\n",
    "\n",
    "# Identify the specific swaption with 1-year expiration and 4-year tenor\n",
    "idx = (volquote['expiration'] == expry) & (volquote['tenor'] == tenor)\n",
    "volquote = volquote.loc[idx]  # Extract relevant row(s)\n",
    "volquote.index = ['implied vol']  # Rename index for clarity\n",
    "\n",
    "# Extract strike prices and implied volatilities\n",
    "strikerange = np.array(volquote.columns[-9:].tolist())  # Retrieve the range of strikes from the last 9 columns\n",
    "vols = volquote[strikerange]  # Store implied volatilities for corresponding strikes\n",
    "vols /= 100  # Convert volatilities from percentage format to decimal\n",
    "\n",
    "# Convert relative strike range into absolute strike prices\n",
    "strikes = fwdswap + strikerange / 100 / 100 ###strike range is relative this becomes absolute\n",
    "\n",
    "# Identify the index of the ATM strike\n",
    "idstrike = np.where(strikerange == RELATIVE_STRIKE)[0][0]  # Find the position of the ATM strike\n",
    "idstrikeATM = np.where(strikerange == 0)[0][0]  # Identify index where relative strike is exactly 0% (ATM)\n",
    "\n",
    "# Adjust volatilities if the quote style is \"normal\" instead of Black's model\n",
    "if QUOTE_STYLE == 'normal':\n",
    "    vols /= 100 * fwdrate  # Convert normal vol to Black vol by scaling with the forward rate\n",
    "\n",
    "# Extract the ATM cap volatility from the interest rate curve data\n",
    "capvol = curves.loc[Topt, 'fwd vols']  # Forward volatility for the cap at the swaption expiration\n",
    "\n",
    "# Extract the ATM strike and corresponding implied volatility\n",
    "strikeATM = strikes[idstrikeATM]  # Retrieve the absolute ATM strike price\n",
    "volATM = vols.iloc[0, idstrikeATM]  # Retrieve the ATM implied volatility\n",
    "\n",
    "# Find the index location of the forward rate for the swaption expiration (Topt)\n",
    "period_fwd = curves.index.get_loc(Topt)  \n",
    "\n",
    "# Find the index location of the forward rate for the swap maturity (Tswap)\n",
    "period_swap = curves.index.get_loc(Tswap) + 1  \n",
    "# - `Tswap` is the maturity of the underlying swap (Topt + tenor, e.g., 5 years)\n",
    "# - `+1` ensures that we include the swap maturity point\n",
    "\n",
    "# Determine the step size for extracting relevant discount factors\n",
    "step = round(freqcurve / freqswap)  \n",
    "# - `freqcurve` represents how often the curve is quoted (e.g., quarterly = 4)\n",
    "# - `freqswap` represents the frequency of payments on the swap (e.g., quarterly = 4)\n",
    "# - The step size ensures we select only relevant discount factors for cash flow periods\n",
    "\n",
    "# Compute the sum of discount factors relevant to the swap cash flows\n",
    "discount = curves['discounts'].iloc[period_fwd + step : period_swap : step].sum() / freqswap  \n",
    "# - Extracts the discount factors for each **swap payment period**:\n",
    "#   - Starts from `period_fwd + step` (first cash flow after swaption expiry)\n",
    "#   - Stops at `period_swap` (swap maturity)\n",
    "#   - Steps by `step` (quarterly intervals)\n",
    "# - Sums up the discount factors to get the **present value of swap cash flows**.\n",
    "# - Divides by `freqswap` to account for **payment frequency normalization**.\n"
   ]
  },
  {
   "cell_type": "code",
   "execution_count": 19,
   "metadata": {},
   "outputs": [],
   "source": [
    "def obj_fun(xargs):\n",
    "    nu = xargs[0]\n",
    "    rho = xargs[1]\n",
    "    alpha = xargs[2]\n",
    "    \n",
    "    ivolSABR = np.zeros(len(strikes))\n",
    "    \n",
    "    for i,strike in enumerate(strikes):\n",
    "         ivolSABR[i] = sabr(BETA,nu,rho,alpha,F,strike,Topt)\n",
    "    \n",
    "    error = ((ivolSABR - vols.values)**2).sum()\n",
    "    \n",
    "    return error\n",
    "\n",
    "\n",
    "def obj_fun_slim(xargs):\n",
    "    nu = xargs[0]\n",
    "    rho = xargs[1]\n",
    "    ivolSABR = np.zeros(len(strikes))\n",
    "    \n",
    "    for i,strike in enumerate(strikes):\n",
    "         ivolSABR[i] = sabr_slim(BETA,nu,rho,F,strike,Topt,volATM)\n",
    "    \n",
    "    error = ((ivolSABR - vols.values)**2).sum()\n",
    "    \n",
    "    return error"
   ]
  },
  {
   "cell_type": "code",
   "execution_count": 20,
   "metadata": {},
   "outputs": [],
   "source": [
    "doSLIM = False\n",
    "BETA = 0.75\n",
    "F = fwdswap-1e-8 ### Adjust the Forward swap rate for numerical stability"
   ]
  },
  {
   "cell_type": "code",
   "execution_count": 21,
   "metadata": {},
   "outputs": [],
   "source": [
    "if not doSLIM:\n",
    "    x0 = np.array([.6,0,.1])\n",
    "    fun = obj_fun\n",
    "else:\n",
    "    fun = obj_fun_slim\n",
    "    x0 = np.array([.6,0,.1])\n",
    "\n",
    "optim = minimize(fun,x0)\n",
    "xstar = optim.x\n",
    "nustar = xstar[0]\n",
    "rhostar = xstar[1]\n",
    "   \n",
    "if doSLIM:\n",
    "    alphastar = solve_alpha(BETA,nustar,rhostar,Topt,volATM,F)\n",
    "    ivolSABR = sabr_slim(BETA,nustar,rhostar,F,strikes,Topt,volATM)\n",
    "else:\n",
    "    alphastar = xstar[2]\n",
    "    ivolSABR = sabr(BETA,nustar,rhostar,alphastar,F,strikes,Topt)\n",
    "    \n",
    "error = optim.fun"
   ]
  },
  {
   "cell_type": "markdown",
   "metadata": {},
   "source": [
    "## 2.1 - Compute SABR Full"
   ]
  },
  {
   "cell_type": "markdown",
   "metadata": {},
   "source": [
    "We did our optimization for the full SABR model. "
   ]
  },
  {
   "cell_type": "code",
   "execution_count": 22,
   "metadata": {},
   "outputs": [
    {
     "data": {
      "text/html": [
       "<style type=\"text/css\">\n",
       "</style>\n",
       "<table id=\"T_6f4a1\">\n",
       "  <thead>\n",
       "    <tr>\n",
       "      <th class=\"blank level0\" >&nbsp;</th>\n",
       "      <th id=\"T_6f4a1_level0_col0\" class=\"col_heading level0 col0\" >SABR Parameters</th>\n",
       "    </tr>\n",
       "  </thead>\n",
       "  <tbody>\n",
       "    <tr>\n",
       "      <th id=\"T_6f4a1_level0_row0\" class=\"row_heading level0 row0\" >beta ($\\beta$)</th>\n",
       "      <td id=\"T_6f4a1_row0_col0\" class=\"data row0 col0\" >0.7500</td>\n",
       "    </tr>\n",
       "    <tr>\n",
       "      <th id=\"T_6f4a1_level0_row1\" class=\"row_heading level0 row1\" >alpha ($\\alpha$)</th>\n",
       "      <td id=\"T_6f4a1_row1_col0\" class=\"data row1 col0\" >0.1128</td>\n",
       "    </tr>\n",
       "    <tr>\n",
       "      <th id=\"T_6f4a1_level0_row2\" class=\"row_heading level0 row2\" >nu ($\\nu$)</th>\n",
       "      <td id=\"T_6f4a1_row2_col0\" class=\"data row2 col0\" >0.6914</td>\n",
       "    </tr>\n",
       "    <tr>\n",
       "      <th id=\"T_6f4a1_level0_row3\" class=\"row_heading level0 row3\" >rho ($\\rho$)</th>\n",
       "      <td id=\"T_6f4a1_row3_col0\" class=\"data row3 col0\" >-0.3447</td>\n",
       "    </tr>\n",
       "    <tr>\n",
       "      <th id=\"T_6f4a1_level0_row4\" class=\"row_heading level0 row4\" >fit error</th>\n",
       "      <td id=\"T_6f4a1_row4_col0\" class=\"data row4 col0\" >0.0000</td>\n",
       "    </tr>\n",
       "  </tbody>\n",
       "</table>\n"
      ],
      "text/plain": [
       "<pandas.io.formats.style.Styler at 0x16946f2e0>"
      ]
     },
     "execution_count": 22,
     "metadata": {},
     "output_type": "execute_result"
    }
   ],
   "source": [
    "param = pd.DataFrame([BETA,alphastar,nustar,rhostar,error],index=['beta ($\\\\beta$)','alpha ($\\\\alpha$)','nu ($\\\\nu$)','rho ($\\\\rho$)','fit error'],columns=['SABR Parameters']).style.format('{:.4f}')\n",
    "param"
   ]
  },
  {
   "cell_type": "markdown",
   "metadata": {},
   "source": [
    "## 2.2 - Plot the SABR grid"
   ]
  },
  {
   "cell_type": "code",
   "execution_count": 29,
   "metadata": {},
   "outputs": [
    {
     "data": {
      "image/png": "[encoded data removed]",
      "text/plain": [
       "<Figure size 1200x600 with 1 Axes>"
      ]
     },
     "metadata": {},
     "output_type": "display_data"
    }
   ],
   "source": [
    "# Define a grid of strikes for plotting the SABR volatility curve\n",
    "strikegrid = np.arange(.0025, .09, .0005)  # Creates a strike range from 0.25% to 9% with 5bps increments\n",
    "\n",
    "# Compute the SABR-implied volatilities for the strike grid\n",
    "if doSLIM:\n",
    "    ivolgrid = sabr_slim(BETA, nustar, rhostar, F, strikegrid, Topt, volATM)  \n",
    "    # If using the alternative method (SLIM), compute volatilities without α optimization\n",
    "else:\n",
    "    ivolgrid = sabr(BETA, nustar, rhostar, alphastar, F, strikegrid, Topt)  \n",
    "    # Otherwise, use the full SABR model with α estimated via optimization\n",
    "\n",
    "# Store the computed SABR volatility curve in a DataFrame\n",
    "sabrcurve = pd.DataFrame(ivolgrid, index=strikegrid, columns=['SABR'])  \n",
    "# This table will be used for plotting the fitted SABR volatility curve\n",
    "\n",
    "# Make a copy of the market-implied volatility quotes\n",
    "volquotes = vols.copy()\n",
    "\n",
    "# Add a row for the absolute strike prices\n",
    "volquotes.loc['strike'] = strikes  # Append strike prices as a new row\n",
    "\n",
    "# Transpose and reformat the volatility quotes for plotting\n",
    "volquotes = volquotes.T.set_index('strike').rename(columns={'implied vol': 'market quotes'})\n",
    "# - Transpose (`T`) so that strikes become index values\n",
    "# - Set index to strikes so we can compare market vs model volatilities\n",
    "# - Rename the 'implied vol' column to 'market quotes' for clarity\n",
    "\n",
    "# Plot the SABR volatility curve and market quotes\n",
    "fig, ax = plt.subplots()  # Create a figure and axis for plotting\n",
    "\n",
    "sabrcurve.plot(ax=ax)  # Plot the SABR-implied volatility curve\n",
    "volquotes.plot(linestyle='', marker='o', markersize=8, ax=ax)  \n",
    "# - Market quotes are plotted as discrete points ('o' markers)\n",
    "# - No connecting lines (`linestyle=''`)\n",
    "# - Larger marker size (`markersize=8`) to distinguish market data points\n",
    "\n",
    "plt.legend();  # Display a legend showing the different curves"
   ]
  },
  {
   "cell_type": "markdown",
   "metadata": {},
   "source": [
    "## 2.3 - Recalculate 1y4y swaption with a deep out of the money strike of 5%"
   ]
  },
  {
   "cell_type": "code",
   "execution_count": null,
   "metadata": {},
   "outputs": [
    {
     "data": {
      "text/plain": [
       "'Price of the OTM swaption at strike 5.00% is $0.3179.'"
      ]
     },
     "metadata": {},
     "output_type": "display_data"
    }
   ],
   "source": [
    "NEWSTRIKE = .05\n",
    "\n",
    "## Recalculate the volatility and price of the OTM swaption at a new strike of 5%\n",
    "\n",
    "if doSLIM:\n",
    "    newvol = sabr_slim(BETA,nustar,rhostar,F,NEWSTRIKE,Topt,volATM)\n",
    "else:\n",
    "    newvol = sabr(BETA,nustar,rhostar,alphastar,F,NEWSTRIKE,Topt)\n",
    "\n",
    "newprice = N * blacks_formula(Topt,newvol,NEWSTRIKE,fwdswap,discount,isCall=isPayer)\n",
    "display(f'Price of the OTM swaption at strike {NEWSTRIKE:.2%} is ${newprice:.4f}.')"
   ]
  },
  {
   "cell_type": "markdown",
   "metadata": {},
   "source": [
    "## Problem 3 - Shift the Forward by 50 bps"
   ]
  },
  {
   "cell_type": "code",
   "execution_count": 35,
   "metadata": {},
   "outputs": [
    {
     "data": {
      "text/plain": [
       "<matplotlib.legend.Legend at 0x172ac3e50>"
      ]
     },
     "execution_count": 35,
     "metadata": {},
     "output_type": "execute_result"
    },
    {
     "data": {
      "image/png": "[encoded data removed]",
      "text/plain": [
       "<Figure size 1200x600 with 1 Axes>"
      ]
     },
     "metadata": {},
     "output_type": "display_data"
    }
   ],
   "source": [
    "# Suppress warnings to avoid unnecessary output\n",
    "warnings.filterwarnings('ignore')\n",
    "\n",
    "# Define a shift of +50 basis points (bps) = 0.50% = 0.0050 in decimal\n",
    "SHIFT = +50 / 100 / 100  \n",
    "\n",
    "# Rename the original SABR volatility curve column for clarity\n",
    "sabrcurve.rename(columns={'SABR': f'SABR: underlying at {DATE}'}, inplace=True)\n",
    "\n",
    "# Compute the new SABR-implied volatility curve after shifting the forward rate up by 50bps\n",
    "if doSLIM:\n",
    "    sabrcurve[f'SABR: underlying + {SHIFT * 100 * 100:.0f}bps'] = sabr_slim(BETA, nustar, rhostar, F + SHIFT, strikegrid, Topt, volATM)\n",
    "else:\n",
    "    sabrcurve[f'SABR: underlying + {SHIFT * 100 * 100:.0f}bps'] = sabr(BETA, nustar, rhostar, alphastar, F + SHIFT, strikegrid, Topt)\n",
    "\n",
    "# Plot the original and shifted SABR volatility curves\n",
    "fig, ax = plt.subplots()\n",
    "sabrcurve.plot(ax=ax)\n",
    "\n",
    "# Adjust the plot window to focus on the ATM region\n",
    "plt.xlim([F - 0.01, F + 0.01])  \n",
    "plt.ylim([volATM - 0.05, volATM + 0.05])\n",
    "\n",
    "# Add vertical lines to indicate the original and shifted forward rates\n",
    "plt.axvline(F, color='k', linestyle='--', label=f'underlying at {DATE}')\n",
    "plt.axvline(F + SHIFT, color='k', linestyle=':', label=f'underlying + {SHIFT * 100 * 100:.0f}bps')\n",
    "\n",
    "# Label the plot and display the legend\n",
    "plt.ylabel('swaption implied volatility')\n",
    "plt.xlabel('strike')\n",
    "plt.legend()"
   ]
  },
  {
   "cell_type": "markdown",
   "metadata": {},
   "source": [
    "## 3.2 - "
   ]
  },
  {
   "cell_type": "code",
   "execution_count": 42,
   "metadata": {},
   "outputs": [
    {
     "data": {
      "text/html": [
       "<style type=\"text/css\">\n",
       "</style>\n",
       "<table id=\"T_b04ad\">\n",
       "  <thead>\n",
       "    <tr>\n",
       "      <th class=\"blank level0\" >&nbsp;</th>\n",
       "      <th id=\"T_b04ad_level0_col0\" class=\"col_heading level0 col0\" >no change in rates</th>\n",
       "      <th id=\"T_b04ad_level0_col1\" class=\"col_heading level0 col1\" >shift in rates</th>\n",
       "    </tr>\n",
       "  </thead>\n",
       "  <tbody>\n",
       "    <tr>\n",
       "      <th id=\"T_b04ad_level0_row0\" class=\"row_heading level0 row0\" >no change in vol</th>\n",
       "      <td id=\"T_b04ad_row0_col0\" class=\"data row0 col0\" >0.39</td>\n",
       "      <td id=\"T_b04ad_row0_col1\" class=\"data row0 col1\" >0.90</td>\n",
       "    </tr>\n",
       "    <tr>\n",
       "      <th id=\"T_b04ad_level0_row1\" class=\"row_heading level0 row1\" >dynamic vol</th>\n",
       "      <td id=\"T_b04ad_row1_col0\" class=\"data row1 col0\" >nan</td>\n",
       "      <td id=\"T_b04ad_row1_col1\" class=\"data row1 col1\" >0.98</td>\n",
       "    </tr>\n",
       "  </tbody>\n",
       "</table>\n"
      ],
      "text/plain": [
       "<pandas.io.formats.style.Styler at 0x172a931f0>"
      ]
     },
     "execution_count": 42,
     "metadata": {},
     "output_type": "execute_result"
    }
   ],
   "source": [
    "# Find the closest strike to the ATM forward swap rate\n",
    "idloc = (sabrcurve.index.to_series() - fwdswap).abs().idxmin()\n",
    "\n",
    "# Extract the SABR-implied volatilities for the ATM strike before and after the shift\n",
    "newvols = sabrcurve.loc[idloc]\n",
    "strikeATM = strikes[idstrikeATM]\n",
    "\n",
    "# Define the range of forward swap rates before and after the shift\n",
    "Frange = F + [0, SHIFT]\n",
    "\n",
    "# Find the period indices for swaption expiration and swap maturity\n",
    "period_fwd = curves.index.get_loc(Topt)\n",
    "period_swap = curves.index.get_loc(Tswap) + 1\n",
    "step = round(freqcurve / freqswap)  # Compute step size for quarterly payments\n",
    "\n",
    "# Compute the discount factor by summing up discount factors relevant to the swap cash flows\n",
    "discount = curves['discounts'].iloc[period_fwd + step : period_swap : step].sum() / freqswap\n",
    "\n",
    "# Compute swaption prices using Black's formula before and after the rate shift\n",
    "blackprices = pd.Series(\n",
    "    N * blacks_formula(Topt, newvols[0], NEWSTRIKE, Frange, discount, isCall=isPayer), \n",
    "    index=['no change in rates', 'shift in rates'], \n",
    "    name='no change in vol'\n",
    ").to_frame().T\n",
    "## This function has the no change in vol (newvols[0] is the old vol without the shift)\n",
    "\n",
    "# Compute swaption price after both the rate shift and volatility shift (dynamic vol pricing)\n",
    "blackprices.loc['dynamic vol', 'shift in rates'] = N * blacks_formula(\n",
    "    Topt, newvols[1], NEWSTRIKE, Frange[1], discount, isCall=isPayer\n",
    ")\n",
    "## This function has the change in vol (newvols[1] is the new vol with the shift)\n",
    "\n",
    "\n",
    "# Format and display results\n",
    "blackprices.style.format('{:.2f}')"
   ]
  },
  {
   "cell_type": "code",
   "execution_count": 40,
   "metadata": {},
   "outputs": [
    {
     "data": {
      "text/html": [
       "<style type=\"text/css\">\n",
       "</style>\n",
       "<table id=\"T_9ca8c\">\n",
       "  <thead>\n",
       "    <tr>\n",
       "      <th class=\"blank level0\" >&nbsp;</th>\n",
       "      <th id=\"T_9ca8c_level0_col0\" class=\"col_heading level0 col0\" >price change</th>\n",
       "    </tr>\n",
       "  </thead>\n",
       "  <tbody>\n",
       "    <tr>\n",
       "      <th id=\"T_9ca8c_level0_row0\" class=\"row_heading level0 row0\" >no change in vol</th>\n",
       "      <td id=\"T_9ca8c_row0_col0\" class=\"data row0 col0\" >102.52</td>\n",
       "    </tr>\n",
       "    <tr>\n",
       "      <th id=\"T_9ca8c_level0_row1\" class=\"row_heading level0 row1\" >dynamic vol</th>\n",
       "      <td id=\"T_9ca8c_row1_col0\" class=\"data row1 col0\" >119.04</td>\n",
       "    </tr>\n",
       "  </tbody>\n",
       "</table>\n"
      ],
      "text/plain": [
       "<pandas.io.formats.style.Styler at 0x173bcf430>"
      ]
     },
     "execution_count": 40,
     "metadata": {},
     "output_type": "execute_result"
    }
   ],
   "source": [
    "dprices = (blackprices[['shift in rates']] - blackprices.loc['no change in vol', 'no change in rates'])  \n",
    "# - `blackprices[['shift in rates']]` selects the column that contains swaption prices **after the rate shift**.\n",
    "# - `blackprices.loc['no change in vol', 'no change in rates']` selects the **original swaption price** (before rate and volatility shift).\n",
    "# - The difference gives the **absolute price change** due to the shift.\n",
    "\n",
    "# Rename the column for clarity\n",
    "dprices = dprices.rename(columns={'shift in rates': 'price change'})  \n",
    "# - Renames \"shift in rates\" to \"price change\" to clearly indicate what the column represents.\n",
    "\n",
    "# Compute the delta (sensitivity of swaption price to a 50bps change in the underlying forward rate)\n",
    "delta = dprices / SHIFT  \n",
    "# - `dprices` gives the absolute price change.\n",
    "# - `SHIFT` is **0.0050 (50bps in decimal)**.\n",
    "# - Dividing by `SHIFT` gives **delta**, which measures the price change per unit of forward rate change.\n",
    "\n",
    "# Format the delta values for better readability\n",
    "delta.style.format('{:.2f}')  \n",
    "# - Formats the numbers to **two decimal places** for clear output.\n",
    "# - `style.format('{:.2f}')` ensures the delta is displayed in a human-readable format.\n"
   ]
  },
  {
   "cell_type": "code",
   "execution_count": 39,
   "metadata": {},
   "outputs": [
    {
     "data": {
      "text/plain": [
       "'Relative change to delta:  16.11%.'"
      ]
     },
     "metadata": {},
     "output_type": "display_data"
    }
   ],
   "source": [
    "\n",
    "delta_relative_change = delta.pct_change().loc['dynamic vol','price change']\n",
    "display(f'Relative change to delta: {delta_relative_change : .2%}.')"
   ]
  },
  {
   "cell_type": "code",
   "execution_count": null,
   "metadata": {},
   "outputs": [],
   "source": []
  },
  {
   "cell_type": "markdown",
   "metadata": {},
   "source": [
    "## Treasury Futures ##"
   ]
  },
  {
   "cell_type": "markdown",
   "metadata": {},
   "source": [
    "#### Start with Forwards ####"
   ]
  },
  {
   "cell_type": "markdown",
   "metadata": {},
   "source": [
    "In order to understand treasury futures we need to understand forwards first. "
   ]
  },
  {
   "cell_type": "markdown",
   "metadata": {},
   "source": [
    "Forwards:\n",
    "-\tA forward contract is a commitment at time  t  to purchase an asset at future time  T  for a price  $\\mathcal{F}_{t,T}$ .\n",
    "-\tThe contract is structured so that its initial value is zero when entered.\n",
    "-\tUnlike options, the final value at expiration may be positive or negative for either party.\n",
    "-\tForwards are similar in nature to swaps and futures, though they differ in settlement and standardization"
   ]
  },
  {
   "cell_type": "markdown",
   "metadata": {},
   "source": [
    "You can think of a forward this way: I bought a bond, repo'd it at the repo rate and then bought it back at some future time. The person who bought it from me enjoyed the coupon of the bond and I enjoyed the repo rate. Now if the coupon rate of the bond is higher than the repo rate itself, the fair forward price of the bond is lower because I lost out on potential income that I could earn by holding the bond itself."
   ]
  },
  {
   "cell_type": "markdown",
   "metadata": {},
   "source": [
    "Carry is essentially the difference between the coupon rate and repo rate. If coupon > repo; forward price is lower and vice versa. Usually this is the case hence we call this effect the forward drop. "
   ]
  },
  {
   "cell_type": "markdown",
   "metadata": {},
   "source": [
    "#### On to the Futures ####"
   ]
  },
  {
   "cell_type": "markdown",
   "metadata": {},
   "source": [
    "# Differences Between Forwards and Treasury Futures\n",
    "\n",
    "## Similarities\n",
    "Both **forwards** and **futures** serve similar purposes in pricing, hedging, and speculation, but they have key structural differences.\n",
    "\n",
    "## Key Differences\n",
    "| Feature | **Forwards** | **Treasury Futures** |\n",
    "|---------|------------|----------------|\n",
    "| **Trading Venue** | Over-the-counter (OTC) | Exchange-traded (CBOT) |\n",
    "| **Standardization** | Customized terms | Standardized contracts |\n",
    "| **Credit Risk** | Counterparty risk | Exchange eliminates counterparty risk |\n",
    "| **Margin Requirement** | Usually none | Requires margin |\n",
    "| **Settlement** | Settles at expiration | Daily mark-to-market (MTM) settlement |\n",
    "| **Price Behavior** | Theoretical pricing model | Affected by MTM settlement and optionality |\n",
    "\n",
    "## Consequences of These Differences\n",
    "1. **Credit Risk:** Futures are centrally cleared, while forwards have counterparty risk.\n",
    "2. **Daily Settlement Affects Pricing:** Futures undergo daily MTM, leading to cash flow differences.\n",
    "3. **Cheapest-to-Deliver (CTD) Option:** Treasury futures allow for a range of deliverable bonds, influencing pricing.\n",
    "\n",
    "\n",
    "# Daily Settlement and Pricing\n",
    "\n",
    "## What is Daily Settlement?\n",
    "- Treasury futures undergo **daily mark-to-market (MTM) settlement**, meaning P&L is realized **daily** rather than at expiration.\n",
    "- This affects pricing because:\n",
    "  - Losses must be **paid immediately** (requires financing).\n",
    "  - Gains cannot be reinvested at the original rate.\n",
    "  - Due to this issue futures prices are lower than the forward prices because cashflows are asymmteric. \n",
    "    * When bond price is up, rates down, which means opportunity to invest the profit is not great. \n",
    "    * When bond price is down, rates are up, and losses are financed at this high rate. \n",
    "\n",
    "# Tailing the Hedge\n",
    "\n",
    "## Concept\n",
    "- Since futures contracts have **daily settlement**, they react more sensitively to price movements than forwards.\n",
    "- A futures hedge requires **fewer contracts** than a forward hedge.\n",
    "\n",
    "## Formula\n",
    "The number of futures contracts required is adjusted by a discount factor:\n",
    "$[ N_t^{\\text{fut}} = Z(t,T)N_t^{\\text{fwd}}]$\n",
    "where $(Z(t,T))$ is the discount factor:\n",
    "$[ Z(t,T) = \\frac{1}{1 + r^{\\text{repo}}(t,T) \\times \\text{Years}_{ACT/360}}]$"
   ]
  },
  {
   "cell_type": "markdown",
   "metadata": {},
   "source": [
    "## Bond Futures ##\n",
    "Bond futures are exchange-traded contracts obligating the buyer to take delivery of a Treasury bond at a specified future date and price.\n",
    "\n",
    "## Most-Traded Treasury Futures Contract\n",
    "- **10-Year U.S. Treasury Note Future (TY)**\n",
    "- Other contracts include:\n",
    "  - 2-Year, 5-Year, and 30-Year Treasury futures\n",
    "  - Ultra Treasury futures for longer maturities\n",
    "\n",
    "## Key Features\n",
    "- Standardized contract sizes and expiration dates\n",
    "- Centralized clearing reduces counterparty risk\n",
    "- Subject to **daily mark-to-market (MTM) settlement**\n",
    "\n",
    "---\n",
    "\n",
    "# Delivery, Pricing, and CTD\n",
    "\n",
    "## Delivery Options\n",
    "- Treasury futures allow for delivery of a range of Treasury bonds rather than a specific issue.\n",
    "- Example for 10-Year Treasury Futures:\n",
    "  - Any Treasury note with **6.5 to 10 years** remaining to maturity is eligible.\n",
    "  - Prevents market squeezes and ensures liquidity.\n",
    "\n",
    "## Conversion Factors\n",
    "- Not all deliverable bonds are equal; CBOT assigns **conversion factors** to adjust for differences in maturity and coupon.\n",
    "- Futures delivery price is adjusted by the bond's conversion factor:\n",
    "\n",
    "  $[\n",
    "  \\text{Invoice Price} = F_T \\times \\psi^i\n",
    "  ]$\n",
    "\n",
    "  where:\n",
    "  * $(F_T)$ is the futures settlement price.\n",
    "  * $(\\psi^i)$ is the conversion factor of bond $( i )$.\n",
    "\n",
    "## Cheapest-to-Deliver (CTD)\n",
    "- The CTD bond is the one with the **lowest delivery cost** for the short futures position.\n",
    "- As expiry gets closer, the cost to deliver each bond changes by the formula $P_i - F_T * \\psi^i$\n",
    "- CTD price satisfies:\n",
    "\n",
    "  $[\n",
    "  P_T^{\\text{CTD}} = \\psi^{\\text{CTD}} \\times F_T\n",
    "  ]$\n",
    "\n",
    "- This bond heavily influences the pricing of the futures contract.\n",
    "\n",
    "---\n",
    "Since Conversion Factors are built on 6% constant yield assumption:\n",
    "\n",
    "- \tLow-coupon bonds tend to be CTD in low-rate environments (below 6%).\n",
    "-   If the yield curve is flat than it should be that all maturities are attractive to deliver.  \n",
    "- \tA steepening curve shifts CTD to longer bonds, while a flattening curve shifts CTD to shorter bonds due to duration affects. |\n",
    "\n",
    "---\n",
    "\n",
    "# Optionality in Treasury Futures\n",
    "\n",
    "## Embedded Options for the Short Position\n",
    "- **EOM Option**: The short can choose any eligible bond for delivery even after the future contract has ceded trading. Since the future price is locked, and the spot prices keep moving, possible that a different bond becomes CTD than the bond which set the futures price at last trade date.\n",
    "- **Timing Option**: The short can deliver at any time during the delivery month. Result: If coupon rate > repo rate; wait until the very end to deliver to collect carry and retain option value. \n",
    "- **Wildcard Option**: The short can wait to see price movements after exchange close before choosing to deliver.\n",
    "\n",
    "## Impact on Pricing\n",
    "- These options **benefit the short**, making futures trade at a discount to theoretical forward prices.\n",
    "- CTD bond determination is dynamic, adjusting to rate movements.\n",
    "\n",
    "\n",
    "\n",
    "---\n"
   ]
  },
  {
   "cell_type": "markdown",
   "metadata": {},
   "source": [
    "# Basis Trading Overview\n",
    "\n",
    "## Definition\n",
    "Basis trading involves arbitraging the difference between the price of a Treasury bond and the futures contract in which it can be delivered.\n",
    "\n",
    "## Mechanics of a Basis Trade\n",
    "- **Long the bond** in the spot market.\n",
    "- **Short the corresponding Treasury futures contract**.\n",
    "- Adjust for the **conversion factor** to account for the difference in bond characteristics.\n",
    "\n",
    "## Key Trading Measures\n",
    "- **Gross Basis**: The price difference between the bond and its adjusted futures price.\n",
    "- **Net Basis**: The forward price difference after accounting for carry.\n",
    "\n",
    "---\n",
    "\n",
    "# Gross and Net Basis\n",
    "\n",
    "## Gross Basis Formula\n",
    "$[\n",
    "    \\text{Gross Basis} = P_t^i - \\psi^i F_T\n",
    "]$\n",
    "where:\n",
    "- $(P_t^i)$ is the **spot price** of bond $(i)$.\n",
    "- $(\\psi^i)$ is the **conversion factor**.\n",
    "- $(F_T)$ is the **futures price**.\n",
    "\n",
    "## Net Basis Formula\n",
    "$[\n",
    "    \\text{Net Basis} = \\text{Gross Basis} - \\text{Carry}\n",
    "]$\n",
    "where:\n",
    "- **Carry** = Coupon Income - Repo Cost.\n",
    "\n",
    "## Convergence at Expiry\n",
    "At expiration $(T):\n",
    "[\n",
    "    \\text{Gross Basis}_T = \\text{Net Basis}_T = 0\n",
    "]$\n",
    "This means that at expiration, the bond and futures contract prices must align exactly.\n",
    "\n",
    "---\n",
    "\n",
    "# The Role of Repo and Carry\n",
    "\n",
    "## Repo in Basis Trading\n",
    "- The ability to **finance the bond via repo** is crucial.\n",
    "- If the repo rate is **high**, the cost of holding the bond increases, lowering net basis.\n",
    "- If the repo rate is **low**, holding the bond is cheaper, increasing net basis.\n",
    "\n",
    "## Carry in Basis Trading\n",
    "$[\n",
    "    \\text{Carry}^i = \\text{Coupon}^i - \\text{Repo Rate}\n",
    "]$\n",
    "- **Positive Carry**: The bond’s coupon is **higher** than the repo rate.\n",
    "- **Negative Carry**: The bond’s coupon is **lower** than the repo rate.\n",
    "\n",
    "Understanding repo rates and carry dynamics is essential to structuring profitable basis trades."
   ]
  },
  {
   "cell_type": "code",
   "execution_count": 8,
   "metadata": {},
   "outputs": [
    {
     "name": "stdout",
     "output_type": "stream",
     "text": [
      "Gross Basis: 2.7850\n",
      "Coupon Income: 4.0000\n",
      "Repo Cost: 3.0750\n",
      "Carry: 0.4625\n",
      "Net Basis: 2.3225\n"
     ]
    }
   ],
   "source": [
    "# Sample values for a Treasury bond\n",
    "spot_price = 102.50  # Spot price of the bond\n",
    "futures_price = 101.75  # Futures price\n",
    "conversion_factor = 0.98  # Conversion factor\n",
    "repo_rate = 0.03  # 3% annualized repo rate\n",
    "coupon = 0.04  # 4% annualized coupon\n",
    "face_value = 100  # Standard bond face value\n",
    "daysToExpiry = 180  # Days to expiry\n",
    "\n",
    "dirty_price = spot_price  # Assuming no major accrued interest, if there is accrued interest add this\n",
    "\n",
    "# Compute Gross Basis\n",
    "gross_basis = spot_price - (conversion_factor * futures_price)\n",
    "\n",
    "# Compute Coupon Income\n",
    "coupon_income = (face_value * coupon)\n",
    "\n",
    "# Compute Repo Cost\n",
    "repo_cost = dirty_price * repo_rate\n",
    "\n",
    "# Compute Carry\n",
    "carry = (coupon_income - repo_cost) * daysToExpiry / 360 # Scale because we are using annualized rates\n",
    "\n",
    "# Compute Net Basis\n",
    "net_basis = gross_basis - carry\n",
    "\n",
    "print(f\"Gross Basis: {gross_basis:.4f}\")\n",
    "print(f\"Coupon Income: {coupon_income:.4f}\")\n",
    "print(f\"Repo Cost: {repo_cost:.4f}\")\n",
    "print(f\"Carry: {carry:.4f}\")\n",
    "print(f\"Net Basis: {net_basis:.4f}\")"
   ]
  },
  {
   "cell_type": "code",
   "execution_count": null,
   "metadata": {},
   "outputs": [],
   "source": []
  }
 ],
 "metadata": {
  "kernelspec": {
   "display_name": "Python 3",
   "language": "python",
   "name": "python3"
  },
  "language_info": {
   "codemirror_mode": {
    "name": "ipython",
    "version": 3
   },
   "file_extension": ".py",
   "mimetype": "text/x-python",
   "name": "python",
   "nbconvert_exporter": "python",
   "pygments_lexer": "ipython3",
   "version": "3.10.0"
  }
 },
 "nbformat": 4,
 "nbformat_minor": 2
}
